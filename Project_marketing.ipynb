{
 "cells": [
  {
   "cell_type": "code",
   "execution_count": 1,
   "id": "fce10c49-472c-4def-b35e-4e5100037ea3",
   "metadata": {},
   "outputs": [
    {
     "name": "stdout",
     "output_type": "stream",
     "text": [
      "Requirement already satisfied: missingno in c:\\users\\79284\\appdata\\local\\programs\\python\\python312\\lib\\site-packages (0.5.2)\n",
      "Requirement already satisfied: numpy in c:\\users\\79284\\appdata\\local\\programs\\python\\python312\\lib\\site-packages (from missingno) (1.26.4)\n",
      "Requirement already satisfied: matplotlib in c:\\users\\79284\\appdata\\roaming\\python\\python312\\site-packages (from missingno) (3.9.0)\n",
      "Requirement already satisfied: scipy in c:\\users\\79284\\appdata\\local\\programs\\python\\python312\\lib\\site-packages (from missingno) (1.13.1)\n",
      "Requirement already satisfied: seaborn in c:\\users\\79284\\appdata\\local\\programs\\python\\python312\\lib\\site-packages (from missingno) (0.13.2)\n",
      "Requirement already satisfied: contourpy>=1.0.1 in c:\\users\\79284\\appdata\\local\\programs\\python\\python312\\lib\\site-packages (from matplotlib->missingno) (1.2.1)\n",
      "Requirement already satisfied: cycler>=0.10 in c:\\users\\79284\\appdata\\local\\programs\\python\\python312\\lib\\site-packages (from matplotlib->missingno) (0.12.1)\n",
      "Requirement already satisfied: fonttools>=4.22.0 in c:\\users\\79284\\appdata\\local\\programs\\python\\python312\\lib\\site-packages (from matplotlib->missingno) (4.51.0)\n",
      "Requirement already satisfied: kiwisolver>=1.3.1 in c:\\users\\79284\\appdata\\local\\programs\\python\\python312\\lib\\site-packages (from matplotlib->missingno) (1.4.5)\n",
      "Requirement already satisfied: packaging>=20.0 in c:\\users\\79284\\appdata\\local\\programs\\python\\python312\\lib\\site-packages (from matplotlib->missingno) (24.0)\n",
      "Requirement already satisfied: pillow>=8 in c:\\users\\79284\\appdata\\local\\programs\\python\\python312\\lib\\site-packages (from matplotlib->missingno) (10.3.0)\n",
      "Requirement already satisfied: pyparsing>=2.3.1 in c:\\users\\79284\\appdata\\local\\programs\\python\\python312\\lib\\site-packages (from matplotlib->missingno) (3.1.2)\n",
      "Requirement already satisfied: python-dateutil>=2.7 in c:\\users\\79284\\appdata\\local\\programs\\python\\python312\\lib\\site-packages (from matplotlib->missingno) (2.9.0.post0)\n",
      "Requirement already satisfied: pandas>=1.2 in c:\\users\\79284\\appdata\\local\\programs\\python\\python312\\lib\\site-packages (from seaborn->missingno) (2.2.2)\n",
      "Requirement already satisfied: pytz>=2020.1 in c:\\users\\79284\\appdata\\local\\programs\\python\\python312\\lib\\site-packages (from pandas>=1.2->seaborn->missingno) (2024.1)\n",
      "Requirement already satisfied: tzdata>=2022.7 in c:\\users\\79284\\appdata\\local\\programs\\python\\python312\\lib\\site-packages (from pandas>=1.2->seaborn->missingno) (2024.1)\n",
      "Requirement already satisfied: six>=1.5 in c:\\users\\79284\\appdata\\local\\programs\\python\\python312\\lib\\site-packages (from python-dateutil>=2.7->matplotlib->missingno) (1.16.0)\n"
     ]
    },
    {
     "name": "stderr",
     "output_type": "stream",
     "text": [
      "WARNING: Ignoring invalid distribution ~atplotlib (C:\\Users\\79284\\AppData\\Local\\Programs\\Python\\Python312\\Lib\\site-packages)\n",
      "WARNING: Ignoring invalid distribution ~otebook (C:\\Users\\79284\\AppData\\Local\\Programs\\Python\\Python312\\Lib\\site-packages)\n",
      "WARNING: Ignoring invalid distribution ~atplotlib (C:\\Users\\79284\\AppData\\Local\\Programs\\Python\\Python312\\Lib\\site-packages)\n",
      "WARNING: Ignoring invalid distribution ~otebook (C:\\Users\\79284\\AppData\\Local\\Programs\\Python\\Python312\\Lib\\site-packages)\n",
      "WARNING: Ignoring invalid distribution ~atplotlib (C:\\Users\\79284\\AppData\\Local\\Programs\\Python\\Python312\\Lib\\site-packages)\n",
      "WARNING: Ignoring invalid distribution ~otebook (C:\\Users\\79284\\AppData\\Local\\Programs\\Python\\Python312\\Lib\\site-packages)\n"
     ]
    }
   ],
   "source": [
    "!pip install missingno"
   ]
  },
  {
   "cell_type": "markdown",
   "id": "5df1e4ae-7d49-4158-9f89-24581b615ae0",
   "metadata": {},
   "source": [
    "### ЭТАПЫ ВЫПОЛНЕНИЯ РАБОТЫ\n",
    "1. [Загрузка и предобработка данных](#start)\n",
    "2. [Подготовка данных](#start_1)\n",
    "3. [Обучение моделей](#start_2)\n",
    "4. [Выводы](#start_3)"
   ]
  },
  {
   "cell_type": "code",
   "execution_count": 2,
   "id": "7943e120-b8d0-4df9-8743-63cfeb7abfcc",
   "metadata": {},
   "outputs": [],
   "source": [
    "import pandas as pd\n",
    "import numpy as np \n",
    "import matplotlib.pyplot as plt\n",
    "import seaborn as sns\n",
    "from urllib.parse import urlencode \n",
    "from scipy import stats as st\n",
    "import statistics as stat\n",
    "from sklearn.preprocessing import StandardScaler\n",
    "import pandas as pd\n",
    "import seaborn as sns\n",
    "import math\n",
    "from sklearn.metrics import confusion_matrix\n",
    "import matplotlib.pyplot as plt\n",
    "import itertools\n",
    "from sklearn.linear_model import LogisticRegression, Lasso, Ridge\n",
    "from sklearn.preprocessing import StandardScaler\n",
    "from sklearn.model_selection import train_test_split\n",
    "from sklearn.metrics import mean_absolute_error, mean_squared_error, r2_score\n",
    "import numpy as np\n",
    "import scipy.stats as st\n",
    "from scipy.stats import spearmanr\n",
    "from patsy import dmatrices\n",
    "from statsmodels.stats.outliers_influence import variance_inflation_factor\n",
    "from sklearn.metrics import precision_recall_curve\n",
    "from sklearn.impute import SimpleImputer \n",
    "from sklearn.pipeline import Pipeline\n",
    "from sklearn.compose import ColumnTransformer\n",
    "from sklearn.preprocessing import OneHotEncoder, OrdinalEncoder, StandardScaler, MinMaxScaler, LabelEncoder\n",
    "from sklearn.model_selection import RandomizedSearchCV\n",
    "from sklearn.inspection import permutation_importance\n",
    "from sklearn.feature_selection import SelectKBest, mutual_info_classif\n",
    "from numpy import median, mean\n",
    "from sklearn.metrics import make_scorer\n",
    "from sklearn.dummy import DummyRegressor, DummyClassifier\n",
    "import statistics as stat\n",
    "import phik\n",
    "from phik import phik_matrix\n",
    "from phik.report import plot_correlation_matrix\n",
    "import lightgbm as lgb\n",
    "import time\n",
    "import missingno as msno\n",
    "from scipy.optimize import curve_fit\n",
    "import ast\n",
    "import requests, json, io\n",
    "from datetime import datetime, timedelta\n",
    "from sklearn.tree import DecisionTreeClassifier\n",
    "from sklearn.linear_model import LogisticRegression, Lasso, Ridge\n",
    "from sklearn.neighbors import KNeighborsClassifier\n",
    "from sklearn.svm import SVC\n",
    "from sklearn.metrics import roc_auc_score\n",
    "from sklearn.ensemble import GradientBoostingClassifier, RandomForestClassifier\n",
    "import shap"
   ]
  },
  {
   "cell_type": "markdown",
   "id": "52c3cef4-bb0f-4d68-89c9-cc0f55afb5af",
   "metadata": {},
   "source": [
    "## Загрузка и предобработка данных\n",
    "   <a id=\"start\"></a>"
   ]
  },
  {
   "cell_type": "code",
   "execution_count": 3,
   "id": "a0733078-b710-4d7a-902b-b2c33e7534d2",
   "metadata": {},
   "outputs": [],
   "source": [
    "df_1 = pd.read_csv('C:\\\\Users\\\\79284\\\\Documents\\\\Мастер_2\\\\filtered_data\\\\apparel-purchases.csv', parse_dates=['date'])"
   ]
  },
  {
   "cell_type": "code",
   "execution_count": 4,
   "id": "7ab17988-0505-41dc-bf88-5838c21b7e1b",
   "metadata": {},
   "outputs": [
    {
     "data": {
      "text/html": [
       "<div>\n",
       "<style scoped>\n",
       "    .dataframe tbody tr th:only-of-type {\n",
       "        vertical-align: middle;\n",
       "    }\n",
       "\n",
       "    .dataframe tbody tr th {\n",
       "        vertical-align: top;\n",
       "    }\n",
       "\n",
       "    .dataframe thead th {\n",
       "        text-align: right;\n",
       "    }\n",
       "</style>\n",
       "<table border=\"1\" class=\"dataframe\">\n",
       "  <thead>\n",
       "    <tr style=\"text-align: right;\">\n",
       "      <th></th>\n",
       "      <th>client_id</th>\n",
       "      <th>quantity</th>\n",
       "      <th>price</th>\n",
       "      <th>category_ids</th>\n",
       "      <th>date</th>\n",
       "      <th>message_id</th>\n",
       "    </tr>\n",
       "  </thead>\n",
       "  <tbody>\n",
       "    <tr>\n",
       "      <th>0</th>\n",
       "      <td>1515915625468169594</td>\n",
       "      <td>1</td>\n",
       "      <td>1999.0</td>\n",
       "      <td>['4', '28', '57', '431']</td>\n",
       "      <td>2022-05-16</td>\n",
       "      <td>1515915625468169594-4301-627b661e9736d</td>\n",
       "    </tr>\n",
       "    <tr>\n",
       "      <th>1</th>\n",
       "      <td>1515915625468169594</td>\n",
       "      <td>1</td>\n",
       "      <td>2499.0</td>\n",
       "      <td>['4', '28', '57', '431']</td>\n",
       "      <td>2022-05-16</td>\n",
       "      <td>1515915625468169594-4301-627b661e9736d</td>\n",
       "    </tr>\n",
       "    <tr>\n",
       "      <th>2</th>\n",
       "      <td>1515915625471138230</td>\n",
       "      <td>1</td>\n",
       "      <td>6499.0</td>\n",
       "      <td>['4', '28', '57', '431']</td>\n",
       "      <td>2022-05-16</td>\n",
       "      <td>1515915625471138230-4437-6282242f27843</td>\n",
       "    </tr>\n",
       "    <tr>\n",
       "      <th>3</th>\n",
       "      <td>1515915625471138230</td>\n",
       "      <td>1</td>\n",
       "      <td>4999.0</td>\n",
       "      <td>['4', '28', '244', '432']</td>\n",
       "      <td>2022-05-16</td>\n",
       "      <td>1515915625471138230-4437-6282242f27843</td>\n",
       "    </tr>\n",
       "    <tr>\n",
       "      <th>4</th>\n",
       "      <td>1515915625471138230</td>\n",
       "      <td>1</td>\n",
       "      <td>4999.0</td>\n",
       "      <td>['4', '28', '49', '413']</td>\n",
       "      <td>2022-05-16</td>\n",
       "      <td>1515915625471138230-4437-6282242f27843</td>\n",
       "    </tr>\n",
       "  </tbody>\n",
       "</table>\n",
       "</div>"
      ],
      "text/plain": [
       "             client_id  quantity   price               category_ids  \\\n",
       "0  1515915625468169594         1  1999.0   ['4', '28', '57', '431']   \n",
       "1  1515915625468169594         1  2499.0   ['4', '28', '57', '431']   \n",
       "2  1515915625471138230         1  6499.0   ['4', '28', '57', '431']   \n",
       "3  1515915625471138230         1  4999.0  ['4', '28', '244', '432']   \n",
       "4  1515915625471138230         1  4999.0   ['4', '28', '49', '413']   \n",
       "\n",
       "        date                              message_id  \n",
       "0 2022-05-16  1515915625468169594-4301-627b661e9736d  \n",
       "1 2022-05-16  1515915625468169594-4301-627b661e9736d  \n",
       "2 2022-05-16  1515915625471138230-4437-6282242f27843  \n",
       "3 2022-05-16  1515915625471138230-4437-6282242f27843  \n",
       "4 2022-05-16  1515915625471138230-4437-6282242f27843  "
      ]
     },
     "execution_count": 4,
     "metadata": {},
     "output_type": "execute_result"
    }
   ],
   "source": [
    "df_1[:5]"
   ]
  },
  {
   "cell_type": "code",
   "execution_count": 5,
   "id": "6eb2e886-bca1-47b8-993e-3b210702b741",
   "metadata": {},
   "outputs": [
    {
     "name": "stdout",
     "output_type": "stream",
     "text": [
      "<class 'pandas.core.frame.DataFrame'>\n",
      "RangeIndex: 202208 entries, 0 to 202207\n",
      "Data columns (total 6 columns):\n",
      " #   Column        Non-Null Count   Dtype         \n",
      "---  ------        --------------   -----         \n",
      " 0   client_id     202208 non-null  int64         \n",
      " 1   quantity      202208 non-null  int64         \n",
      " 2   price         202208 non-null  float64       \n",
      " 3   category_ids  202208 non-null  object        \n",
      " 4   date          202208 non-null  datetime64[ns]\n",
      " 5   message_id    202208 non-null  object        \n",
      "dtypes: datetime64[ns](1), float64(1), int64(2), object(2)\n",
      "memory usage: 9.3+ MB\n"
     ]
    }
   ],
   "source": [
    "df_1.info()"
   ]
  },
  {
   "cell_type": "code",
   "execution_count": 6,
   "id": "e644e13e-1f19-497b-83ba-0f9e7bdd0b86",
   "metadata": {},
   "outputs": [
    {
     "data": {
      "text/plain": [
       "client_id       0\n",
       "quantity        0\n",
       "price           0\n",
       "category_ids    0\n",
       "date            0\n",
       "message_id      0\n",
       "dtype: int64"
      ]
     },
     "execution_count": 6,
     "metadata": {},
     "output_type": "execute_result"
    }
   ],
   "source": [
    "df_1.isna().sum()"
   ]
  },
  {
   "cell_type": "code",
   "execution_count": 7,
   "id": "ba446e82-7419-463c-910b-a43e40322323",
   "metadata": {},
   "outputs": [],
   "source": [
    "df_2 = pd.read_csv('C:\\\\Users\\\\79284\\\\Documents\\\\Мастер_2\\\\filtered_data\\\\apparel-messages.csv', parse_dates=['date', 'created_at'])"
   ]
  },
  {
   "cell_type": "code",
   "execution_count": 8,
   "id": "bc418fc9-1c25-4b1e-a1a5-2ad91234b054",
   "metadata": {
    "scrolled": true
   },
   "outputs": [
    {
     "data": {
      "text/html": [
       "<div>\n",
       "<style scoped>\n",
       "    .dataframe tbody tr th:only-of-type {\n",
       "        vertical-align: middle;\n",
       "    }\n",
       "\n",
       "    .dataframe tbody tr th {\n",
       "        vertical-align: top;\n",
       "    }\n",
       "\n",
       "    .dataframe thead th {\n",
       "        text-align: right;\n",
       "    }\n",
       "</style>\n",
       "<table border=\"1\" class=\"dataframe\">\n",
       "  <thead>\n",
       "    <tr style=\"text-align: right;\">\n",
       "      <th></th>\n",
       "      <th>bulk_campaign_id</th>\n",
       "      <th>client_id</th>\n",
       "      <th>message_id</th>\n",
       "      <th>event</th>\n",
       "      <th>channel</th>\n",
       "      <th>date</th>\n",
       "      <th>created_at</th>\n",
       "    </tr>\n",
       "  </thead>\n",
       "  <tbody>\n",
       "    <tr>\n",
       "      <th>0</th>\n",
       "      <td>4439</td>\n",
       "      <td>1515915625626736623</td>\n",
       "      <td>1515915625626736623-4439-6283415ac07ea</td>\n",
       "      <td>open</td>\n",
       "      <td>email</td>\n",
       "      <td>2022-05-19</td>\n",
       "      <td>2022-05-19 00:14:20</td>\n",
       "    </tr>\n",
       "    <tr>\n",
       "      <th>1</th>\n",
       "      <td>4439</td>\n",
       "      <td>1515915625490086521</td>\n",
       "      <td>1515915625490086521-4439-62834150016dd</td>\n",
       "      <td>open</td>\n",
       "      <td>email</td>\n",
       "      <td>2022-05-19</td>\n",
       "      <td>2022-05-19 00:39:34</td>\n",
       "    </tr>\n",
       "    <tr>\n",
       "      <th>2</th>\n",
       "      <td>4439</td>\n",
       "      <td>1515915625553578558</td>\n",
       "      <td>1515915625553578558-4439-6283415b36b4f</td>\n",
       "      <td>open</td>\n",
       "      <td>email</td>\n",
       "      <td>2022-05-19</td>\n",
       "      <td>2022-05-19 00:51:49</td>\n",
       "    </tr>\n",
       "    <tr>\n",
       "      <th>3</th>\n",
       "      <td>4439</td>\n",
       "      <td>1515915625553578558</td>\n",
       "      <td>1515915625553578558-4439-6283415b36b4f</td>\n",
       "      <td>click</td>\n",
       "      <td>email</td>\n",
       "      <td>2022-05-19</td>\n",
       "      <td>2022-05-19 00:52:20</td>\n",
       "    </tr>\n",
       "    <tr>\n",
       "      <th>4</th>\n",
       "      <td>4439</td>\n",
       "      <td>1515915625471518311</td>\n",
       "      <td>1515915625471518311-4439-628341570c133</td>\n",
       "      <td>open</td>\n",
       "      <td>email</td>\n",
       "      <td>2022-05-19</td>\n",
       "      <td>2022-05-19 00:56:52</td>\n",
       "    </tr>\n",
       "  </tbody>\n",
       "</table>\n",
       "</div>"
      ],
      "text/plain": [
       "   bulk_campaign_id            client_id  \\\n",
       "0              4439  1515915625626736623   \n",
       "1              4439  1515915625490086521   \n",
       "2              4439  1515915625553578558   \n",
       "3              4439  1515915625553578558   \n",
       "4              4439  1515915625471518311   \n",
       "\n",
       "                               message_id  event channel       date  \\\n",
       "0  1515915625626736623-4439-6283415ac07ea   open   email 2022-05-19   \n",
       "1  1515915625490086521-4439-62834150016dd   open   email 2022-05-19   \n",
       "2  1515915625553578558-4439-6283415b36b4f   open   email 2022-05-19   \n",
       "3  1515915625553578558-4439-6283415b36b4f  click   email 2022-05-19   \n",
       "4  1515915625471518311-4439-628341570c133   open   email 2022-05-19   \n",
       "\n",
       "           created_at  \n",
       "0 2022-05-19 00:14:20  \n",
       "1 2022-05-19 00:39:34  \n",
       "2 2022-05-19 00:51:49  \n",
       "3 2022-05-19 00:52:20  \n",
       "4 2022-05-19 00:56:52  "
      ]
     },
     "execution_count": 8,
     "metadata": {},
     "output_type": "execute_result"
    }
   ],
   "source": [
    "df_2[:5]"
   ]
  },
  {
   "cell_type": "code",
   "execution_count": 9,
   "id": "140e159c-09f0-42e1-98dc-383278d1f73a",
   "metadata": {
    "scrolled": true
   },
   "outputs": [
    {
     "data": {
      "text/plain": [
       "bulk_campaign_id    0\n",
       "client_id           0\n",
       "message_id          0\n",
       "event               0\n",
       "channel             0\n",
       "date                0\n",
       "created_at          0\n",
       "dtype: int64"
      ]
     },
     "execution_count": 9,
     "metadata": {},
     "output_type": "execute_result"
    }
   ],
   "source": [
    "df_2.isna().sum()"
   ]
  },
  {
   "cell_type": "code",
   "execution_count": 10,
   "id": "ee91879a-4178-4673-af51-126ccf1f76b6",
   "metadata": {},
   "outputs": [],
   "source": [
    "df_3 = pd.read_csv('C:\\\\Users\\\\79284\\\\Documents\\\\Мастер_2\\\\filtered_data\\\\apparel-target_binary.csv')"
   ]
  },
  {
   "cell_type": "code",
   "execution_count": 11,
   "id": "dc28315e-0d46-4eca-8a97-e6fbf2193ad9",
   "metadata": {
    "scrolled": true
   },
   "outputs": [
    {
     "data": {
      "text/html": [
       "<div>\n",
       "<style scoped>\n",
       "    .dataframe tbody tr th:only-of-type {\n",
       "        vertical-align: middle;\n",
       "    }\n",
       "\n",
       "    .dataframe tbody tr th {\n",
       "        vertical-align: top;\n",
       "    }\n",
       "\n",
       "    .dataframe thead th {\n",
       "        text-align: right;\n",
       "    }\n",
       "</style>\n",
       "<table border=\"1\" class=\"dataframe\">\n",
       "  <thead>\n",
       "    <tr style=\"text-align: right;\">\n",
       "      <th></th>\n",
       "      <th>client_id</th>\n",
       "      <th>target</th>\n",
       "    </tr>\n",
       "  </thead>\n",
       "  <tbody>\n",
       "    <tr>\n",
       "      <th>0</th>\n",
       "      <td>1515915625468060902</td>\n",
       "      <td>0</td>\n",
       "    </tr>\n",
       "    <tr>\n",
       "      <th>1</th>\n",
       "      <td>1515915625468061003</td>\n",
       "      <td>1</td>\n",
       "    </tr>\n",
       "    <tr>\n",
       "      <th>2</th>\n",
       "      <td>1515915625468061099</td>\n",
       "      <td>0</td>\n",
       "    </tr>\n",
       "    <tr>\n",
       "      <th>3</th>\n",
       "      <td>1515915625468061100</td>\n",
       "      <td>0</td>\n",
       "    </tr>\n",
       "    <tr>\n",
       "      <th>4</th>\n",
       "      <td>1515915625468061170</td>\n",
       "      <td>0</td>\n",
       "    </tr>\n",
       "  </tbody>\n",
       "</table>\n",
       "</div>"
      ],
      "text/plain": [
       "             client_id  target\n",
       "0  1515915625468060902       0\n",
       "1  1515915625468061003       1\n",
       "2  1515915625468061099       0\n",
       "3  1515915625468061100       0\n",
       "4  1515915625468061170       0"
      ]
     },
     "execution_count": 11,
     "metadata": {},
     "output_type": "execute_result"
    }
   ],
   "source": [
    "df_3[:5]"
   ]
  },
  {
   "cell_type": "code",
   "execution_count": 12,
   "id": "5e0e0bce-fb29-4776-af30-92e9a4b6ade7",
   "metadata": {},
   "outputs": [
    {
     "name": "stdout",
     "output_type": "stream",
     "text": [
      "<class 'pandas.core.frame.DataFrame'>\n",
      "RangeIndex: 49849 entries, 0 to 49848\n",
      "Data columns (total 2 columns):\n",
      " #   Column     Non-Null Count  Dtype\n",
      "---  ------     --------------  -----\n",
      " 0   client_id  49849 non-null  int64\n",
      " 1   target     49849 non-null  int64\n",
      "dtypes: int64(2)\n",
      "memory usage: 779.0 KB\n"
     ]
    }
   ],
   "source": [
    "df_3.info()"
   ]
  },
  {
   "cell_type": "code",
   "execution_count": 13,
   "id": "dbc99099-7548-456f-90cd-5a1c2826325b",
   "metadata": {
    "scrolled": true
   },
   "outputs": [
    {
     "data": {
      "text/plain": [
       "client_id    0\n",
       "target       0\n",
       "dtype: int64"
      ]
     },
     "execution_count": 13,
     "metadata": {},
     "output_type": "execute_result"
    }
   ],
   "source": [
    "df_3.isna().sum()"
   ]
  },
  {
   "cell_type": "code",
   "execution_count": 14,
   "id": "f7a05ff9-09e6-4502-ad49-6030ad8c19b2",
   "metadata": {},
   "outputs": [],
   "source": [
    "df_4 = pd.read_csv('C:\\\\Users\\\\79284\\\\Documents\\\\Мастер_2\\\\filtered_data\\\\full_campaign_daily_event.csv', parse_dates=['date'])"
   ]
  },
  {
   "cell_type": "code",
   "execution_count": 15,
   "id": "fd682f2b-8ddc-4de8-bebc-2d8b5c24a4a4",
   "metadata": {},
   "outputs": [
    {
     "data": {
      "text/html": [
       "<div>\n",
       "<style scoped>\n",
       "    .dataframe tbody tr th:only-of-type {\n",
       "        vertical-align: middle;\n",
       "    }\n",
       "\n",
       "    .dataframe tbody tr th {\n",
       "        vertical-align: top;\n",
       "    }\n",
       "\n",
       "    .dataframe thead th {\n",
       "        text-align: right;\n",
       "    }\n",
       "</style>\n",
       "<table border=\"1\" class=\"dataframe\">\n",
       "  <thead>\n",
       "    <tr style=\"text-align: right;\">\n",
       "      <th></th>\n",
       "      <th>date</th>\n",
       "      <th>bulk_campaign_id</th>\n",
       "      <th>count_click</th>\n",
       "      <th>count_complain</th>\n",
       "      <th>count_hard_bounce</th>\n",
       "      <th>count_open</th>\n",
       "      <th>count_purchase</th>\n",
       "      <th>count_send</th>\n",
       "      <th>count_soft_bounce</th>\n",
       "      <th>count_subscribe</th>\n",
       "      <th>...</th>\n",
       "      <th>nunique_open</th>\n",
       "      <th>nunique_purchase</th>\n",
       "      <th>nunique_send</th>\n",
       "      <th>nunique_soft_bounce</th>\n",
       "      <th>nunique_subscribe</th>\n",
       "      <th>nunique_unsubscribe</th>\n",
       "      <th>count_hbq_spam</th>\n",
       "      <th>nunique_hbq_spam</th>\n",
       "      <th>count_close</th>\n",
       "      <th>nunique_close</th>\n",
       "    </tr>\n",
       "  </thead>\n",
       "  <tbody>\n",
       "    <tr>\n",
       "      <th>0</th>\n",
       "      <td>2022-05-19</td>\n",
       "      <td>563</td>\n",
       "      <td>0</td>\n",
       "      <td>0</td>\n",
       "      <td>0</td>\n",
       "      <td>4</td>\n",
       "      <td>0</td>\n",
       "      <td>0</td>\n",
       "      <td>0</td>\n",
       "      <td>0</td>\n",
       "      <td>...</td>\n",
       "      <td>4</td>\n",
       "      <td>0</td>\n",
       "      <td>0</td>\n",
       "      <td>0</td>\n",
       "      <td>0</td>\n",
       "      <td>0</td>\n",
       "      <td>0</td>\n",
       "      <td>0</td>\n",
       "      <td>0</td>\n",
       "      <td>0</td>\n",
       "    </tr>\n",
       "    <tr>\n",
       "      <th>1</th>\n",
       "      <td>2022-05-19</td>\n",
       "      <td>577</td>\n",
       "      <td>0</td>\n",
       "      <td>0</td>\n",
       "      <td>0</td>\n",
       "      <td>1</td>\n",
       "      <td>0</td>\n",
       "      <td>0</td>\n",
       "      <td>0</td>\n",
       "      <td>0</td>\n",
       "      <td>...</td>\n",
       "      <td>1</td>\n",
       "      <td>0</td>\n",
       "      <td>0</td>\n",
       "      <td>0</td>\n",
       "      <td>0</td>\n",
       "      <td>0</td>\n",
       "      <td>0</td>\n",
       "      <td>0</td>\n",
       "      <td>0</td>\n",
       "      <td>0</td>\n",
       "    </tr>\n",
       "    <tr>\n",
       "      <th>2</th>\n",
       "      <td>2022-05-19</td>\n",
       "      <td>622</td>\n",
       "      <td>0</td>\n",
       "      <td>0</td>\n",
       "      <td>0</td>\n",
       "      <td>2</td>\n",
       "      <td>0</td>\n",
       "      <td>0</td>\n",
       "      <td>0</td>\n",
       "      <td>0</td>\n",
       "      <td>...</td>\n",
       "      <td>2</td>\n",
       "      <td>0</td>\n",
       "      <td>0</td>\n",
       "      <td>0</td>\n",
       "      <td>0</td>\n",
       "      <td>0</td>\n",
       "      <td>0</td>\n",
       "      <td>0</td>\n",
       "      <td>0</td>\n",
       "      <td>0</td>\n",
       "    </tr>\n",
       "    <tr>\n",
       "      <th>3</th>\n",
       "      <td>2022-05-19</td>\n",
       "      <td>634</td>\n",
       "      <td>0</td>\n",
       "      <td>0</td>\n",
       "      <td>0</td>\n",
       "      <td>1</td>\n",
       "      <td>0</td>\n",
       "      <td>0</td>\n",
       "      <td>0</td>\n",
       "      <td>0</td>\n",
       "      <td>...</td>\n",
       "      <td>1</td>\n",
       "      <td>0</td>\n",
       "      <td>0</td>\n",
       "      <td>0</td>\n",
       "      <td>0</td>\n",
       "      <td>0</td>\n",
       "      <td>0</td>\n",
       "      <td>0</td>\n",
       "      <td>0</td>\n",
       "      <td>0</td>\n",
       "    </tr>\n",
       "    <tr>\n",
       "      <th>4</th>\n",
       "      <td>2022-05-19</td>\n",
       "      <td>676</td>\n",
       "      <td>0</td>\n",
       "      <td>0</td>\n",
       "      <td>0</td>\n",
       "      <td>1</td>\n",
       "      <td>0</td>\n",
       "      <td>0</td>\n",
       "      <td>0</td>\n",
       "      <td>0</td>\n",
       "      <td>...</td>\n",
       "      <td>1</td>\n",
       "      <td>0</td>\n",
       "      <td>0</td>\n",
       "      <td>0</td>\n",
       "      <td>0</td>\n",
       "      <td>0</td>\n",
       "      <td>0</td>\n",
       "      <td>0</td>\n",
       "      <td>0</td>\n",
       "      <td>0</td>\n",
       "    </tr>\n",
       "  </tbody>\n",
       "</table>\n",
       "<p>5 rows × 24 columns</p>\n",
       "</div>"
      ],
      "text/plain": [
       "        date  bulk_campaign_id  count_click  count_complain  \\\n",
       "0 2022-05-19               563            0               0   \n",
       "1 2022-05-19               577            0               0   \n",
       "2 2022-05-19               622            0               0   \n",
       "3 2022-05-19               634            0               0   \n",
       "4 2022-05-19               676            0               0   \n",
       "\n",
       "   count_hard_bounce  count_open  count_purchase  count_send  \\\n",
       "0                  0           4               0           0   \n",
       "1                  0           1               0           0   \n",
       "2                  0           2               0           0   \n",
       "3                  0           1               0           0   \n",
       "4                  0           1               0           0   \n",
       "\n",
       "   count_soft_bounce  count_subscribe  ...  nunique_open  nunique_purchase  \\\n",
       "0                  0                0  ...             4                 0   \n",
       "1                  0                0  ...             1                 0   \n",
       "2                  0                0  ...             2                 0   \n",
       "3                  0                0  ...             1                 0   \n",
       "4                  0                0  ...             1                 0   \n",
       "\n",
       "   nunique_send  nunique_soft_bounce  nunique_subscribe  nunique_unsubscribe  \\\n",
       "0             0                    0                  0                    0   \n",
       "1             0                    0                  0                    0   \n",
       "2             0                    0                  0                    0   \n",
       "3             0                    0                  0                    0   \n",
       "4             0                    0                  0                    0   \n",
       "\n",
       "   count_hbq_spam  nunique_hbq_spam  count_close  nunique_close  \n",
       "0               0                 0            0              0  \n",
       "1               0                 0            0              0  \n",
       "2               0                 0            0              0  \n",
       "3               0                 0            0              0  \n",
       "4               0                 0            0              0  \n",
       "\n",
       "[5 rows x 24 columns]"
      ]
     },
     "execution_count": 15,
     "metadata": {},
     "output_type": "execute_result"
    }
   ],
   "source": [
    "df_4[:5]"
   ]
  },
  {
   "cell_type": "code",
   "execution_count": 16,
   "id": "7516c77d-2420-49c3-8c63-bd88e4ac1bb5",
   "metadata": {
    "scrolled": true
   },
   "outputs": [
    {
     "name": "stdout",
     "output_type": "stream",
     "text": [
      "<class 'pandas.core.frame.DataFrame'>\n",
      "RangeIndex: 131072 entries, 0 to 131071\n",
      "Data columns (total 24 columns):\n",
      " #   Column               Non-Null Count   Dtype         \n",
      "---  ------               --------------   -----         \n",
      " 0   date                 131072 non-null  datetime64[ns]\n",
      " 1   bulk_campaign_id     131072 non-null  int64         \n",
      " 2   count_click          131072 non-null  int64         \n",
      " 3   count_complain       131072 non-null  int64         \n",
      " 4   count_hard_bounce    131072 non-null  int64         \n",
      " 5   count_open           131072 non-null  int64         \n",
      " 6   count_purchase       131072 non-null  int64         \n",
      " 7   count_send           131072 non-null  int64         \n",
      " 8   count_soft_bounce    131072 non-null  int64         \n",
      " 9   count_subscribe      131072 non-null  int64         \n",
      " 10  count_unsubscribe    131072 non-null  int64         \n",
      " 11  nunique_click        131072 non-null  int64         \n",
      " 12  nunique_complain     131072 non-null  int64         \n",
      " 13  nunique_hard_bounce  131072 non-null  int64         \n",
      " 14  nunique_open         131072 non-null  int64         \n",
      " 15  nunique_purchase     131072 non-null  int64         \n",
      " 16  nunique_send         131072 non-null  int64         \n",
      " 17  nunique_soft_bounce  131072 non-null  int64         \n",
      " 18  nunique_subscribe    131072 non-null  int64         \n",
      " 19  nunique_unsubscribe  131072 non-null  int64         \n",
      " 20  count_hbq_spam       131072 non-null  int64         \n",
      " 21  nunique_hbq_spam     131072 non-null  int64         \n",
      " 22  count_close          131072 non-null  int64         \n",
      " 23  nunique_close        131072 non-null  int64         \n",
      "dtypes: datetime64[ns](1), int64(23)\n",
      "memory usage: 24.0 MB\n"
     ]
    }
   ],
   "source": [
    "df_4.info()"
   ]
  },
  {
   "cell_type": "code",
   "execution_count": 17,
   "id": "33c93504-43a2-41f6-802e-f3032e00cee5",
   "metadata": {},
   "outputs": [],
   "source": [
    "df_5 = pd.read_csv('C:\\\\Users\\\\79284\\\\Documents\\\\Мастер_2\\\\filtered_data\\\\full_campaign_daily_event_channel.csv',  parse_dates=['date'])"
   ]
  },
  {
   "cell_type": "code",
   "execution_count": 18,
   "id": "b152724c-bc32-4733-b43e-b7714fff3cb1",
   "metadata": {},
   "outputs": [
    {
     "data": {
      "text/html": [
       "<div>\n",
       "<style scoped>\n",
       "    .dataframe tbody tr th:only-of-type {\n",
       "        vertical-align: middle;\n",
       "    }\n",
       "\n",
       "    .dataframe tbody tr th {\n",
       "        vertical-align: top;\n",
       "    }\n",
       "\n",
       "    .dataframe thead th {\n",
       "        text-align: right;\n",
       "    }\n",
       "</style>\n",
       "<table border=\"1\" class=\"dataframe\">\n",
       "  <thead>\n",
       "    <tr style=\"text-align: right;\">\n",
       "      <th></th>\n",
       "      <th>date</th>\n",
       "      <th>bulk_campaign_id</th>\n",
       "      <th>count_click_email</th>\n",
       "      <th>count_click_mobile_push</th>\n",
       "      <th>count_open_email</th>\n",
       "      <th>count_open_mobile_push</th>\n",
       "      <th>count_purchase_email</th>\n",
       "      <th>count_purchase_mobile_push</th>\n",
       "      <th>count_soft_bounce_email</th>\n",
       "      <th>count_subscribe_email</th>\n",
       "      <th>...</th>\n",
       "      <th>count_send_email</th>\n",
       "      <th>nunique_hard_bounce_email</th>\n",
       "      <th>nunique_hbq_spam_email</th>\n",
       "      <th>nunique_send_email</th>\n",
       "      <th>count_soft_bounce_mobile_push</th>\n",
       "      <th>nunique_soft_bounce_mobile_push</th>\n",
       "      <th>count_complain_email</th>\n",
       "      <th>nunique_complain_email</th>\n",
       "      <th>count_close_mobile_push</th>\n",
       "      <th>nunique_close_mobile_push</th>\n",
       "    </tr>\n",
       "  </thead>\n",
       "  <tbody>\n",
       "    <tr>\n",
       "      <th>0</th>\n",
       "      <td>2022-05-19</td>\n",
       "      <td>563</td>\n",
       "      <td>0</td>\n",
       "      <td>0</td>\n",
       "      <td>4</td>\n",
       "      <td>0</td>\n",
       "      <td>0</td>\n",
       "      <td>0</td>\n",
       "      <td>0</td>\n",
       "      <td>0</td>\n",
       "      <td>...</td>\n",
       "      <td>0</td>\n",
       "      <td>0</td>\n",
       "      <td>0</td>\n",
       "      <td>0</td>\n",
       "      <td>0</td>\n",
       "      <td>0</td>\n",
       "      <td>0</td>\n",
       "      <td>0</td>\n",
       "      <td>0</td>\n",
       "      <td>0</td>\n",
       "    </tr>\n",
       "    <tr>\n",
       "      <th>1</th>\n",
       "      <td>2022-05-19</td>\n",
       "      <td>577</td>\n",
       "      <td>0</td>\n",
       "      <td>0</td>\n",
       "      <td>1</td>\n",
       "      <td>0</td>\n",
       "      <td>0</td>\n",
       "      <td>0</td>\n",
       "      <td>0</td>\n",
       "      <td>0</td>\n",
       "      <td>...</td>\n",
       "      <td>0</td>\n",
       "      <td>0</td>\n",
       "      <td>0</td>\n",
       "      <td>0</td>\n",
       "      <td>0</td>\n",
       "      <td>0</td>\n",
       "      <td>0</td>\n",
       "      <td>0</td>\n",
       "      <td>0</td>\n",
       "      <td>0</td>\n",
       "    </tr>\n",
       "    <tr>\n",
       "      <th>2</th>\n",
       "      <td>2022-05-19</td>\n",
       "      <td>622</td>\n",
       "      <td>0</td>\n",
       "      <td>0</td>\n",
       "      <td>2</td>\n",
       "      <td>0</td>\n",
       "      <td>0</td>\n",
       "      <td>0</td>\n",
       "      <td>0</td>\n",
       "      <td>0</td>\n",
       "      <td>...</td>\n",
       "      <td>0</td>\n",
       "      <td>0</td>\n",
       "      <td>0</td>\n",
       "      <td>0</td>\n",
       "      <td>0</td>\n",
       "      <td>0</td>\n",
       "      <td>0</td>\n",
       "      <td>0</td>\n",
       "      <td>0</td>\n",
       "      <td>0</td>\n",
       "    </tr>\n",
       "    <tr>\n",
       "      <th>3</th>\n",
       "      <td>2022-05-19</td>\n",
       "      <td>634</td>\n",
       "      <td>0</td>\n",
       "      <td>0</td>\n",
       "      <td>1</td>\n",
       "      <td>0</td>\n",
       "      <td>0</td>\n",
       "      <td>0</td>\n",
       "      <td>0</td>\n",
       "      <td>0</td>\n",
       "      <td>...</td>\n",
       "      <td>0</td>\n",
       "      <td>0</td>\n",
       "      <td>0</td>\n",
       "      <td>0</td>\n",
       "      <td>0</td>\n",
       "      <td>0</td>\n",
       "      <td>0</td>\n",
       "      <td>0</td>\n",
       "      <td>0</td>\n",
       "      <td>0</td>\n",
       "    </tr>\n",
       "    <tr>\n",
       "      <th>4</th>\n",
       "      <td>2022-05-19</td>\n",
       "      <td>676</td>\n",
       "      <td>0</td>\n",
       "      <td>0</td>\n",
       "      <td>1</td>\n",
       "      <td>0</td>\n",
       "      <td>0</td>\n",
       "      <td>0</td>\n",
       "      <td>0</td>\n",
       "      <td>0</td>\n",
       "      <td>...</td>\n",
       "      <td>0</td>\n",
       "      <td>0</td>\n",
       "      <td>0</td>\n",
       "      <td>0</td>\n",
       "      <td>0</td>\n",
       "      <td>0</td>\n",
       "      <td>0</td>\n",
       "      <td>0</td>\n",
       "      <td>0</td>\n",
       "      <td>0</td>\n",
       "    </tr>\n",
       "  </tbody>\n",
       "</table>\n",
       "<p>5 rows × 36 columns</p>\n",
       "</div>"
      ],
      "text/plain": [
       "        date  bulk_campaign_id  count_click_email  count_click_mobile_push  \\\n",
       "0 2022-05-19               563                  0                        0   \n",
       "1 2022-05-19               577                  0                        0   \n",
       "2 2022-05-19               622                  0                        0   \n",
       "3 2022-05-19               634                  0                        0   \n",
       "4 2022-05-19               676                  0                        0   \n",
       "\n",
       "   count_open_email  count_open_mobile_push  count_purchase_email  \\\n",
       "0                 4                       0                     0   \n",
       "1                 1                       0                     0   \n",
       "2                 2                       0                     0   \n",
       "3                 1                       0                     0   \n",
       "4                 1                       0                     0   \n",
       "\n",
       "   count_purchase_mobile_push  count_soft_bounce_email  count_subscribe_email  \\\n",
       "0                           0                        0                      0   \n",
       "1                           0                        0                      0   \n",
       "2                           0                        0                      0   \n",
       "3                           0                        0                      0   \n",
       "4                           0                        0                      0   \n",
       "\n",
       "   ...  count_send_email  nunique_hard_bounce_email  nunique_hbq_spam_email  \\\n",
       "0  ...                 0                          0                       0   \n",
       "1  ...                 0                          0                       0   \n",
       "2  ...                 0                          0                       0   \n",
       "3  ...                 0                          0                       0   \n",
       "4  ...                 0                          0                       0   \n",
       "\n",
       "   nunique_send_email  count_soft_bounce_mobile_push  \\\n",
       "0                   0                              0   \n",
       "1                   0                              0   \n",
       "2                   0                              0   \n",
       "3                   0                              0   \n",
       "4                   0                              0   \n",
       "\n",
       "   nunique_soft_bounce_mobile_push  count_complain_email  \\\n",
       "0                                0                     0   \n",
       "1                                0                     0   \n",
       "2                                0                     0   \n",
       "3                                0                     0   \n",
       "4                                0                     0   \n",
       "\n",
       "   nunique_complain_email  count_close_mobile_push  nunique_close_mobile_push  \n",
       "0                       0                        0                          0  \n",
       "1                       0                        0                          0  \n",
       "2                       0                        0                          0  \n",
       "3                       0                        0                          0  \n",
       "4                       0                        0                          0  \n",
       "\n",
       "[5 rows x 36 columns]"
      ]
     },
     "execution_count": 18,
     "metadata": {},
     "output_type": "execute_result"
    }
   ],
   "source": [
    "df_5[:5]"
   ]
  },
  {
   "cell_type": "code",
   "execution_count": 19,
   "id": "36a0170f-33a7-4351-992c-8d4e07b68266",
   "metadata": {
    "scrolled": true
   },
   "outputs": [
    {
     "name": "stdout",
     "output_type": "stream",
     "text": [
      "<class 'pandas.core.frame.DataFrame'>\n",
      "RangeIndex: 131072 entries, 0 to 131071\n",
      "Data columns (total 36 columns):\n",
      " #   Column                           Non-Null Count   Dtype         \n",
      "---  ------                           --------------   -----         \n",
      " 0   date                             131072 non-null  datetime64[ns]\n",
      " 1   bulk_campaign_id                 131072 non-null  int64         \n",
      " 2   count_click_email                131072 non-null  int64         \n",
      " 3   count_click_mobile_push          131072 non-null  int64         \n",
      " 4   count_open_email                 131072 non-null  int64         \n",
      " 5   count_open_mobile_push           131072 non-null  int64         \n",
      " 6   count_purchase_email             131072 non-null  int64         \n",
      " 7   count_purchase_mobile_push       131072 non-null  int64         \n",
      " 8   count_soft_bounce_email          131072 non-null  int64         \n",
      " 9   count_subscribe_email            131072 non-null  int64         \n",
      " 10  count_unsubscribe_email          131072 non-null  int64         \n",
      " 11  nunique_click_email              131072 non-null  int64         \n",
      " 12  nunique_click_mobile_push        131072 non-null  int64         \n",
      " 13  nunique_open_email               131072 non-null  int64         \n",
      " 14  nunique_open_mobile_push         131072 non-null  int64         \n",
      " 15  nunique_purchase_email           131072 non-null  int64         \n",
      " 16  nunique_purchase_mobile_push     131072 non-null  int64         \n",
      " 17  nunique_soft_bounce_email        131072 non-null  int64         \n",
      " 18  nunique_subscribe_email          131072 non-null  int64         \n",
      " 19  nunique_unsubscribe_email        131072 non-null  int64         \n",
      " 20  count_hard_bounce_mobile_push    131072 non-null  int64         \n",
      " 21  count_send_mobile_push           131072 non-null  int64         \n",
      " 22  nunique_hard_bounce_mobile_push  131072 non-null  int64         \n",
      " 23  nunique_send_mobile_push         131072 non-null  int64         \n",
      " 24  count_hard_bounce_email          131072 non-null  int64         \n",
      " 25  count_hbq_spam_email             131072 non-null  int64         \n",
      " 26  count_send_email                 131072 non-null  int64         \n",
      " 27  nunique_hard_bounce_email        131072 non-null  int64         \n",
      " 28  nunique_hbq_spam_email           131072 non-null  int64         \n",
      " 29  nunique_send_email               131072 non-null  int64         \n",
      " 30  count_soft_bounce_mobile_push    131072 non-null  int64         \n",
      " 31  nunique_soft_bounce_mobile_push  131072 non-null  int64         \n",
      " 32  count_complain_email             131072 non-null  int64         \n",
      " 33  nunique_complain_email           131072 non-null  int64         \n",
      " 34  count_close_mobile_push          131072 non-null  int64         \n",
      " 35  nunique_close_mobile_push        131072 non-null  int64         \n",
      "dtypes: datetime64[ns](1), int64(35)\n",
      "memory usage: 36.0 MB\n"
     ]
    }
   ],
   "source": [
    "df_5.info()"
   ]
  },
  {
   "cell_type": "code",
   "execution_count": 20,
   "id": "2c74601a-3d31-415d-b984-fde34c64f963",
   "metadata": {},
   "outputs": [
    {
     "data": {
      "text/plain": [
       "73020"
      ]
     },
     "execution_count": 20,
     "metadata": {},
     "output_type": "execute_result"
    }
   ],
   "source": [
    "df_1.duplicated().sum()"
   ]
  },
  {
   "cell_type": "code",
   "execution_count": 21,
   "id": "5ddbc138-5264-49bb-a6f6-d5ceaf965ad7",
   "metadata": {},
   "outputs": [
    {
     "data": {
      "text/plain": [
       "48610"
      ]
     },
     "execution_count": 21,
     "metadata": {},
     "output_type": "execute_result"
    }
   ],
   "source": [
    "df_2.duplicated().sum()"
   ]
  },
  {
   "cell_type": "code",
   "execution_count": 22,
   "id": "208559bb-212d-435f-8864-23c05ad449e1",
   "metadata": {},
   "outputs": [
    {
     "data": {
      "text/plain": [
       "48610"
      ]
     },
     "execution_count": 22,
     "metadata": {},
     "output_type": "execute_result"
    }
   ],
   "source": [
    "df_2.duplicated().sum()"
   ]
  },
  {
   "cell_type": "code",
   "execution_count": 23,
   "id": "50084713-1b0c-4f5d-84cf-ca69d99d044a",
   "metadata": {},
   "outputs": [
    {
     "data": {
      "text/plain": [
       "0"
      ]
     },
     "execution_count": 23,
     "metadata": {},
     "output_type": "execute_result"
    }
   ],
   "source": [
    "df_3.duplicated().sum()"
   ]
  },
  {
   "cell_type": "code",
   "execution_count": 24,
   "id": "3b6f4bb0-c130-4534-9a08-d7467e0000b3",
   "metadata": {},
   "outputs": [
    {
     "data": {
      "text/plain": [
       "0"
      ]
     },
     "execution_count": 24,
     "metadata": {},
     "output_type": "execute_result"
    }
   ],
   "source": [
    "df_4.duplicated().sum()"
   ]
  },
  {
   "cell_type": "code",
   "execution_count": 25,
   "id": "db557cab-7bd8-494c-8d4c-dd2286d686e6",
   "metadata": {},
   "outputs": [
    {
     "data": {
      "text/plain": [
       "0"
      ]
     },
     "execution_count": 25,
     "metadata": {},
     "output_type": "execute_result"
    }
   ],
   "source": [
    "df_5.duplicated().sum()"
   ]
  },
  {
   "cell_type": "markdown",
   "id": "227e27f2-f956-4032-8c57-2f3c562e1e2c",
   "metadata": {},
   "source": [
    "<div class=\"alert alert-info\">\n",
    "   Все загруженные таблицы отображают верный тип данных и не содержат пропусков. В исходных данных 1, 2 и 3 таблиц было обнаружено и удалено 48610\n",
    "дубликатов.\n",
    "</div>"
   ]
  },
  {
   "cell_type": "markdown",
   "id": "7f8b7305-3624-425d-8282-1cce32862e61",
   "metadata": {},
   "source": [
    "## Подготовка данных\n",
    "   <a id=\"start_1\"></a>"
   ]
  },
  {
   "cell_type": "code",
   "execution_count": 26,
   "id": "7460213a-8c8b-4616-9192-a39ef86ef84c",
   "metadata": {
    "scrolled": true
   },
   "outputs": [
    {
     "data": {
      "text/plain": [
       "49849"
      ]
     },
     "execution_count": 26,
     "metadata": {},
     "output_type": "execute_result"
    }
   ],
   "source": [
    "len(df_1['client_id'].unique())"
   ]
  },
  {
   "cell_type": "code",
   "execution_count": 27,
   "id": "aac8a5f0-c39e-436c-92df-3d258efd25b3",
   "metadata": {
    "scrolled": true
   },
   "outputs": [],
   "source": [
    "df_1_1 = df_1.groupby('client_id', as_index = False).agg({'date':'nunique'}).sort_values(by = 'date', ascending = False)"
   ]
  },
  {
   "cell_type": "code",
   "execution_count": 28,
   "id": "510eda5a-658d-460a-aa82-c2052ea35b3e",
   "metadata": {},
   "outputs": [
    {
     "data": {
      "text/html": [
       "<div>\n",
       "<style scoped>\n",
       "    .dataframe tbody tr th:only-of-type {\n",
       "        vertical-align: middle;\n",
       "    }\n",
       "\n",
       "    .dataframe tbody tr th {\n",
       "        vertical-align: top;\n",
       "    }\n",
       "\n",
       "    .dataframe thead th {\n",
       "        text-align: right;\n",
       "    }\n",
       "</style>\n",
       "<table border=\"1\" class=\"dataframe\">\n",
       "  <thead>\n",
       "    <tr style=\"text-align: right;\">\n",
       "      <th></th>\n",
       "      <th>client_id</th>\n",
       "      <th>date</th>\n",
       "    </tr>\n",
       "  </thead>\n",
       "  <tbody>\n",
       "    <tr>\n",
       "      <th>44817</th>\n",
       "      <td>1515915625853312319</td>\n",
       "      <td>41</td>\n",
       "    </tr>\n",
       "    <tr>\n",
       "      <th>13493</th>\n",
       "      <td>1515915625490334876</td>\n",
       "      <td>23</td>\n",
       "    </tr>\n",
       "    <tr>\n",
       "      <th>45067</th>\n",
       "      <td>1515915625860624470</td>\n",
       "      <td>17</td>\n",
       "    </tr>\n",
       "    <tr>\n",
       "      <th>24648</th>\n",
       "      <td>1515915625554355124</td>\n",
       "      <td>16</td>\n",
       "    </tr>\n",
       "    <tr>\n",
       "      <th>31601</th>\n",
       "      <td>1515915625579040539</td>\n",
       "      <td>15</td>\n",
       "    </tr>\n",
       "    <tr>\n",
       "      <th>532</th>\n",
       "      <td>1515915625468102493</td>\n",
       "      <td>15</td>\n",
       "    </tr>\n",
       "    <tr>\n",
       "      <th>18479</th>\n",
       "      <td>1515915625500232103</td>\n",
       "      <td>15</td>\n",
       "    </tr>\n",
       "    <tr>\n",
       "      <th>24162</th>\n",
       "      <td>1515915625551743388</td>\n",
       "      <td>12</td>\n",
       "    </tr>\n",
       "    <tr>\n",
       "      <th>1220</th>\n",
       "      <td>1515915625468158647</td>\n",
       "      <td>12</td>\n",
       "    </tr>\n",
       "    <tr>\n",
       "      <th>2879</th>\n",
       "      <td>1515915625470860261</td>\n",
       "      <td>11</td>\n",
       "    </tr>\n",
       "    <tr>\n",
       "      <th>23696</th>\n",
       "      <td>1515915625549395201</td>\n",
       "      <td>11</td>\n",
       "    </tr>\n",
       "    <tr>\n",
       "      <th>22448</th>\n",
       "      <td>1515915625536060309</td>\n",
       "      <td>11</td>\n",
       "    </tr>\n",
       "    <tr>\n",
       "      <th>1242</th>\n",
       "      <td>1515915625468159950</td>\n",
       "      <td>10</td>\n",
       "    </tr>\n",
       "    <tr>\n",
       "      <th>175</th>\n",
       "      <td>1515915625468073780</td>\n",
       "      <td>10</td>\n",
       "    </tr>\n",
       "    <tr>\n",
       "      <th>30118</th>\n",
       "      <td>1515915625571466103</td>\n",
       "      <td>10</td>\n",
       "    </tr>\n",
       "  </tbody>\n",
       "</table>\n",
       "</div>"
      ],
      "text/plain": [
       "                 client_id  date\n",
       "44817  1515915625853312319    41\n",
       "13493  1515915625490334876    23\n",
       "45067  1515915625860624470    17\n",
       "24648  1515915625554355124    16\n",
       "31601  1515915625579040539    15\n",
       "532    1515915625468102493    15\n",
       "18479  1515915625500232103    15\n",
       "24162  1515915625551743388    12\n",
       "1220   1515915625468158647    12\n",
       "2879   1515915625470860261    11\n",
       "23696  1515915625549395201    11\n",
       "22448  1515915625536060309    11\n",
       "1242   1515915625468159950    10\n",
       "175    1515915625468073780    10\n",
       "30118  1515915625571466103    10"
      ]
     },
     "execution_count": 28,
     "metadata": {},
     "output_type": "execute_result"
    }
   ],
   "source": [
    "df_1_1[:15]"
   ]
  },
  {
   "cell_type": "code",
   "execution_count": 29,
   "id": "e82829be-fe28-45e3-913e-facb915a3f9c",
   "metadata": {},
   "outputs": [
    {
     "data": {
      "text/plain": [
       "49849"
      ]
     },
     "execution_count": 29,
     "metadata": {},
     "output_type": "execute_result"
    }
   ],
   "source": [
    "df_1['client_id'].nunique()"
   ]
  },
  {
   "cell_type": "code",
   "execution_count": 30,
   "id": "37fe571d-109c-4c52-86d6-8b83da4faa99",
   "metadata": {
    "scrolled": true
   },
   "outputs": [
    {
     "data": {
      "text/plain": [
       "Timedelta('641 days 00:00:00')"
      ]
     },
     "execution_count": 30,
     "metadata": {},
     "output_type": "execute_result"
    }
   ],
   "source": [
    "df_1['date'].max() - df_1['date'].min()"
   ]
  },
  {
   "cell_type": "code",
   "execution_count": 31,
   "id": "5a00cc7c-752a-4d31-b8be-429742211181",
   "metadata": {},
   "outputs": [
    {
     "data": {
      "text/plain": [
       "42706"
      ]
     },
     "execution_count": 31,
     "metadata": {},
     "output_type": "execute_result"
    }
   ],
   "source": [
    "len(df_1_1.loc[df_1_1['date'] == 1])"
   ]
  },
  {
   "cell_type": "code",
   "execution_count": 32,
   "id": "32064945-4170-4543-a4ac-d2b5d039c0c6",
   "metadata": {
    "scrolled": true
   },
   "outputs": [
    {
     "data": {
      "text/plain": [
       "5285"
      ]
     },
     "execution_count": 32,
     "metadata": {},
     "output_type": "execute_result"
    }
   ],
   "source": [
    "len(df_1_1.loc[df_1_1['date'] == 2])"
   ]
  },
  {
   "cell_type": "code",
   "execution_count": 33,
   "id": "6aad3ab5-76a1-4bce-8955-07cd5026b496",
   "metadata": {},
   "outputs": [],
   "source": [
    "df_1_1 = df_1_1.rename(columns = {'date':'active_days'})"
   ]
  },
  {
   "cell_type": "markdown",
   "id": "b6adf900-0ec8-4738-a13c-625c93bb85ae",
   "metadata": {},
   "source": [
    "<div class=\"alert alert-info\">\n",
    "   Из 49849 уникальных клиентов только 13 совершали покупки более 10 дней за весь срок наблюдений (641 день). Абсолютное большинство клиентов (42796)\n",
    "пользовались услугами только 1 день (разовые покупки), а также не 2 раз (5285 клиентов). Соответственно, цель должна быть пропорциональна количеству\n",
    "дней, в течение которых клиент делал покупки. Однако, из-за большого количества одинаковых значений, данный признак ('active_days') малоинформативен и \n",
    "нуждается в уточнении.\n",
    "</div>"
   ]
  },
  {
   "cell_type": "code",
   "execution_count": 34,
   "id": "9ef8d8ef-5668-47bf-96fe-a4847f4b69ec",
   "metadata": {
    "scrolled": true
   },
   "outputs": [],
   "source": [
    "def d(x):\n",
    "    x = x[1:]\n",
    "    x = x[:-1]\n",
    "    x = x.split(',')\n",
    "    return x[0]\n",
    "df_1['cat_1'] = df_1['category_ids'].apply(d)"
   ]
  },
  {
   "cell_type": "code",
   "execution_count": 35,
   "id": "35154df7-c8f1-4436-91c2-9178f58135bf",
   "metadata": {
    "scrolled": true
   },
   "outputs": [],
   "source": [
    "def d(x):\n",
    "    x = x[1:]\n",
    "    x = x[:-1]\n",
    "    x = x.split(',')\n",
    "    return str(x[0]) + str(x[-1])\n",
    "df_1['cat_2'] = df_1['category_ids'].apply(d)"
   ]
  },
  {
   "cell_type": "code",
   "execution_count": 36,
   "id": "dfab3b2c-52f8-4653-9b3e-1750f5304c75",
   "metadata": {},
   "outputs": [],
   "source": [
    "df_1['cost'] = df_1['price']*df_1['quantity']"
   ]
  },
  {
   "cell_type": "code",
   "execution_count": 37,
   "id": "22da0f74-e3cd-49c8-bf3a-9c1b32815b6b",
   "metadata": {},
   "outputs": [],
   "source": [
    "df_1_2 = df_1.groupby('client_id', as_index = False).agg({'cost':'sum'}).sort_values(by = 'cost', ascending = False)"
   ]
  },
  {
   "cell_type": "code",
   "execution_count": 38,
   "id": "4eea2aa2-4230-47d1-b122-28f79c00aaa2",
   "metadata": {},
   "outputs": [
    {
     "data": {
      "text/plain": [
       "540408.0"
      ]
     },
     "execution_count": 38,
     "metadata": {},
     "output_type": "execute_result"
    }
   ],
   "source": [
    "df_1_2['cost'].max()"
   ]
  },
  {
   "cell_type": "code",
   "execution_count": 39,
   "id": "0a608b23-4a7d-4531-a268-d3a9fb901fde",
   "metadata": {
    "scrolled": true
   },
   "outputs": [
    {
     "data": {
      "text/plain": [
       "49828"
      ]
     },
     "execution_count": 39,
     "metadata": {},
     "output_type": "execute_result"
    }
   ],
   "source": [
    "len(df_1_2.query('cost < 100000'))"
   ]
  },
  {
   "cell_type": "markdown",
   "id": "360c910a-ddfd-45dc-be2c-56066c0492cd",
   "metadata": {},
   "source": [
    "<div class=\"alert alert-info\">\n",
    "   Абсолютное большинство клиентов (49828) в период наблюдений совершили покупки на сумму не более 100000, а максимальная сумма покупок клиента - 540408.\n",
    "Обшая сумма покупок уникального клиента, по-видимому, пропорциональна цели, поэтому этот признак следует включить в итоговый датафрейм.\n",
    "</div>"
   ]
  },
  {
   "cell_type": "code",
   "execution_count": 40,
   "id": "577e377d-420b-4ca8-b34f-cf31897fe384",
   "metadata": {},
   "outputs": [],
   "source": [
    "df_1_3= df_1.groupby('client_id', as_index = False).agg({'price':'count'}).sort_values(by = 'price', ascending = False)"
   ]
  },
  {
   "cell_type": "code",
   "execution_count": 41,
   "id": "c06e80ba-361a-43d2-9924-07f1e973357d",
   "metadata": {},
   "outputs": [],
   "source": [
    "df_1_3 = df_1_3.rename(columns = {'price':'num_cost'})"
   ]
  },
  {
   "cell_type": "code",
   "execution_count": 42,
   "id": "a59ba024-2b16-401b-9fa0-855c035500ca",
   "metadata": {
    "scrolled": true
   },
   "outputs": [
    {
     "data": {
      "text/html": [
       "<div>\n",
       "<style scoped>\n",
       "    .dataframe tbody tr th:only-of-type {\n",
       "        vertical-align: middle;\n",
       "    }\n",
       "\n",
       "    .dataframe tbody tr th {\n",
       "        vertical-align: top;\n",
       "    }\n",
       "\n",
       "    .dataframe thead th {\n",
       "        text-align: right;\n",
       "    }\n",
       "</style>\n",
       "<table border=\"1\" class=\"dataframe\">\n",
       "  <thead>\n",
       "    <tr style=\"text-align: right;\">\n",
       "      <th></th>\n",
       "      <th>client_id</th>\n",
       "      <th>num_cost</th>\n",
       "    </tr>\n",
       "  </thead>\n",
       "  <tbody>\n",
       "    <tr>\n",
       "      <th>44817</th>\n",
       "      <td>1515915625853312319</td>\n",
       "      <td>346</td>\n",
       "    </tr>\n",
       "    <tr>\n",
       "      <th>36600</th>\n",
       "      <td>1515915625624308268</td>\n",
       "      <td>218</td>\n",
       "    </tr>\n",
       "    <tr>\n",
       "      <th>35816</th>\n",
       "      <td>1515915625607113301</td>\n",
       "      <td>210</td>\n",
       "    </tr>\n",
       "    <tr>\n",
       "      <th>2879</th>\n",
       "      <td>1515915625470860261</td>\n",
       "      <td>131</td>\n",
       "    </tr>\n",
       "    <tr>\n",
       "      <th>18479</th>\n",
       "      <td>1515915625500232103</td>\n",
       "      <td>131</td>\n",
       "    </tr>\n",
       "    <tr>\n",
       "      <th>17169</th>\n",
       "      <td>1515915625491750681</td>\n",
       "      <td>121</td>\n",
       "    </tr>\n",
       "    <tr>\n",
       "      <th>13552</th>\n",
       "      <td>1515915625490352441</td>\n",
       "      <td>111</td>\n",
       "    </tr>\n",
       "    <tr>\n",
       "      <th>33360</th>\n",
       "      <td>1515915625586493853</td>\n",
       "      <td>107</td>\n",
       "    </tr>\n",
       "    <tr>\n",
       "      <th>28053</th>\n",
       "      <td>1515915625559931867</td>\n",
       "      <td>103</td>\n",
       "    </tr>\n",
       "    <tr>\n",
       "      <th>5782</th>\n",
       "      <td>1515915625487144079</td>\n",
       "      <td>98</td>\n",
       "    </tr>\n",
       "  </tbody>\n",
       "</table>\n",
       "</div>"
      ],
      "text/plain": [
       "                 client_id  num_cost\n",
       "44817  1515915625853312319       346\n",
       "36600  1515915625624308268       218\n",
       "35816  1515915625607113301       210\n",
       "2879   1515915625470860261       131\n",
       "18479  1515915625500232103       131\n",
       "17169  1515915625491750681       121\n",
       "13552  1515915625490352441       111\n",
       "33360  1515915625586493853       107\n",
       "28053  1515915625559931867       103\n",
       "5782   1515915625487144079        98"
      ]
     },
     "execution_count": 42,
     "metadata": {},
     "output_type": "execute_result"
    }
   ],
   "source": [
    "df_1_3[:10]"
   ]
  },
  {
   "cell_type": "markdown",
   "id": "7ab459a1-6bb8-4a0b-83ea-89f3c75637e1",
   "metadata": {},
   "source": [
    "<div class=\"alert alert-info\">\n",
    "    Только 9 клиентов в период наблюдений имели более 100 купленных позиций (максимальное число позиций на клиента 346). Количеств приобретенных позиций\n",
    "'num_cost' является признаком активности клиента и, вероятно, пропорционально цели. \n",
    "</div>"
   ]
  },
  {
   "cell_type": "code",
   "execution_count": 43,
   "id": "9b7dd3d2-a3cd-4b54-92d1-2d558d33c88f",
   "metadata": {},
   "outputs": [],
   "source": [
    "df_1_4 = df_1.groupby('client_id', as_index = False).agg({'cost':'mean'}).sort_values(by = 'cost', ascending = False)"
   ]
  },
  {
   "cell_type": "code",
   "execution_count": 44,
   "id": "2e7778bd-442c-47c6-9e8a-2caccff1ab00",
   "metadata": {},
   "outputs": [],
   "source": [
    "df_1_4 = df_1_4.rename(columns = {'cost':'avg_cost'})"
   ]
  },
  {
   "cell_type": "code",
   "execution_count": 45,
   "id": "2dcbc9b7-6ca0-456e-ab90-98d9745abada",
   "metadata": {
    "scrolled": true
   },
   "outputs": [
    {
     "data": {
      "text/html": [
       "<div>\n",
       "<style scoped>\n",
       "    .dataframe tbody tr th:only-of-type {\n",
       "        vertical-align: middle;\n",
       "    }\n",
       "\n",
       "    .dataframe tbody tr th {\n",
       "        vertical-align: top;\n",
       "    }\n",
       "\n",
       "    .dataframe thead th {\n",
       "        text-align: right;\n",
       "    }\n",
       "</style>\n",
       "<table border=\"1\" class=\"dataframe\">\n",
       "  <thead>\n",
       "    <tr style=\"text-align: right;\">\n",
       "      <th></th>\n",
       "      <th>client_id</th>\n",
       "      <th>avg_cost</th>\n",
       "    </tr>\n",
       "  </thead>\n",
       "  <tbody>\n",
       "    <tr>\n",
       "      <th>47733</th>\n",
       "      <td>1515915625971673322</td>\n",
       "      <td>53499.0</td>\n",
       "    </tr>\n",
       "    <tr>\n",
       "      <th>39483</th>\n",
       "      <td>1515915625692218402</td>\n",
       "      <td>48499.0</td>\n",
       "    </tr>\n",
       "    <tr>\n",
       "      <th>47310</th>\n",
       "      <td>1515915625959777467</td>\n",
       "      <td>48499.0</td>\n",
       "    </tr>\n",
       "    <tr>\n",
       "      <th>49142</th>\n",
       "      <td>1515915625995288129</td>\n",
       "      <td>48299.0</td>\n",
       "    </tr>\n",
       "    <tr>\n",
       "      <th>42132</th>\n",
       "      <td>1515915625781028303</td>\n",
       "      <td>37240.0</td>\n",
       "    </tr>\n",
       "  </tbody>\n",
       "</table>\n",
       "</div>"
      ],
      "text/plain": [
       "                 client_id  avg_cost\n",
       "47733  1515915625971673322   53499.0\n",
       "39483  1515915625692218402   48499.0\n",
       "47310  1515915625959777467   48499.0\n",
       "49142  1515915625995288129   48299.0\n",
       "42132  1515915625781028303   37240.0"
      ]
     },
     "execution_count": 45,
     "metadata": {},
     "output_type": "execute_result"
    }
   ],
   "source": [
    "df_1_4[:5]"
   ]
  },
  {
   "cell_type": "code",
   "execution_count": 46,
   "id": "206e6a4f-cbc9-4cd0-8f8e-c13d21a233bc",
   "metadata": {},
   "outputs": [
    {
     "data": {
      "text/plain": [
       "49734"
      ]
     },
     "execution_count": 46,
     "metadata": {},
     "output_type": "execute_result"
    }
   ],
   "source": [
    "len(df_1_4.loc[df_1_4['avg_cost'] < 10000])"
   ]
  },
  {
   "cell_type": "markdown",
   "id": "f2bcf7c5-2ab0-484f-a767-6aef08c7890d",
   "metadata": {},
   "source": [
    "<div class=\"alert alert-info\">\n",
    "    Средняя стоимость всех позиций большинства клиентов (49734) менее 10000 (максималоьная стредняя стоимость позиций клиента 53499). Вероятность цели\n",
    "должна увеличиваться с ростом средней стоимости ползиции.\n",
    "</div>"
   ]
  },
  {
   "cell_type": "code",
   "execution_count": 47,
   "id": "75341317-5970-4c1a-95cb-1b47d5a7d92d",
   "metadata": {},
   "outputs": [],
   "source": [
    "df_1_5 = df_1.groupby('client_id', as_index = False).agg({'quantity':'count'}).sort_values(by = 'quantity', ascending = False)"
   ]
  },
  {
   "cell_type": "code",
   "execution_count": 48,
   "id": "a0845c0a-5783-49d9-9d03-45ec4f5bccae",
   "metadata": {
    "scrolled": true
   },
   "outputs": [
    {
     "data": {
      "text/html": [
       "<div>\n",
       "<style scoped>\n",
       "    .dataframe tbody tr th:only-of-type {\n",
       "        vertical-align: middle;\n",
       "    }\n",
       "\n",
       "    .dataframe tbody tr th {\n",
       "        vertical-align: top;\n",
       "    }\n",
       "\n",
       "    .dataframe thead th {\n",
       "        text-align: right;\n",
       "    }\n",
       "</style>\n",
       "<table border=\"1\" class=\"dataframe\">\n",
       "  <thead>\n",
       "    <tr style=\"text-align: right;\">\n",
       "      <th></th>\n",
       "      <th>client_id</th>\n",
       "      <th>quantity</th>\n",
       "    </tr>\n",
       "  </thead>\n",
       "  <tbody>\n",
       "    <tr>\n",
       "      <th>44817</th>\n",
       "      <td>1515915625853312319</td>\n",
       "      <td>346</td>\n",
       "    </tr>\n",
       "    <tr>\n",
       "      <th>36600</th>\n",
       "      <td>1515915625624308268</td>\n",
       "      <td>218</td>\n",
       "    </tr>\n",
       "    <tr>\n",
       "      <th>35816</th>\n",
       "      <td>1515915625607113301</td>\n",
       "      <td>210</td>\n",
       "    </tr>\n",
       "    <tr>\n",
       "      <th>2879</th>\n",
       "      <td>1515915625470860261</td>\n",
       "      <td>131</td>\n",
       "    </tr>\n",
       "    <tr>\n",
       "      <th>18479</th>\n",
       "      <td>1515915625500232103</td>\n",
       "      <td>131</td>\n",
       "    </tr>\n",
       "    <tr>\n",
       "      <th>17169</th>\n",
       "      <td>1515915625491750681</td>\n",
       "      <td>121</td>\n",
       "    </tr>\n",
       "    <tr>\n",
       "      <th>13552</th>\n",
       "      <td>1515915625490352441</td>\n",
       "      <td>111</td>\n",
       "    </tr>\n",
       "    <tr>\n",
       "      <th>33360</th>\n",
       "      <td>1515915625586493853</td>\n",
       "      <td>107</td>\n",
       "    </tr>\n",
       "    <tr>\n",
       "      <th>28053</th>\n",
       "      <td>1515915625559931867</td>\n",
       "      <td>103</td>\n",
       "    </tr>\n",
       "    <tr>\n",
       "      <th>5782</th>\n",
       "      <td>1515915625487144079</td>\n",
       "      <td>98</td>\n",
       "    </tr>\n",
       "  </tbody>\n",
       "</table>\n",
       "</div>"
      ],
      "text/plain": [
       "                 client_id  quantity\n",
       "44817  1515915625853312319       346\n",
       "36600  1515915625624308268       218\n",
       "35816  1515915625607113301       210\n",
       "2879   1515915625470860261       131\n",
       "18479  1515915625500232103       131\n",
       "17169  1515915625491750681       121\n",
       "13552  1515915625490352441       111\n",
       "33360  1515915625586493853       107\n",
       "28053  1515915625559931867       103\n",
       "5782   1515915625487144079        98"
      ]
     },
     "execution_count": 48,
     "metadata": {},
     "output_type": "execute_result"
    }
   ],
   "source": [
    "df_1_5[:10]"
   ]
  },
  {
   "cell_type": "markdown",
   "id": "e1a32bd9-9932-4aef-b69c-4aa0f5b8f8bc",
   "metadata": {},
   "source": [
    "<div class=\"alert alert-info\">\n",
    "    Общее количество единиц товара на одного клиента также может свидетельствовать об его активности и являться признаком, влияющим на цель.\n",
    "</div>"
   ]
  },
  {
   "cell_type": "code",
   "execution_count": 49,
   "id": "c79c2bcf-0cb0-4937-b25f-22934de48f11",
   "metadata": {},
   "outputs": [],
   "source": [
    "df_1_6 = df_1.groupby('client_id', as_index = False).agg({'quantity':'mean'}).sort_values(by = 'quantity', ascending = False)"
   ]
  },
  {
   "cell_type": "code",
   "execution_count": 50,
   "id": "87479cec-89c0-4b36-ae81-d5cba061e68d",
   "metadata": {},
   "outputs": [],
   "source": [
    "df_1_6 = df_1_6.rename(columns = {'quantity':'quantity_mean'})"
   ]
  },
  {
   "cell_type": "markdown",
   "id": "0f579c0b-8327-49f8-9b1d-9762c2531e1e",
   "metadata": {},
   "source": [
    "<div class=\"alert alert-info\">\n",
    "    Среднее количество единиц в каждой приобретенной позиции также может являться признаком активности клиента, влияющим на цель. \n",
    "</div>"
   ]
  },
  {
   "cell_type": "code",
   "execution_count": 51,
   "id": "ed639acc-893d-48f4-b1ed-bf62f2567c70",
   "metadata": {},
   "outputs": [],
   "source": [
    "df_1_cat = df_1.groupby('cat_1', as_index = False).agg({'price':'count'}).sort_values(by = 'price', ascending = False)"
   ]
  },
  {
   "cell_type": "code",
   "execution_count": 52,
   "id": "c890c574-cb96-480a-bce8-10277fe5af8f",
   "metadata": {},
   "outputs": [
    {
     "data": {
      "text/plain": [
       "0.5567435511948093"
      ]
     },
     "execution_count": 52,
     "metadata": {},
     "output_type": "execute_result"
    }
   ],
   "source": [
    "df_1_cat[:1]['price'].sum()/df_1_cat['price'].sum()"
   ]
  },
  {
   "cell_type": "code",
   "execution_count": 53,
   "id": "18d4ee20-a450-4545-8447-5e795658ae36",
   "metadata": {},
   "outputs": [],
   "source": [
    "cat_1 = list(df_1_cat[:2]['cat_1'])"
   ]
  },
  {
   "cell_type": "markdown",
   "id": "4f4eab37-ed8d-4475-896a-4f9ebb9350d5",
   "metadata": {},
   "source": [
    "<div class=\"alert alert-info\">\n",
    "    Более 50 % заказов составляют товары только 2 'любимых' крупных категорий. Можно предположить, что постоянные клиенты покупают товары именно этих 2\n",
    "крупных категорий.\n",
    "</div>"
   ]
  },
  {
   "cell_type": "code",
   "execution_count": 54,
   "id": "91121f37-1625-455b-8a93-02ab0e3883b8",
   "metadata": {},
   "outputs": [],
   "source": [
    "df_1_cat_1 = df_1.loc[df_1['cat_1'].isin(cat_1)]"
   ]
  },
  {
   "cell_type": "code",
   "execution_count": 55,
   "id": "c9f85aa8-d8d0-4742-ac01-091ab32cc193",
   "metadata": {},
   "outputs": [],
   "source": [
    "df_1_cat_1_v = df_1_cat_1.groupby('client_id', as_index = False).agg({'cost':'sum'}).sort_values(by = 'cost', ascending = False)"
   ]
  },
  {
   "cell_type": "code",
   "execution_count": 56,
   "id": "b1bf54a9-3c15-441e-a631-86724bbc4651",
   "metadata": {},
   "outputs": [],
   "source": [
    "df_1_cat_1_v = df_1_cat_1_v.rename(columns = {'cost':'cost_cat_1'})"
   ]
  },
  {
   "cell_type": "markdown",
   "id": "0a1dc44d-b691-4ec8-9a8c-cff91565ad91",
   "metadata": {},
   "source": [
    "<div class=\"alert alert-info\">\n",
    "    Общие расходы клиента на покупку товаров 'любимых' макрокатегорий является признаком, влияющим на цель. \n",
    "</div>"
   ]
  },
  {
   "cell_type": "code",
   "execution_count": 57,
   "id": "8bb342bb-03ed-4f7f-bac4-16940387e6b3",
   "metadata": {},
   "outputs": [],
   "source": [
    "df_1_cat_2 = df_1.groupby('cat_2', as_index = False).agg({'price':'count'}).sort_values(by = 'price', ascending = False)"
   ]
  },
  {
   "cell_type": "code",
   "execution_count": 58,
   "id": "9a082051-1031-4e6c-8658-b4339dffd3c4",
   "metadata": {},
   "outputs": [
    {
     "data": {
      "text/plain": [
       "0.5884238012343725"
      ]
     },
     "execution_count": 58,
     "metadata": {},
     "output_type": "execute_result"
    }
   ],
   "source": [
    "df_1_cat_2[:50]['price'].sum()/df_1_cat_2['price'].sum()"
   ]
  },
  {
   "cell_type": "code",
   "execution_count": 59,
   "id": "e203708a-23fe-443f-b1e2-9291902c2c88",
   "metadata": {},
   "outputs": [
    {
     "data": {
      "text/plain": [
       "893"
      ]
     },
     "execution_count": 59,
     "metadata": {},
     "output_type": "execute_result"
    }
   ],
   "source": [
    "len(df_1_cat_2)"
   ]
  },
  {
   "cell_type": "code",
   "execution_count": 60,
   "id": "b0579ef4-39d7-4ce6-8e2b-5deb3f39caf7",
   "metadata": {},
   "outputs": [],
   "source": [
    "cat_2 = list(df_1_cat_2[:100]['cat_2'])"
   ]
  },
  {
   "cell_type": "markdown",
   "id": "d519cd38-1539-4098-b33b-6052996201d3",
   "metadata": {},
   "source": [
    "<div class=\"alert alert-info\">\n",
    "    Также выявлено 100 'любимых' сочетаний макро- и микрокатегорий (около 50 % всех заказов), доля которых в покупках клиентов выявляет склонность \n",
    "клиента к постоянству.\n",
    "</div>"
   ]
  },
  {
   "cell_type": "code",
   "execution_count": 61,
   "id": "f27a4d3c-9f78-4bf7-9f06-2f145c12cdb6",
   "metadata": {},
   "outputs": [],
   "source": [
    "df_1_cat_2_ = df_1.loc[df_1['cat_2'].isin(cat_2)]"
   ]
  },
  {
   "cell_type": "code",
   "execution_count": 62,
   "id": "01d5969f-9f01-4e80-bf97-ac5c3fcafaf2",
   "metadata": {},
   "outputs": [],
   "source": [
    "df_1_cat_2_v = df_1_cat_2_.groupby('client_id', as_index = False).agg({'cost':'sum'}).sort_values(by = 'cost', ascending = False)"
   ]
  },
  {
   "cell_type": "code",
   "execution_count": 63,
   "id": "08242c36-82f5-4668-8514-502bdd196480",
   "metadata": {},
   "outputs": [],
   "source": [
    "df_1_cat_2_v = df_1_cat_2_v.rename(columns = {'cost':'cost_cat_2'})"
   ]
  },
  {
   "cell_type": "markdown",
   "id": "82715534-e2f3-4e75-98a9-f568f398b679",
   "metadata": {},
   "source": [
    "<div class=\"alert alert-info\">\n",
    "    Общие расходы клиента на покупку товаров 100 'любимых' сочетаний макро- и микрокатегорий является признаком, влияющим на цель. \n",
    "</div>"
   ]
  },
  {
   "cell_type": "code",
   "execution_count": 64,
   "id": "d7030022-981a-4853-873b-54f162117653",
   "metadata": {},
   "outputs": [],
   "source": [
    "date_v = df_1['date'].max() - timedelta(days=100)"
   ]
  },
  {
   "cell_type": "code",
   "execution_count": 65,
   "id": "983b02e6-761b-4966-90ec-fde2e918a405",
   "metadata": {},
   "outputs": [],
   "source": [
    "df_1_v = df_1.loc[df_1['date'] > date_v]"
   ]
  },
  {
   "cell_type": "code",
   "execution_count": 66,
   "id": "83cf7bef-c4e1-495e-803c-25aca9ee2afa",
   "metadata": {},
   "outputs": [],
   "source": [
    "df_1_2_v = df_1_v.groupby('client_id', as_index = False).agg({'cost':'sum'}).sort_values(by = 'cost', ascending = False)"
   ]
  },
  {
   "cell_type": "code",
   "execution_count": 67,
   "id": "9f9a72a6-a344-4ad1-8612-925258a46568",
   "metadata": {},
   "outputs": [],
   "source": [
    "df_1_2_v = df_1_2_v.rename(columns = {'cost':'cost_v'})"
   ]
  },
  {
   "cell_type": "markdown",
   "id": "2a233994-c418-440d-be3d-c4d70d352d2c",
   "metadata": {},
   "source": [
    "<div class=\"alert alert-info\">\n",
    "    Активность клиента в последние 100 дней наблюдаемого периода связана с целью и может свидетельствовать о снижении вероятности цели \n",
    "(клиент в последний период много покупал, и надобность в покупаках могла не успеть сформироваться в валидационный период). Соответственно, общая сумма\n",
    "покупок клиента в последние 100 дней является признаком, влияющим на цель.\n",
    "</div>"
   ]
  },
  {
   "cell_type": "code",
   "execution_count": 68,
   "id": "97c9b99c-fa20-43cf-a083-653cdb8d3c17",
   "metadata": {},
   "outputs": [],
   "source": [
    "df_1_3_v = df_1_v.groupby('client_id', as_index = False).agg({'price':'count'}).sort_values(by = 'price', ascending = False)"
   ]
  },
  {
   "cell_type": "code",
   "execution_count": 69,
   "id": "03e3fa32-7209-43fa-bc5c-16d0dbb02ef0",
   "metadata": {},
   "outputs": [],
   "source": [
    "df_1_3_v = df_1_3_v.rename(columns = {'price':'num_cost_v'})"
   ]
  },
  {
   "cell_type": "markdown",
   "id": "d8d45c2f-148d-4d25-bea7-ed5c7067cfa8",
   "metadata": {},
   "source": [
    "<div class=\"alert alert-info\">\n",
    "    Количество купленных заказов (позиций) клиента в последние 100 дней характеризует его активность перед валидационным периодом, и, соответственно,\n",
    "влияет на цель.\n",
    "</div>"
   ]
  },
  {
   "cell_type": "code",
   "execution_count": 70,
   "id": "518d42a1-3d8c-4978-b1d4-0de869ca1ed7",
   "metadata": {},
   "outputs": [],
   "source": [
    "df_1_1 = df_1_1.reset_index(drop=True)\n",
    "df_1_2 = df_1_2.reset_index(drop=True)"
   ]
  },
  {
   "cell_type": "code",
   "execution_count": 71,
   "id": "556542e4-c610-4ee6-8d9d-3d3ebac46afd",
   "metadata": {},
   "outputs": [],
   "source": [
    "df_1_f = df_1_1.merge(df_1_2, how = 'left', on = 'client_id')"
   ]
  },
  {
   "cell_type": "code",
   "execution_count": 72,
   "id": "fafae373-1b19-47fe-8095-4c371917277a",
   "metadata": {},
   "outputs": [],
   "source": [
    "df_1_f = df_1_f.merge(df_1_3, how = 'left', on = 'client_id')"
   ]
  },
  {
   "cell_type": "code",
   "execution_count": 73,
   "id": "25932d8d-9406-46fd-a82f-40e8de5b7437",
   "metadata": {},
   "outputs": [],
   "source": [
    "df_1_f = df_1_f.merge(df_1_4, how = 'left', on = 'client_id')"
   ]
  },
  {
   "cell_type": "code",
   "execution_count": 74,
   "id": "04386d4d-ce4a-4046-abdb-176f8059269f",
   "metadata": {},
   "outputs": [],
   "source": [
    "df_1_f = df_1_f.merge(df_1_5, how = 'left', on = 'client_id')"
   ]
  },
  {
   "cell_type": "code",
   "execution_count": 75,
   "id": "205b6652-69ea-47b8-bb24-3e2733e2f340",
   "metadata": {},
   "outputs": [],
   "source": [
    "df_1_f = df_1_f.merge(df_1_6, how = 'left', on = 'client_id')"
   ]
  },
  {
   "cell_type": "code",
   "execution_count": 76,
   "id": "c2090e6c-0973-4e81-9fe2-e033065d8d06",
   "metadata": {},
   "outputs": [],
   "source": [
    "df_1_f = df_1_f.merge(df_1_2_v, how = 'left', on = 'client_id')"
   ]
  },
  {
   "cell_type": "code",
   "execution_count": 77,
   "id": "84262b10-c224-4cc5-ba87-e4068fe2a68e",
   "metadata": {},
   "outputs": [],
   "source": [
    "df_1_f = df_1_f.merge(df_1_3_v, how = 'left', on = 'client_id')"
   ]
  },
  {
   "cell_type": "code",
   "execution_count": 78,
   "id": "fa302e98-4365-480d-87a3-ebd852a9823a",
   "metadata": {},
   "outputs": [],
   "source": [
    "df_1_f = df_1_f.merge(df_1_cat_1_v, how = 'left', on = 'client_id')"
   ]
  },
  {
   "cell_type": "code",
   "execution_count": 79,
   "id": "fdfff459-2f12-4ac7-9f00-79a08ba5e0ce",
   "metadata": {},
   "outputs": [],
   "source": [
    "df_1_f = df_1_f.merge(df_1_cat_2_v, how = 'left', on = 'client_id')"
   ]
  },
  {
   "cell_type": "code",
   "execution_count": 80,
   "id": "3a4d4589-86f2-46f5-b078-2e25820023c4",
   "metadata": {},
   "outputs": [],
   "source": [
    "df_1_f['cost_v'] = df_1_f['cost_v'].fillna(0)"
   ]
  },
  {
   "cell_type": "code",
   "execution_count": 81,
   "id": "1911e72c-ae87-44d0-919f-94473bb6b7ac",
   "metadata": {},
   "outputs": [],
   "source": [
    "df_1_f['num_cost_v'] = df_1_f['num_cost_v'].fillna(0)"
   ]
  },
  {
   "cell_type": "code",
   "execution_count": 82,
   "id": "22f800ca-19d2-4dd0-b48f-40688d1db193",
   "metadata": {},
   "outputs": [],
   "source": [
    "df_1_f['cost_cat_1'] = df_1_f['cost_cat_1'].fillna(0)"
   ]
  },
  {
   "cell_type": "code",
   "execution_count": 83,
   "id": "9f4a8b2c-1afe-4c41-82ad-80adc114b2f9",
   "metadata": {},
   "outputs": [],
   "source": [
    "df_1_f['cost_cat_2'] = df_1_f['cost_cat_2'].fillna(0)"
   ]
  },
  {
   "cell_type": "code",
   "execution_count": 84,
   "id": "2ad08d61-89bb-4f92-8416-ba11c130aa1d",
   "metadata": {},
   "outputs": [],
   "source": [
    "df_1_f['ratio_cat_1'] = df_1_f['cost_cat_1']/df_1_f['cost']"
   ]
  },
  {
   "cell_type": "code",
   "execution_count": 85,
   "id": "a91c786f-4b8d-42ba-8b24-98812eabef95",
   "metadata": {},
   "outputs": [],
   "source": [
    "df_1_f['ratio_cat_2'] = df_1_f['cost_cat_2']/df_1_f['cost']"
   ]
  },
  {
   "cell_type": "code",
   "execution_count": 86,
   "id": "2501c4f6-f99b-4e13-b766-504dcb34e659",
   "metadata": {},
   "outputs": [],
   "source": [
    "df_1_f['ratio_cost'] = df_1_f['cost_v']/df_1_f['cost']"
   ]
  },
  {
   "cell_type": "code",
   "execution_count": 87,
   "id": "b541fed6-2f1f-4b14-9030-52a900ab053c",
   "metadata": {},
   "outputs": [],
   "source": [
    "df_1_f['ratio_num'] = df_1_f['num_cost_v']/df_1_f['num_cost']"
   ]
  },
  {
   "cell_type": "markdown",
   "id": "fda3f2d9-cdf8-4309-864a-f6800e6fde7a",
   "metadata": {},
   "source": [
    "<div class=\"alert alert-info\">\n",
    "    Новые признаки были объеденены в единый датафрейм df_1_f. В качестве признаков были введены также новые поля, характеризующие долю суммы покупок \n",
    "клиентов в последние 100 дней ('ratio_cost'), долю количества позиций, приобретенных клиентом в последние 100 дней ('ratio_num'), долю затрат клиента \n",
    "на 'любимую' макрокатегорию ('ratio_cat_1'), доля трат клиента на 'любимое' сочетание макро- и микрокатегорий ('ratio_cat_2') и доля отправленных\n",
    "сообщений, которая приходится на 1 позицию заказаь клиента. \n",
    "</div>"
   ]
  },
  {
   "cell_type": "code",
   "execution_count": 88,
   "id": "0cb8d548-0078-4c93-966b-e9b3915742dc",
   "metadata": {},
   "outputs": [
    {
     "data": {
      "text/plain": [
       "array(['open', 'click', 'purchase', 'send', 'unsubscribe', 'hbq_spam',\n",
       "       'hard_bounce', 'subscribe', 'soft_bounce', 'complain', 'close'],\n",
       "      dtype=object)"
      ]
     },
     "execution_count": 88,
     "metadata": {},
     "output_type": "execute_result"
    }
   ],
   "source": [
    "df_2['event'].unique()"
   ]
  },
  {
   "cell_type": "code",
   "execution_count": 89,
   "id": "ee0da698-002c-4f8f-8f84-1527d858adda",
   "metadata": {},
   "outputs": [
    {
     "data": {
      "text/plain": [
       "53329"
      ]
     },
     "execution_count": 89,
     "metadata": {},
     "output_type": "execute_result"
    }
   ],
   "source": [
    "len(df_2['client_id'].unique())"
   ]
  },
  {
   "cell_type": "code",
   "execution_count": 90,
   "id": "b98be801-d0ad-42f6-bc97-1566115aa99f",
   "metadata": {},
   "outputs": [],
   "source": [
    "positive = ['purchase', 'subscribe']"
   ]
  },
  {
   "cell_type": "code",
   "execution_count": 91,
   "id": "58149d34-11fa-43f4-a2b4-2146d51a3515",
   "metadata": {},
   "outputs": [],
   "source": [
    "neutral = ['open', 'click', 'close']"
   ]
  },
  {
   "cell_type": "code",
   "execution_count": 92,
   "id": "bebe3fd7-1cb3-4656-9d27-8ed84699923b",
   "metadata": {},
   "outputs": [],
   "source": [
    "negative = ['unsubscribe', 'hard_bounce', 'complain', 'soft_bounce', 'hbq_spam']"
   ]
  },
  {
   "cell_type": "code",
   "execution_count": 93,
   "id": "bc03c9f2-4267-408c-8c58-dbba681f4cc0",
   "metadata": {},
   "outputs": [],
   "source": [
    "df_2_o = df_2.groupby(['client_id', 'event'], as_index = False).agg({'message_id':'count'})"
   ]
  },
  {
   "cell_type": "code",
   "execution_count": 94,
   "id": "7ac59cef-2957-4df9-ae73-9d97beea9a28",
   "metadata": {},
   "outputs": [
    {
     "data": {
      "text/plain": [
       "206134"
      ]
     },
     "execution_count": 94,
     "metadata": {},
     "output_type": "execute_result"
    }
   ],
   "source": [
    "len(df_2_o)"
   ]
  },
  {
   "cell_type": "code",
   "execution_count": 95,
   "id": "2266fde3-277b-4c80-9f96-703a4d2c301f",
   "metadata": {},
   "outputs": [],
   "source": [
    "df_2_sum = df_2_o.groupby('client_id', as_index = False).agg({'message_id':'sum'})"
   ]
  },
  {
   "cell_type": "code",
   "execution_count": 96,
   "id": "74d6c7d9-14f8-4590-a05f-42386d9c6f3d",
   "metadata": {},
   "outputs": [],
   "source": [
    "df_2_sum = df_2_sum.rename(columns = {'message_id':'event_sum'})"
   ]
  },
  {
   "cell_type": "code",
   "execution_count": 97,
   "id": "34de38ff-5411-44e0-85e2-e29c45dacd15",
   "metadata": {},
   "outputs": [],
   "source": [
    "df_2_pos = df_2_o.loc[df_2_o['event'].isin(positive)]"
   ]
  },
  {
   "cell_type": "code",
   "execution_count": 98,
   "id": "6bd43436-efcc-4cf0-9803-e6fb7749316d",
   "metadata": {},
   "outputs": [],
   "source": [
    "df_2_pos = df_2_pos.groupby('client_id', as_index = False).agg({'message_id':'sum'})"
   ]
  },
  {
   "cell_type": "code",
   "execution_count": 99,
   "id": "c03f6816-a33d-4ab0-bed9-38209c4bb622",
   "metadata": {},
   "outputs": [],
   "source": [
    "df_2_pos = df_2_pos.rename(columns = {'message_id':'event_pos'})"
   ]
  },
  {
   "cell_type": "code",
   "execution_count": 100,
   "id": "72fc766a-226f-4037-9576-260a5f036ea6",
   "metadata": {},
   "outputs": [],
   "source": [
    "df_2_neu = df_2_o.loc[df_2_o['event'].isin(neutral)]"
   ]
  },
  {
   "cell_type": "code",
   "execution_count": 101,
   "id": "8f3c1bea-3038-43f6-8d61-3d43618a07ef",
   "metadata": {},
   "outputs": [],
   "source": [
    "df_2_neu = df_2_neu.groupby('client_id', as_index = False).agg({'message_id':'sum'})"
   ]
  },
  {
   "cell_type": "code",
   "execution_count": 102,
   "id": "240443e2-7f4b-423a-b282-de540981b82a",
   "metadata": {},
   "outputs": [],
   "source": [
    "df_2_neu = df_2_neu.rename(columns = {'message_id':'event_neu'})"
   ]
  },
  {
   "cell_type": "code",
   "execution_count": 103,
   "id": "af57673a-4a30-4bae-93c9-1da780d9299e",
   "metadata": {},
   "outputs": [],
   "source": [
    "df_2_neg = df_2_o.loc[df_2_o['event'].isin(negative)]"
   ]
  },
  {
   "cell_type": "code",
   "execution_count": 104,
   "id": "f7d7a996-b7f3-418e-8b9a-6429094e5dc5",
   "metadata": {},
   "outputs": [],
   "source": [
    "df_2_neg = df_2_neg.groupby('client_id', as_index = False).agg({'message_id':'sum'})"
   ]
  },
  {
   "cell_type": "code",
   "execution_count": 105,
   "id": "befb3d4c-fb63-4e71-b1e1-351e5d93205e",
   "metadata": {},
   "outputs": [],
   "source": [
    "df_2_neg = df_2_neg.rename(columns = {'message_id':'event_neg'})"
   ]
  },
  {
   "cell_type": "code",
   "execution_count": 106,
   "id": "1b5ade33-a6f0-4b24-b4e9-d2ac20c43d7e",
   "metadata": {},
   "outputs": [],
   "source": [
    "df_2_t = df_2_sum.merge(df_2_pos, on = 'client_id', how = 'outer')"
   ]
  },
  {
   "cell_type": "code",
   "execution_count": 107,
   "id": "178b33ba-292c-44da-bb9c-6fbc2237a801",
   "metadata": {},
   "outputs": [],
   "source": [
    "df_2_t = df_2_t.merge(df_2_neu, on = 'client_id', how = 'outer')"
   ]
  },
  {
   "cell_type": "code",
   "execution_count": 108,
   "id": "4efc08c5-463d-43bd-8ea1-eae5b89b1827",
   "metadata": {},
   "outputs": [],
   "source": [
    "df_2_t = df_2_t.merge(df_2_neg, on = 'client_id', how = 'outer')"
   ]
  },
  {
   "cell_type": "code",
   "execution_count": 109,
   "id": "bbc96930-8874-4bc4-8133-c3a8f586a2d8",
   "metadata": {},
   "outputs": [],
   "source": [
    "df_2_t['event_neu'] = df_2_t['event_neu'].fillna(0)"
   ]
  },
  {
   "cell_type": "code",
   "execution_count": 110,
   "id": "00c849a2-4c11-4caf-b6aa-27df5dcaf572",
   "metadata": {},
   "outputs": [],
   "source": [
    "df_2_t['event_neg'] = df_2_t['event_neg'].fillna(0)"
   ]
  },
  {
   "cell_type": "code",
   "execution_count": 111,
   "id": "f73bbb64-55ae-41c1-a69c-b70d47937dfe",
   "metadata": {},
   "outputs": [],
   "source": [
    "df_2_t['event_pos'] = df_2_t['event_pos'].fillna(0)"
   ]
  },
  {
   "cell_type": "code",
   "execution_count": 112,
   "id": "fd8d75f5-9b9e-4f6b-9e48-be8502cf6a74",
   "metadata": {},
   "outputs": [],
   "source": [
    "df_2_t['event_sum'] = df_2_t['event_sum'].fillna(0)"
   ]
  },
  {
   "cell_type": "code",
   "execution_count": 113,
   "id": "7fe592b0-17ed-434a-a4e8-bff10d3ea745",
   "metadata": {},
   "outputs": [],
   "source": [
    "df_2_t['rat_ev_pos'] = df_2_t['event_pos']/df_2_t['event_sum']"
   ]
  },
  {
   "cell_type": "code",
   "execution_count": 114,
   "id": "f11629e1-132e-4836-aeaf-56ca70a16cca",
   "metadata": {},
   "outputs": [],
   "source": [
    "df_2_t['rat_ev_neu'] = df_2_t['event_neu']/df_2_t['event_sum']"
   ]
  },
  {
   "cell_type": "code",
   "execution_count": 115,
   "id": "1df311b5-abca-493f-a604-50c7a8b81cdf",
   "metadata": {},
   "outputs": [],
   "source": [
    "df_2_t['rat_ev_neg'] = df_2_t['event_neg']/df_2_t['event_sum']"
   ]
  },
  {
   "cell_type": "code",
   "execution_count": 116,
   "id": "b4c36868-4f4f-48dc-88ae-7e867b0519b8",
   "metadata": {},
   "outputs": [],
   "source": [
    "df_2_t = df_2_t.drop(['event_neu', 'event_neg', 'event_pos', 'event_sum'], axis = 1)"
   ]
  },
  {
   "cell_type": "markdown",
   "id": "898795e1-2377-49cc-b186-ba9739ae9903",
   "metadata": {},
   "source": [
    "<div class=\"alert alert-info\">\n",
    "   События в поле 'event' были выделены в 3 группы: позитивные, нейтральные и негативные. Для каждого клиента были найдены доли позитивных, нейтральных \n",
    "и негативных реакций на сообщения, которые являются признаками, влияющими на цель.\n",
    "</div>"
   ]
  },
  {
   "cell_type": "code",
   "execution_count": 117,
   "id": "bb9e29d1-2b4c-4db1-92a6-affb1b1a4ac0",
   "metadata": {},
   "outputs": [],
   "source": [
    "df_f = df_1_f.merge(df_2_t, how = 'left', on = 'client_id')"
   ]
  },
  {
   "cell_type": "code",
   "execution_count": 118,
   "id": "e1fb4216-5cc5-44f1-a44c-6fa53e0b2f22",
   "metadata": {},
   "outputs": [],
   "source": [
    "df_f.loc[df_f['rat_ev_pos'].isna(), 'rat_ev_pos'] = df_f['rat_ev_pos'].median()"
   ]
  },
  {
   "cell_type": "code",
   "execution_count": 119,
   "id": "68320626-6813-4456-858f-870fd6a05fea",
   "metadata": {},
   "outputs": [],
   "source": [
    "df_f.loc[df_f['rat_ev_neu'].isna(), 'rat_ev_neu'] = df_f['rat_ev_neu'].median()"
   ]
  },
  {
   "cell_type": "code",
   "execution_count": 120,
   "id": "7e65457b-2c1d-4fd1-bf9a-6ea8c6d8cfba",
   "metadata": {},
   "outputs": [],
   "source": [
    "df_f.loc[df_f['rat_ev_neg'].isna(), 'rat_ev_neg'] = df_f['rat_ev_neg'].median()"
   ]
  },
  {
   "cell_type": "markdown",
   "id": "d9c04e15-eb6a-4586-bf2a-e16255a84daf",
   "metadata": {},
   "source": [
    "<div class=\"alert alert-info\">\n",
    "   Новые признаки добавлены в финальную таблицу df_f. Пропуски в столбцах заменены медианными значениями.\n",
    "</div>"
   ]
  },
  {
   "cell_type": "code",
   "execution_count": 121,
   "id": "a9a52b71-fdf4-4a65-a872-b79cc8cfe440",
   "metadata": {},
   "outputs": [],
   "source": [
    "positive_n = ['nunique_purchase', 'nunique_subscribe']"
   ]
  },
  {
   "cell_type": "code",
   "execution_count": 122,
   "id": "950e3b1e-68a1-46c3-bb94-72b63796dab2",
   "metadata": {},
   "outputs": [],
   "source": [
    "negative_n = ['nunique_unsubscribe', 'nunique_hard_bounce', 'nunique_complain', 'nunique_soft_bounce', 'nunique_hbq_spam']"
   ]
  },
  {
   "cell_type": "code",
   "execution_count": 123,
   "id": "240716b6-e99a-4e4c-99e7-24fa3a82cf45",
   "metadata": {},
   "outputs": [],
   "source": [
    "df_4['nunique_pos'] = df_4['nunique_purchase'] + df_4['nunique_subscribe']"
   ]
  },
  {
   "cell_type": "code",
   "execution_count": 124,
   "id": "72f400d8-3e41-4bfc-aa91-d76c077b7a19",
   "metadata": {},
   "outputs": [],
   "source": [
    "df_4['nunique_neg'] = df_4['nunique_unsubscribe'] + df_4['nunique_hard_bounce'] + df_4['nunique_complain'] + df_4['nunique_soft_bounce'] + df_4['nunique_hbq_spam']"
   ]
  },
  {
   "cell_type": "code",
   "execution_count": 125,
   "id": "d2e49fb9-2c95-4ab0-bf09-135a2c6464a5",
   "metadata": {},
   "outputs": [],
   "source": [
    "df_4_v = df_4.loc[df_4['date'] > date_v]"
   ]
  },
  {
   "cell_type": "code",
   "execution_count": 126,
   "id": "793887de-129f-4d6a-b6ef-90e87a8f6abb",
   "metadata": {},
   "outputs": [],
   "source": [
    "df_4_v_pos = df_4_v.groupby('bulk_campaign_id', as_index = False).agg({'nunique_pos':'mean'}).sort_values(by = 'nunique_pos', ascending = False)[:100]"
   ]
  },
  {
   "cell_type": "code",
   "execution_count": 127,
   "id": "bec5f900-f859-44ec-9ca9-e84f220b5320",
   "metadata": {},
   "outputs": [],
   "source": [
    "df_4_v_neg = df_4_v.groupby('bulk_campaign_id', as_index = False).agg({'nunique_neg':'mean'}).sort_values(by = 'nunique_neg', ascending = False)[:100]"
   ]
  },
  {
   "cell_type": "code",
   "execution_count": 128,
   "id": "d82361af-e5c3-4ad8-bbaa-0826a2d02968",
   "metadata": {},
   "outputs": [],
   "source": [
    "active_pos = list(df_4_v_pos['bulk_campaign_id'])"
   ]
  },
  {
   "cell_type": "code",
   "execution_count": 129,
   "id": "b9b3346a-8236-4c04-9a56-494abeabdd7f",
   "metadata": {},
   "outputs": [],
   "source": [
    "active_neg = list(df_4_v_neg['bulk_campaign_id'])"
   ]
  },
  {
   "cell_type": "code",
   "execution_count": 130,
   "id": "2069fe3b-4041-4884-8408-1928741c6be9",
   "metadata": {},
   "outputs": [],
   "source": [
    "df_2_act_pos = df_2.loc[df_2['bulk_campaign_id'].isin(active_pos)].groupby('client_id', as_index = False).agg({'bulk_campaign_id':'count'})"
   ]
  },
  {
   "cell_type": "code",
   "execution_count": 131,
   "id": "595a64a9-0390-425f-a0a7-d05b27338a66",
   "metadata": {},
   "outputs": [],
   "source": [
    "df_2_act_pos = df_2_act_pos.rename(columns = {'bulk_campaign_id':'comp_pos'})"
   ]
  },
  {
   "cell_type": "code",
   "execution_count": 132,
   "id": "b7ce229c-210a-49b0-a9e2-ef4014d0bba7",
   "metadata": {},
   "outputs": [
    {
     "data": {
      "text/plain": [
       "31525"
      ]
     },
     "execution_count": 132,
     "metadata": {},
     "output_type": "execute_result"
    }
   ],
   "source": [
    "len(df_2_act_pos)"
   ]
  },
  {
   "cell_type": "code",
   "execution_count": 133,
   "id": "36c6d7c5-e346-4336-97dd-9e95eca2a6a4",
   "metadata": {},
   "outputs": [],
   "source": [
    "df_2_pos_ = df_2.groupby('client_id', as_index = False).agg({'bulk_campaign_id':'count'})"
   ]
  },
  {
   "cell_type": "code",
   "execution_count": 134,
   "id": "69de9aff-f491-4a46-a76e-e72d6336b815",
   "metadata": {},
   "outputs": [],
   "source": [
    "df_2_pos_ = df_2_pos_.rename(columns = {'bulk_campaign_id':'comp'})"
   ]
  },
  {
   "cell_type": "code",
   "execution_count": 135,
   "id": "e117a3db-dadc-4040-b30f-09290ddd5fc4",
   "metadata": {
    "scrolled": true
   },
   "outputs": [
    {
     "data": {
      "text/plain": [
       "53329"
      ]
     },
     "execution_count": 135,
     "metadata": {},
     "output_type": "execute_result"
    }
   ],
   "source": [
    "len(df_2_pos_)"
   ]
  },
  {
   "cell_type": "code",
   "execution_count": 136,
   "id": "71e86ee6-57aa-448f-b18d-588c974f3613",
   "metadata": {},
   "outputs": [],
   "source": [
    "df_4_pos = df_2_pos_.merge(df_2_act_pos, on = 'client_id', how = 'left')"
   ]
  },
  {
   "cell_type": "code",
   "execution_count": 137,
   "id": "5f539550-6bc4-4b9a-b9d9-4ad6f0052af0",
   "metadata": {},
   "outputs": [],
   "source": [
    "df_4_pos['rat_comp_pos'] = df_4_pos['comp_pos']/df_4_pos['comp']"
   ]
  },
  {
   "cell_type": "code",
   "execution_count": 138,
   "id": "341a7265-63bb-4c30-8cbe-06ceab17b738",
   "metadata": {},
   "outputs": [],
   "source": [
    "df_4_pos['rat_comp_pos'] = df_4_pos['rat_comp_pos'].fillna(0)"
   ]
  },
  {
   "cell_type": "code",
   "execution_count": 139,
   "id": "1e564f5e-b360-401e-ac97-501419d51ce1",
   "metadata": {},
   "outputs": [],
   "source": [
    "df_4_pos = df_4_pos.drop(['comp', 'comp_pos'], axis = 1)"
   ]
  },
  {
   "cell_type": "markdown",
   "id": "6cbcc635-aa86-4396-a5b7-7d4f25f529cc",
   "metadata": {},
   "source": [
    "<div class=\"alert alert-info\">\n",
    "   Был получен список из 100 рекламных компаний, которые давали в сумме наиболее успешный результат в последние 100 дней наблюдаемого периода. Для\n",
    "каждого клиента была найдена доля наиболее успешных (в последние 100 дней) рекламных компаний ('rat_comp_pos'), которая, вероятно, будет пропорциональна\n",
    "цели.\n",
    "</div>"
   ]
  },
  {
   "cell_type": "code",
   "execution_count": 140,
   "id": "bcbf6c22-da04-4923-b75d-fda6121c0e6d",
   "metadata": {},
   "outputs": [],
   "source": [
    "df_2_act_neg = df_2.loc[df_2['bulk_campaign_id'].isin(active_neg)].groupby('client_id', as_index = False).agg({'bulk_campaign_id':'count'})"
   ]
  },
  {
   "cell_type": "code",
   "execution_count": 141,
   "id": "23a79e3e-9e89-4fdc-ad64-a6bd2ec28233",
   "metadata": {},
   "outputs": [],
   "source": [
    "df_2_act_neg = df_2_act_neg.rename(columns = {'bulk_campaign_id':'comp_neg'})"
   ]
  },
  {
   "cell_type": "code",
   "execution_count": 142,
   "id": "7a25f9f3-4648-40ef-8414-c53d48adb3cb",
   "metadata": {},
   "outputs": [
    {
     "data": {
      "text/plain": [
       "43783"
      ]
     },
     "execution_count": 142,
     "metadata": {},
     "output_type": "execute_result"
    }
   ],
   "source": [
    "len(df_2_act_neg)"
   ]
  },
  {
   "cell_type": "code",
   "execution_count": 143,
   "id": "11cb0f1f-726f-4042-a0bd-4dfbc11e5bb8",
   "metadata": {},
   "outputs": [],
   "source": [
    "df_4_neg = df_2_pos_.merge(df_2_act_neg, on = 'client_id', how = 'left')"
   ]
  },
  {
   "cell_type": "code",
   "execution_count": 144,
   "id": "da7c3fec-379b-4574-8865-94e82fa4b315",
   "metadata": {},
   "outputs": [],
   "source": [
    "df_4_neg['rat_comp_neg'] = df_4_neg['comp_neg']/df_4_neg['comp']"
   ]
  },
  {
   "cell_type": "code",
   "execution_count": 145,
   "id": "561999d1-a6e0-4432-b8e8-7b2c5f379153",
   "metadata": {},
   "outputs": [],
   "source": [
    "df_4_neg['rat_comp_neg'] = df_4_neg['rat_comp_neg'].fillna(0)"
   ]
  },
  {
   "cell_type": "code",
   "execution_count": 146,
   "id": "3e1ba34b-d057-4ca5-be08-bb652b2ead25",
   "metadata": {},
   "outputs": [],
   "source": [
    "df_4_neg = df_4_neg.drop(['comp', 'comp_neg'], axis = 1)"
   ]
  },
  {
   "cell_type": "markdown",
   "id": "1f6c5822-a01b-485f-9d23-d79c6a31ea36",
   "metadata": {},
   "source": [
    "<div class=\"alert alert-info\">\n",
    "   Был получен список из 100 рекламных компаний, которые давали в сумме негативный результат в последние 100 дней наблюдаемого периода. Для\n",
    "каждого клиента была найдена доля наиболее провальных (в последние 100 дней) рекламных компаний ('rat_comp_neg'), которая должна обратнопропорционально\n",
    "влиять на цель.\n",
    "</div>"
   ]
  },
  {
   "cell_type": "code",
   "execution_count": 147,
   "id": "626bbf2d-1b61-4b3a-8281-80dd9e562817",
   "metadata": {},
   "outputs": [],
   "source": [
    "df_f = df_f.merge(df_4_pos, on = 'client_id', how = 'left')"
   ]
  },
  {
   "cell_type": "code",
   "execution_count": 148,
   "id": "63e23c3d-3edd-42a1-af46-6484f9ae1117",
   "metadata": {},
   "outputs": [],
   "source": [
    "df_f = df_f.merge(df_4_neg, on = 'client_id', how = 'left')"
   ]
  },
  {
   "cell_type": "code",
   "execution_count": 149,
   "id": "d568e366-37db-43d8-80e8-bb52b4ed1d7e",
   "metadata": {},
   "outputs": [],
   "source": [
    "df_f.loc[df_f['rat_comp_pos'].isna(), 'rat_comp_pos'] = df_f['rat_comp_pos'].median() "
   ]
  },
  {
   "cell_type": "code",
   "execution_count": 150,
   "id": "0f68d80d-3212-46a4-ab83-94b407b2550d",
   "metadata": {},
   "outputs": [],
   "source": [
    "df_f.loc[df_f['rat_comp_neg'].isna(), 'rat_comp_neg'] = df_f['rat_comp_neg'].median() "
   ]
  },
  {
   "cell_type": "markdown",
   "id": "fe70f6ca-afdf-407f-bddf-8a756163c330",
   "metadata": {},
   "source": [
    "<div class=\"alert alert-info\">\n",
    "   Новые признаки (доли позитивных и негативных рекламных компаний) были добавлены в итоговый датафрейм, а пропуски заменены медианными значениями \n",
    "данных признаков.\n",
    "</div>"
   ]
  },
  {
   "cell_type": "code",
   "execution_count": 151,
   "id": "f7401516-e405-46d9-b71e-908f34dedccd",
   "metadata": {},
   "outputs": [],
   "source": [
    "df_5_v = df_5.loc[df_5['date'] > date_v]"
   ]
  },
  {
   "cell_type": "code",
   "execution_count": 152,
   "id": "a2f13176-23de-4991-b42d-e39d30de9dda",
   "metadata": {},
   "outputs": [],
   "source": [
    "push_pos = df_5_v['nunique_purchase_mobile_push'].sum() + df_5_v['nunique_open_mobile_push'].sum() "
   ]
  },
  {
   "cell_type": "code",
   "execution_count": 153,
   "id": "da652492-e8d8-44dd-b393-3960539687d7",
   "metadata": {},
   "outputs": [],
   "source": [
    "push_neg = df_5_v['nunique_soft_bounce_mobile_push'].sum() + df_5_v['nunique_hard_bounce_mobile_push'].sum()  "
   ]
  },
  {
   "cell_type": "code",
   "execution_count": 154,
   "id": "9527bf19-438b-45c8-ad1a-f827adea1939",
   "metadata": {},
   "outputs": [],
   "source": [
    "mail_pos = df_5_v['nunique_purchase_email'].sum() + df_5_v['nunique_open_email'].sum() "
   ]
  },
  {
   "cell_type": "code",
   "execution_count": 155,
   "id": "ba31d48a-32e3-4e45-aa0b-73489eb1c8c1",
   "metadata": {
    "jupyter": {
     "source_hidden": true
    }
   },
   "outputs": [],
   "source": [
    "mail_neg = df_5_v['nunique_soft_bounce_email'].sum() + df_5_v['nunique_hard_bounce_email'].sum()  "
   ]
  },
  {
   "cell_type": "code",
   "execution_count": 156,
   "id": "dfd2d2d5-1e17-4900-831a-f79bea74a00e",
   "metadata": {},
   "outputs": [
    {
     "data": {
      "text/plain": [
       "0.04980517750035696"
      ]
     },
     "execution_count": 156,
     "metadata": {},
     "output_type": "execute_result"
    }
   ],
   "source": [
    "mail_pos/push_pos"
   ]
  },
  {
   "cell_type": "code",
   "execution_count": 157,
   "id": "2efc88a2-87b1-4bb6-99b8-2eb464761494",
   "metadata": {},
   "outputs": [
    {
     "data": {
      "text/plain": [
       "0.39715248410616005"
      ]
     },
     "execution_count": 157,
     "metadata": {},
     "output_type": "execute_result"
    }
   ],
   "source": [
    "mail_neg/push_neg"
   ]
  },
  {
   "cell_type": "markdown",
   "id": "4ed9d8f8-b778-436a-99ef-d679fd5b870d",
   "metadata": {},
   "source": [
    "<div class=\"alert alert-info\">\n",
    "   При анализе каналов, которые использовались в последние 100 дней наблюдаемого периода, выяснилось, что по совокупности ежедневных уникальных \n",
    "позитивных действий, канал mobile_push на 95 % более эффективен, чем email. Сравнение суммы уникальных негативных действий показывает также, что \n",
    "канал mobile_push имеет на 20 % меньше негативных действий, чем email. \n",
    "</div>"
   ]
  },
  {
   "cell_type": "code",
   "execution_count": 158,
   "id": "436bcac5-ae34-4adf-bcf6-e9f9ccd80b06",
   "metadata": {},
   "outputs": [],
   "source": [
    "df_2_chan = df_2.groupby(['client_id', 'channel'], as_index = False).agg({'message_id':'count'})"
   ]
  },
  {
   "cell_type": "code",
   "execution_count": 159,
   "id": "64e2b7d1-e902-4367-bc32-8822426f37a4",
   "metadata": {},
   "outputs": [],
   "source": [
    "df_2_push = df_2_chan.query('channel == \"mobile_push\"')"
   ]
  },
  {
   "cell_type": "code",
   "execution_count": 160,
   "id": "5df343e5-0d26-46e4-95d9-726dc9973323",
   "metadata": {},
   "outputs": [],
   "source": [
    "df_2_push = df_2_push.rename(columns = {'message_id':'push'}).drop('channel', axis = 1)"
   ]
  },
  {
   "cell_type": "code",
   "execution_count": 161,
   "id": "976064c0-1c5b-4322-a69a-072d6885fb8c",
   "metadata": {},
   "outputs": [],
   "source": [
    "df_2_mail = df_2_chan.query('channel == \"email\"')"
   ]
  },
  {
   "cell_type": "code",
   "execution_count": 162,
   "id": "f005d077-0e47-4d61-b0ac-0b8c62e60c17",
   "metadata": {},
   "outputs": [],
   "source": [
    "df_2_mail = df_2_mail.rename(columns = {'message_id':'email'}).drop('channel', axis = 1)"
   ]
  },
  {
   "cell_type": "code",
   "execution_count": 163,
   "id": "f9c823af-a823-4a41-af66-7632cbdbdd70",
   "metadata": {},
   "outputs": [],
   "source": [
    "df_2_channel = df_2_push.merge(df_2_mail, on = 'client_id', how = 'outer').fillna(0)"
   ]
  },
  {
   "cell_type": "code",
   "execution_count": 164,
   "id": "d78c3ae6-1fc8-46ac-831e-df1e33c81519",
   "metadata": {},
   "outputs": [],
   "source": [
    "df_2_channel['rat_chan'] = df_2_channel['push']/(df_2_channel['push']+df_2_channel['email'])"
   ]
  },
  {
   "cell_type": "code",
   "execution_count": 165,
   "id": "ff1b8185-a4cd-4382-b6da-add6c146f936",
   "metadata": {},
   "outputs": [],
   "source": [
    "df_2_channel = df_2_channel.drop(['push', 'email'], axis = 1)"
   ]
  },
  {
   "cell_type": "code",
   "execution_count": 166,
   "id": "aa62898f-76cc-4f81-bc1e-51a17e1c35e2",
   "metadata": {},
   "outputs": [],
   "source": [
    "df_f = df_f.merge(df_2_channel, on = 'client_id', how = 'left')"
   ]
  },
  {
   "cell_type": "code",
   "execution_count": 167,
   "id": "4b7e2c5a-30d1-47f9-88fb-bcfa40760f1d",
   "metadata": {},
   "outputs": [],
   "source": [
    "df_f.loc[df_f['rat_chan'].isna(), 'rat_chan'] = df_f['rat_chan'].median()"
   ]
  },
  {
   "cell_type": "markdown",
   "id": "5c202905-4d3a-4f9e-8a31-f6ee640f6d6c",
   "metadata": {},
   "source": [
    "<div class=\"alert alert-info\">\n",
    "   Для каждого клиента была найдена доля сообщений, отправленных через канал push_mobile ('rat_chan'), которая добавлена в финальный датафрейм в \n",
    "в качестве признака, влияющего на цель.\n",
    "</div>"
   ]
  },
  {
   "cell_type": "code",
   "execution_count": 168,
   "id": "30a536ad-e838-447f-a93d-84e926b24f08",
   "metadata": {},
   "outputs": [
    {
     "data": {
      "text/html": [
       "<div>\n",
       "<style scoped>\n",
       "    .dataframe tbody tr th:only-of-type {\n",
       "        vertical-align: middle;\n",
       "    }\n",
       "\n",
       "    .dataframe tbody tr th {\n",
       "        vertical-align: top;\n",
       "    }\n",
       "\n",
       "    .dataframe thead th {\n",
       "        text-align: right;\n",
       "    }\n",
       "</style>\n",
       "<table border=\"1\" class=\"dataframe\">\n",
       "  <thead>\n",
       "    <tr style=\"text-align: right;\">\n",
       "      <th></th>\n",
       "      <th>client_id</th>\n",
       "      <th>active_days</th>\n",
       "      <th>cost</th>\n",
       "      <th>num_cost</th>\n",
       "      <th>avg_cost</th>\n",
       "      <th>quantity</th>\n",
       "      <th>quantity_mean</th>\n",
       "      <th>cost_v</th>\n",
       "      <th>num_cost_v</th>\n",
       "      <th>cost_cat_1</th>\n",
       "      <th>...</th>\n",
       "      <th>ratio_cat_1</th>\n",
       "      <th>ratio_cat_2</th>\n",
       "      <th>ratio_cost</th>\n",
       "      <th>ratio_num</th>\n",
       "      <th>rat_ev_pos</th>\n",
       "      <th>rat_ev_neu</th>\n",
       "      <th>rat_ev_neg</th>\n",
       "      <th>rat_comp_pos</th>\n",
       "      <th>rat_comp_neg</th>\n",
       "      <th>rat_chan</th>\n",
       "    </tr>\n",
       "  </thead>\n",
       "  <tbody>\n",
       "    <tr>\n",
       "      <th>0</th>\n",
       "      <td>1515915625853312319</td>\n",
       "      <td>41</td>\n",
       "      <td>270987.0</td>\n",
       "      <td>346</td>\n",
       "      <td>783.199422</td>\n",
       "      <td>346</td>\n",
       "      <td>1.026012</td>\n",
       "      <td>18075.0</td>\n",
       "      <td>50.0</td>\n",
       "      <td>108541.0</td>\n",
       "      <td>...</td>\n",
       "      <td>0.400540</td>\n",
       "      <td>0.911785</td>\n",
       "      <td>0.066701</td>\n",
       "      <td>0.144509</td>\n",
       "      <td>0.004785</td>\n",
       "      <td>0.217391</td>\n",
       "      <td>0.0</td>\n",
       "      <td>0.049363</td>\n",
       "      <td>0.073913</td>\n",
       "      <td>0.551763</td>\n",
       "    </tr>\n",
       "    <tr>\n",
       "      <th>1</th>\n",
       "      <td>1515915625490334876</td>\n",
       "      <td>23</td>\n",
       "      <td>19194.0</td>\n",
       "      <td>50</td>\n",
       "      <td>383.880000</td>\n",
       "      <td>50</td>\n",
       "      <td>1.000000</td>\n",
       "      <td>138.0</td>\n",
       "      <td>2.0</td>\n",
       "      <td>14600.0</td>\n",
       "      <td>...</td>\n",
       "      <td>0.760654</td>\n",
       "      <td>0.890278</td>\n",
       "      <td>0.007190</td>\n",
       "      <td>0.040000</td>\n",
       "      <td>0.061224</td>\n",
       "      <td>0.736395</td>\n",
       "      <td>0.0</td>\n",
       "      <td>0.000000</td>\n",
       "      <td>0.008503</td>\n",
       "      <td>0.000000</td>\n",
       "    </tr>\n",
       "  </tbody>\n",
       "</table>\n",
       "<p>2 rows × 21 columns</p>\n",
       "</div>"
      ],
      "text/plain": [
       "             client_id  active_days      cost  num_cost    avg_cost  quantity  \\\n",
       "0  1515915625853312319           41  270987.0       346  783.199422       346   \n",
       "1  1515915625490334876           23   19194.0        50  383.880000        50   \n",
       "\n",
       "   quantity_mean   cost_v  num_cost_v  cost_cat_1  ...  ratio_cat_1  \\\n",
       "0       1.026012  18075.0        50.0    108541.0  ...     0.400540   \n",
       "1       1.000000    138.0         2.0     14600.0  ...     0.760654   \n",
       "\n",
       "   ratio_cat_2  ratio_cost  ratio_num  rat_ev_pos  rat_ev_neu  rat_ev_neg  \\\n",
       "0     0.911785    0.066701   0.144509    0.004785    0.217391         0.0   \n",
       "1     0.890278    0.007190   0.040000    0.061224    0.736395         0.0   \n",
       "\n",
       "   rat_comp_pos  rat_comp_neg  rat_chan  \n",
       "0      0.049363      0.073913  0.551763  \n",
       "1      0.000000      0.008503  0.000000  \n",
       "\n",
       "[2 rows x 21 columns]"
      ]
     },
     "execution_count": 168,
     "metadata": {},
     "output_type": "execute_result"
    }
   ],
   "source": [
    "df_f[:2]"
   ]
  },
  {
   "cell_type": "code",
   "execution_count": 169,
   "id": "4e24488d-5167-4bcc-b5b8-988e4c88e519",
   "metadata": {},
   "outputs": [],
   "source": [
    "colm = list(df_f.columns)"
   ]
  },
  {
   "cell_type": "code",
   "execution_count": 170,
   "id": "f7d4b7a5-f9e1-483c-b864-101d39dd4e7c",
   "metadata": {},
   "outputs": [
    {
     "data": {
      "text/plain": [
       "'client_id'"
      ]
     },
     "execution_count": 170,
     "metadata": {},
     "output_type": "execute_result"
    }
   ],
   "source": [
    "colm.pop(0)"
   ]
  },
  {
   "cell_type": "code",
   "execution_count": 171,
   "id": "27aa0d1d-c1d1-4d68-8425-3636644f0c6e",
   "metadata": {},
   "outputs": [
    {
     "data": {
      "text/plain": [
       "(20, 20)"
      ]
     },
     "execution_count": 171,
     "metadata": {},
     "output_type": "execute_result"
    }
   ],
   "source": [
    "phik_overview = df_f.drop('client_id', axis = 1).phik_matrix(interval_cols=colm)\n",
    "phik_overview.shape"
   ]
  },
  {
   "cell_type": "code",
   "execution_count": 172,
   "id": "01d8f571-9117-446b-b151-cd5e136d4022",
   "metadata": {
    "scrolled": true
   },
   "outputs": [
    {
     "data": {
      "image/png": "[encoded data removed]",
      "text/plain": [
       "<Figure size 2000x1500 with 2 Axes>"
      ]
     },
     "metadata": {},
     "output_type": "display_data"
    }
   ],
   "source": [
    "plot_correlation_matrix(\n",
    "    phik_overview.values,\n",
    "    x_labels=phik_overview.columns,\n",
    "    y_labels=phik_overview.index,\n",
    "    vmin=0, vmax=1, color_map='Greens',\n",
    "    title=r'correlation $\\phi_K$',\n",
    "    fontsize_factor=1.5,\n",
    "    figsize=(20, 15)\n",
    ") "
   ]
  },
  {
   "cell_type": "code",
   "execution_count": 173,
   "id": "6f96404f-e084-4802-9174-a27b2967fa93",
   "metadata": {},
   "outputs": [
    {
     "data": {
      "text/plain": [
       "'cost'"
      ]
     },
     "execution_count": 173,
     "metadata": {},
     "output_type": "execute_result"
    }
   ],
   "source": [
    "colm.pop(1)"
   ]
  },
  {
   "cell_type": "markdown",
   "id": "521e3cbc-a0ea-4a80-a08e-6901eb416523",
   "metadata": {},
   "source": [
    "<div class=\"alert alert-info\">\n",
    "     При анализе взаимных корреляций видно, что недопустимая корреляция наблюдается только в парах cost-cost_cat_1 и cost-cost_cat_2. Поэтому из \n",
    "списка признаков colm был удален признак cost. \n",
    "</div>"
   ]
  },
  {
   "cell_type": "markdown",
   "id": "63dfec63-03c4-42f1-82cb-029c1beb4682",
   "metadata": {},
   "source": [
    "## Построение моделей\n",
    "   <a id=\"start_2\"></a>"
   ]
  },
  {
   "cell_type": "code",
   "execution_count": 176,
   "id": "23d3b4dc-d541-4f94-90c6-12b0fc53a50a",
   "metadata": {},
   "outputs": [],
   "source": [
    "df_f = df_f.merge(df_3, on = 'client_id', how = 'left')"
   ]
  },
  {
   "cell_type": "code",
   "execution_count": 177,
   "id": "eb9db0c5-58b4-41d5-9065-46ee70ca0589",
   "metadata": {},
   "outputs": [],
   "source": [
    "RANDOM_STATE = 42"
   ]
  },
  {
   "cell_type": "code",
   "execution_count": 178,
   "id": "a7332fc7-0682-4535-9ded-776326cc171b",
   "metadata": {},
   "outputs": [],
   "source": [
    "X_train, X_test, y_train, y_test = train_test_split(\n",
    "        df_f.drop(['client_id','target', 'cost'], axis=1),\n",
    "        df_f['target'],\n",
    "        test_size = 0.25, \n",
    "        random_state = RANDOM_STATE)\n",
    "data_preprocessor = ColumnTransformer(\n",
    "        [\n",
    "            ('num', MinMaxScaler(), X_train.columns)\n",
    "        ], \n",
    "        remainder='passthrough')\n",
    "pipe_final = Pipeline(\n",
    "    [\n",
    "        ('preprocessor', data_preprocessor),\n",
    "        ('models', DecisionTreeClassifier(random_state=RANDOM_STATE))\n",
    "    ]\n",
    ")"
   ]
  },
  {
   "cell_type": "code",
   "execution_count": 179,
   "id": "e1ee28e0-1e51-402d-9926-c8c470f37ff7",
   "metadata": {},
   "outputs": [
    {
     "data": {
      "text/plain": [
       "('метрика roc_auc dummy-модели:', 0.497)"
      ]
     },
     "execution_count": 179,
     "metadata": {},
     "output_type": "execute_result"
    }
   ],
   "source": [
    "dummy_class = DummyClassifier(strategy='stratified')\n",
    "dummy_class.fit(X_train, y_train)\n",
    "y_test_dummy = dummy_class.predict_proba(X_test)[:,1]\n",
    "r = roc_auc_score(y_test, y_test_dummy)\n",
    "'метрика roc_auc dummy-модели:', round(r,3)"
   ]
  },
  {
   "cell_type": "markdown",
   "id": "04454676-e777-4a09-8e32-efb51d2447db",
   "metadata": {},
   "source": [
    "<div class=\"alert alert-info\">\n",
    "     Проверка классификации на dummy-модели с использование стратегии 'stratified' показывает минимальную точность прогноза, метрика roc_auc порядка 0,5.  \n",
    "</div>"
   ]
  },
  {
   "cell_type": "code",
   "execution_count": 181,
   "id": "e5898793-2a56-4573-9108-9704cea6f057",
   "metadata": {},
   "outputs": [],
   "source": [
    "param_grid = [\n",
    "    {\n",
    "        'models': [DecisionTreeClassifier(random_state=RANDOM_STATE)],\n",
    "        'models__max_depth': range(2,100),\n",
    "        'models__max_features': range(2,100),\n",
    "        'models__min_samples_leaf': range(1, 50),\n",
    "        'preprocessor__num': [StandardScaler(), MinMaxScaler(), 'passthrough']  \n",
    "    },\n",
    "    \n",
    "    {\n",
    "        'models': [KNeighborsClassifier()],\n",
    "        'models__n_neighbors': range(2,100),\n",
    "        'preprocessor__num': [StandardScaler(), MinMaxScaler(), 'passthrough']   \n",
    "    },\n",
    "    \n",
    "    {\n",
    "        'models': [SVC(random_state=RANDOM_STATE, probability= True)],\n",
    "        'models__kernel': ['rbf', 'sigmoid'],\n",
    "        'models__C': range(1,50),\n",
    "        'models__gamma': range(1,50),\n",
    "        'preprocessor__num': [StandardScaler(), MinMaxScaler(), 'passthrough']  \n",
    "    },\n",
    "    {\n",
    "        'models': [LogisticRegression(\n",
    "            random_state=RANDOM_STATE, \n",
    "            solver='liblinear', \n",
    "            penalty='l1'\n",
    "        )],\n",
    "        'models__C': range(1,50),\n",
    "        'preprocessor__num': [StandardScaler(), MinMaxScaler(), 'passthrough']  \n",
    "    },\n",
    "    {\n",
    "        'models': [RandomForestClassifier(random_state=RANDOM_STATE, n_estimators=200)],\n",
    "        'models__max_depth': range(2,100),\n",
    "        'models__max_features': range(2,100),\n",
    "        'models__min_samples_leaf': range(1, 50),\n",
    "        'preprocessor__num': [StandardScaler(), MinMaxScaler(), 'passthrough']  \n",
    "    },\n",
    "    {\n",
    "        'models': [GradientBoostingClassifier(random_state=RANDOM_STATE, n_estimators=200)],\n",
    "        'models__max_depth': range(2,100),\n",
    "        'models__max_features': range(2,100),\n",
    "        'models__min_samples_leaf': range(1, 50),\n",
    "        'preprocessor__num': [StandardScaler(), MinMaxScaler(), 'passthrough']  \n",
    "    },\n",
    "     {\n",
    "        'models': [lgb.LGBMClassifier(random_state=RANDOM_STATE, n_estimators=200, learning_rate=0.3)],\n",
    "        'models__max_depth': range(2,100),\n",
    "        'models__min_child_samples': range(2,100)\n",
    "    }\n",
    "] "
   ]
  },
  {
   "cell_type": "code",
   "execution_count": 182,
   "id": "64be1ab3-4f11-4b08-9f08-a1d7555d8ea8",
   "metadata": {},
   "outputs": [],
   "source": [
    "randomized_search = RandomizedSearchCV(\n",
    "    pipe_final, \n",
    "    param_grid, \n",
    "    cv=5,\n",
    "    scoring='roc_auc',\n",
    "    random_state=RANDOM_STATE,\n",
    "    n_jobs=-1\n",
    ")"
   ]
  },
  {
   "cell_type": "code",
   "execution_count": 183,
   "id": "ad2fb31c-44d4-4162-b187-cde1130913d4",
   "metadata": {},
   "outputs": [
    {
     "name": "stderr",
     "output_type": "stream",
     "text": [
      "C:\\Users\\79284\\AppData\\Local\\Programs\\Python\\Python312\\Lib\\site-packages\\joblib\\externals\\loky\\process_executor.py:752: UserWarning: A worker stopped while some jobs were given to the executor. This can be caused by a too short worker timeout or by a memory leak.\n",
      "  warnings.warn(\n"
     ]
    },
    {
     "data": {
      "text/html": [
       "<style>#sk-container-id-1 {\n",
       "  /* Definition of color scheme common for light and dark mode */\n",
       "  --sklearn-color-text: black;\n",
       "  --sklearn-color-line: gray;\n",
       "  /* Definition of color scheme for unfitted estimators */\n",
       "  --sklearn-color-unfitted-level-0: #fff5e6;\n",
       "  --sklearn-color-unfitted-level-1: #f6e4d2;\n",
       "  --sklearn-color-unfitted-level-2: #ffe0b3;\n",
       "  --sklearn-color-unfitted-level-3: chocolate;\n",
       "  /* Definition of color scheme for fitted estimators */\n",
       "  --sklearn-color-fitted-level-0: #f0f8ff;\n",
       "  --sklearn-color-fitted-level-1: #d4ebff;\n",
       "  --sklearn-color-fitted-level-2: #b3dbfd;\n",
       "  --sklearn-color-fitted-level-3: cornflowerblue;\n",
       "\n",
       "  /* Specific color for light theme */\n",
       "  --sklearn-color-text-on-default-background: var(--sg-text-color, var(--theme-code-foreground, var(--jp-content-font-color1, black)));\n",
       "  --sklearn-color-background: var(--sg-background-color, var(--theme-background, var(--jp-layout-color0, white)));\n",
       "  --sklearn-color-border-box: var(--sg-text-color, var(--theme-code-foreground, var(--jp-content-font-color1, black)));\n",
       "  --sklearn-color-icon: #696969;\n",
       "\n",
       "  @media (prefers-color-scheme: dark) {\n",
       "    /* Redefinition of color scheme for dark theme */\n",
       "    --sklearn-color-text-on-default-background: var(--sg-text-color, var(--theme-code-foreground, var(--jp-content-font-color1, white)));\n",
       "    --sklearn-color-background: var(--sg-background-color, var(--theme-background, var(--jp-layout-color0, #111)));\n",
       "    --sklearn-color-border-box: var(--sg-text-color, var(--theme-code-foreground, var(--jp-content-font-color1, white)));\n",
       "    --sklearn-color-icon: #878787;\n",
       "  }\n",
       "}\n",
       "\n",
       "#sk-container-id-1 {\n",
       "  color: var(--sklearn-color-text);\n",
       "}\n",
       "\n",
       "#sk-container-id-1 pre {\n",
       "  padding: 0;\n",
       "}\n",
       "\n",
       "#sk-container-id-1 input.sk-hidden--visually {\n",
       "  border: 0;\n",
       "  clip: rect(1px 1px 1px 1px);\n",
       "  clip: rect(1px, 1px, 1px, 1px);\n",
       "  height: 1px;\n",
       "  margin: -1px;\n",
       "  overflow: hidden;\n",
       "  padding: 0;\n",
       "  position: absolute;\n",
       "  width: 1px;\n",
       "}\n",
       "\n",
       "#sk-container-id-1 div.sk-dashed-wrapped {\n",
       "  border: 1px dashed var(--sklearn-color-line);\n",
       "  margin: 0 0.4em 0.5em 0.4em;\n",
       "  box-sizing: border-box;\n",
       "  padding-bottom: 0.4em;\n",
       "  background-color: var(--sklearn-color-background);\n",
       "}\n",
       "\n",
       "#sk-container-id-1 div.sk-container {\n",
       "  /* jupyter's `normalize.less` sets `[hidden] { display: none; }`\n",
       "     but bootstrap.min.css set `[hidden] { display: none !important; }`\n",
       "     so we also need the `!important` here to be able to override the\n",
       "     default hidden behavior on the sphinx rendered scikit-learn.org.\n",
       "     See: https://github.com/scikit-learn/scikit-learn/issues/21755 */\n",
       "  display: inline-block !important;\n",
       "  position: relative;\n",
       "}\n",
       "\n",
       "#sk-container-id-1 div.sk-text-repr-fallback {\n",
       "  display: none;\n",
       "}\n",
       "\n",
       "div.sk-parallel-item,\n",
       "div.sk-serial,\n",
       "div.sk-item {\n",
       "  /* draw centered vertical line to link estimators */\n",
       "  background-image: linear-gradient(var(--sklearn-color-text-on-default-background), var(--sklearn-color-text-on-default-background));\n",
       "  background-size: 2px 100%;\n",
       "  background-repeat: no-repeat;\n",
       "  background-position: center center;\n",
       "}\n",
       "\n",
       "/* Parallel-specific style estimator block */\n",
       "\n",
       "#sk-container-id-1 div.sk-parallel-item::after {\n",
       "  content: \"\";\n",
       "  width: 100%;\n",
       "  border-bottom: 2px solid var(--sklearn-color-text-on-default-background);\n",
       "  flex-grow: 1;\n",
       "}\n",
       "\n",
       "#sk-container-id-1 div.sk-parallel {\n",
       "  display: flex;\n",
       "  align-items: stretch;\n",
       "  justify-content: center;\n",
       "  background-color: var(--sklearn-color-background);\n",
       "  position: relative;\n",
       "}\n",
       "\n",
       "#sk-container-id-1 div.sk-parallel-item {\n",
       "  display: flex;\n",
       "  flex-direction: column;\n",
       "}\n",
       "\n",
       "#sk-container-id-1 div.sk-parallel-item:first-child::after {\n",
       "  align-self: flex-end;\n",
       "  width: 50%;\n",
       "}\n",
       "\n",
       "#sk-container-id-1 div.sk-parallel-item:last-child::after {\n",
       "  align-self: flex-start;\n",
       "  width: 50%;\n",
       "}\n",
       "\n",
       "#sk-container-id-1 div.sk-parallel-item:only-child::after {\n",
       "  width: 0;\n",
       "}\n",
       "\n",
       "/* Serial-specific style estimator block */\n",
       "\n",
       "#sk-container-id-1 div.sk-serial {\n",
       "  display: flex;\n",
       "  flex-direction: column;\n",
       "  align-items: center;\n",
       "  background-color: var(--sklearn-color-background);\n",
       "  padding-right: 1em;\n",
       "  padding-left: 1em;\n",
       "}\n",
       "\n",
       "\n",
       "/* Toggleable style: style used for estimator/Pipeline/ColumnTransformer box that is\n",
       "clickable and can be expanded/collapsed.\n",
       "- Pipeline and ColumnTransformer use this feature and define the default style\n",
       "- Estimators will overwrite some part of the style using the `sk-estimator` class\n",
       "*/\n",
       "\n",
       "/* Pipeline and ColumnTransformer style (default) */\n",
       "\n",
       "#sk-container-id-1 div.sk-toggleable {\n",
       "  /* Default theme specific background. It is overwritten whether we have a\n",
       "  specific estimator or a Pipeline/ColumnTransformer */\n",
       "  background-color: var(--sklearn-color-background);\n",
       "}\n",
       "\n",
       "/* Toggleable label */\n",
       "#sk-container-id-1 label.sk-toggleable__label {\n",
       "  cursor: pointer;\n",
       "  display: block;\n",
       "  width: 100%;\n",
       "  margin-bottom: 0;\n",
       "  padding: 0.5em;\n",
       "  box-sizing: border-box;\n",
       "  text-align: center;\n",
       "}\n",
       "\n",
       "#sk-container-id-1 label.sk-toggleable__label-arrow:before {\n",
       "  /* Arrow on the left of the label */\n",
       "  content: \"▸\";\n",
       "  float: left;\n",
       "  margin-right: 0.25em;\n",
       "  color: var(--sklearn-color-icon);\n",
       "}\n",
       "\n",
       "#sk-container-id-1 label.sk-toggleable__label-arrow:hover:before {\n",
       "  color: var(--sklearn-color-text);\n",
       "}\n",
       "\n",
       "/* Toggleable content - dropdown */\n",
       "\n",
       "#sk-container-id-1 div.sk-toggleable__content {\n",
       "  max-height: 0;\n",
       "  max-width: 0;\n",
       "  overflow: hidden;\n",
       "  text-align: left;\n",
       "  /* unfitted */\n",
       "  background-color: var(--sklearn-color-unfitted-level-0);\n",
       "}\n",
       "\n",
       "#sk-container-id-1 div.sk-toggleable__content.fitted {\n",
       "  /* fitted */\n",
       "  background-color: var(--sklearn-color-fitted-level-0);\n",
       "}\n",
       "\n",
       "#sk-container-id-1 div.sk-toggleable__content pre {\n",
       "  margin: 0.2em;\n",
       "  border-radius: 0.25em;\n",
       "  color: var(--sklearn-color-text);\n",
       "  /* unfitted */\n",
       "  background-color: var(--sklearn-color-unfitted-level-0);\n",
       "}\n",
       "\n",
       "#sk-container-id-1 div.sk-toggleable__content.fitted pre {\n",
       "  /* unfitted */\n",
       "  background-color: var(--sklearn-color-fitted-level-0);\n",
       "}\n",
       "\n",
       "#sk-container-id-1 input.sk-toggleable__control:checked~div.sk-toggleable__content {\n",
       "  /* Expand drop-down */\n",
       "  max-height: 200px;\n",
       "  max-width: 100%;\n",
       "  overflow: auto;\n",
       "}\n",
       "\n",
       "#sk-container-id-1 input.sk-toggleable__control:checked~label.sk-toggleable__label-arrow:before {\n",
       "  content: \"▾\";\n",
       "}\n",
       "\n",
       "/* Pipeline/ColumnTransformer-specific style */\n",
       "\n",
       "#sk-container-id-1 div.sk-label input.sk-toggleable__control:checked~label.sk-toggleable__label {\n",
       "  color: var(--sklearn-color-text);\n",
       "  background-color: var(--sklearn-color-unfitted-level-2);\n",
       "}\n",
       "\n",
       "#sk-container-id-1 div.sk-label.fitted input.sk-toggleable__control:checked~label.sk-toggleable__label {\n",
       "  background-color: var(--sklearn-color-fitted-level-2);\n",
       "}\n",
       "\n",
       "/* Estimator-specific style */\n",
       "\n",
       "/* Colorize estimator box */\n",
       "#sk-container-id-1 div.sk-estimator input.sk-toggleable__control:checked~label.sk-toggleable__label {\n",
       "  /* unfitted */\n",
       "  background-color: var(--sklearn-color-unfitted-level-2);\n",
       "}\n",
       "\n",
       "#sk-container-id-1 div.sk-estimator.fitted input.sk-toggleable__control:checked~label.sk-toggleable__label {\n",
       "  /* fitted */\n",
       "  background-color: var(--sklearn-color-fitted-level-2);\n",
       "}\n",
       "\n",
       "#sk-container-id-1 div.sk-label label.sk-toggleable__label,\n",
       "#sk-container-id-1 div.sk-label label {\n",
       "  /* The background is the default theme color */\n",
       "  color: var(--sklearn-color-text-on-default-background);\n",
       "}\n",
       "\n",
       "/* On hover, darken the color of the background */\n",
       "#sk-container-id-1 div.sk-label:hover label.sk-toggleable__label {\n",
       "  color: var(--sklearn-color-text);\n",
       "  background-color: var(--sklearn-color-unfitted-level-2);\n",
       "}\n",
       "\n",
       "/* Label box, darken color on hover, fitted */\n",
       "#sk-container-id-1 div.sk-label.fitted:hover label.sk-toggleable__label.fitted {\n",
       "  color: var(--sklearn-color-text);\n",
       "  background-color: var(--sklearn-color-fitted-level-2);\n",
       "}\n",
       "\n",
       "/* Estimator label */\n",
       "\n",
       "#sk-container-id-1 div.sk-label label {\n",
       "  font-family: monospace;\n",
       "  font-weight: bold;\n",
       "  display: inline-block;\n",
       "  line-height: 1.2em;\n",
       "}\n",
       "\n",
       "#sk-container-id-1 div.sk-label-container {\n",
       "  text-align: center;\n",
       "}\n",
       "\n",
       "/* Estimator-specific */\n",
       "#sk-container-id-1 div.sk-estimator {\n",
       "  font-family: monospace;\n",
       "  border: 1px dotted var(--sklearn-color-border-box);\n",
       "  border-radius: 0.25em;\n",
       "  box-sizing: border-box;\n",
       "  margin-bottom: 0.5em;\n",
       "  /* unfitted */\n",
       "  background-color: var(--sklearn-color-unfitted-level-0);\n",
       "}\n",
       "\n",
       "#sk-container-id-1 div.sk-estimator.fitted {\n",
       "  /* fitted */\n",
       "  background-color: var(--sklearn-color-fitted-level-0);\n",
       "}\n",
       "\n",
       "/* on hover */\n",
       "#sk-container-id-1 div.sk-estimator:hover {\n",
       "  /* unfitted */\n",
       "  background-color: var(--sklearn-color-unfitted-level-2);\n",
       "}\n",
       "\n",
       "#sk-container-id-1 div.sk-estimator.fitted:hover {\n",
       "  /* fitted */\n",
       "  background-color: var(--sklearn-color-fitted-level-2);\n",
       "}\n",
       "\n",
       "/* Specification for estimator info (e.g. \"i\" and \"?\") */\n",
       "\n",
       "/* Common style for \"i\" and \"?\" */\n",
       "\n",
       ".sk-estimator-doc-link,\n",
       "a:link.sk-estimator-doc-link,\n",
       "a:visited.sk-estimator-doc-link {\n",
       "  float: right;\n",
       "  font-size: smaller;\n",
       "  line-height: 1em;\n",
       "  font-family: monospace;\n",
       "  background-color: var(--sklearn-color-background);\n",
       "  border-radius: 1em;\n",
       "  height: 1em;\n",
       "  width: 1em;\n",
       "  text-decoration: none !important;\n",
       "  margin-left: 1ex;\n",
       "  /* unfitted */\n",
       "  border: var(--sklearn-color-unfitted-level-1) 1pt solid;\n",
       "  color: var(--sklearn-color-unfitted-level-1);\n",
       "}\n",
       "\n",
       ".sk-estimator-doc-link.fitted,\n",
       "a:link.sk-estimator-doc-link.fitted,\n",
       "a:visited.sk-estimator-doc-link.fitted {\n",
       "  /* fitted */\n",
       "  border: var(--sklearn-color-fitted-level-1) 1pt solid;\n",
       "  color: var(--sklearn-color-fitted-level-1);\n",
       "}\n",
       "\n",
       "/* On hover */\n",
       "div.sk-estimator:hover .sk-estimator-doc-link:hover,\n",
       ".sk-estimator-doc-link:hover,\n",
       "div.sk-label-container:hover .sk-estimator-doc-link:hover,\n",
       ".sk-estimator-doc-link:hover {\n",
       "  /* unfitted */\n",
       "  background-color: var(--sklearn-color-unfitted-level-3);\n",
       "  color: var(--sklearn-color-background);\n",
       "  text-decoration: none;\n",
       "}\n",
       "\n",
       "div.sk-estimator.fitted:hover .sk-estimator-doc-link.fitted:hover,\n",
       ".sk-estimator-doc-link.fitted:hover,\n",
       "div.sk-label-container:hover .sk-estimator-doc-link.fitted:hover,\n",
       ".sk-estimator-doc-link.fitted:hover {\n",
       "  /* fitted */\n",
       "  background-color: var(--sklearn-color-fitted-level-3);\n",
       "  color: var(--sklearn-color-background);\n",
       "  text-decoration: none;\n",
       "}\n",
       "\n",
       "/* Span, style for the box shown on hovering the info icon */\n",
       ".sk-estimator-doc-link span {\n",
       "  display: none;\n",
       "  z-index: 9999;\n",
       "  position: relative;\n",
       "  font-weight: normal;\n",
       "  right: .2ex;\n",
       "  padding: .5ex;\n",
       "  margin: .5ex;\n",
       "  width: min-content;\n",
       "  min-width: 20ex;\n",
       "  max-width: 50ex;\n",
       "  color: var(--sklearn-color-text);\n",
       "  box-shadow: 2pt 2pt 4pt #999;\n",
       "  /* unfitted */\n",
       "  background: var(--sklearn-color-unfitted-level-0);\n",
       "  border: .5pt solid var(--sklearn-color-unfitted-level-3);\n",
       "}\n",
       "\n",
       ".sk-estimator-doc-link.fitted span {\n",
       "  /* fitted */\n",
       "  background: var(--sklearn-color-fitted-level-0);\n",
       "  border: var(--sklearn-color-fitted-level-3);\n",
       "}\n",
       "\n",
       ".sk-estimator-doc-link:hover span {\n",
       "  display: block;\n",
       "}\n",
       "\n",
       "/* \"?\"-specific style due to the `<a>` HTML tag */\n",
       "\n",
       "#sk-container-id-1 a.estimator_doc_link {\n",
       "  float: right;\n",
       "  font-size: 1rem;\n",
       "  line-height: 1em;\n",
       "  font-family: monospace;\n",
       "  background-color: var(--sklearn-color-background);\n",
       "  border-radius: 1rem;\n",
       "  height: 1rem;\n",
       "  width: 1rem;\n",
       "  text-decoration: none;\n",
       "  /* unfitted */\n",
       "  color: var(--sklearn-color-unfitted-level-1);\n",
       "  border: var(--sklearn-color-unfitted-level-1) 1pt solid;\n",
       "}\n",
       "\n",
       "#sk-container-id-1 a.estimator_doc_link.fitted {\n",
       "  /* fitted */\n",
       "  border: var(--sklearn-color-fitted-level-1) 1pt solid;\n",
       "  color: var(--sklearn-color-fitted-level-1);\n",
       "}\n",
       "\n",
       "/* On hover */\n",
       "#sk-container-id-1 a.estimator_doc_link:hover {\n",
       "  /* unfitted */\n",
       "  background-color: var(--sklearn-color-unfitted-level-3);\n",
       "  color: var(--sklearn-color-background);\n",
       "  text-decoration: none;\n",
       "}\n",
       "\n",
       "#sk-container-id-1 a.estimator_doc_link.fitted:hover {\n",
       "  /* fitted */\n",
       "  background-color: var(--sklearn-color-fitted-level-3);\n",
       "}\n",
       "</style><div id=\"sk-container-id-1\" class=\"sk-top-container\"><div class=\"sk-text-repr-fallback\"><pre>RandomizedSearchCV(cv=5,\n",
       "                   estimator=Pipeline(steps=[(&#x27;preprocessor&#x27;,\n",
       "                                              ColumnTransformer(remainder=&#x27;passthrough&#x27;,\n",
       "                                                                transformers=[(&#x27;num&#x27;,\n",
       "                                                                               MinMaxScaler(),\n",
       "                                                                               Index([&#x27;active_days&#x27;, &#x27;num_cost&#x27;, &#x27;avg_cost&#x27;, &#x27;quantity&#x27;, &#x27;quantity_mean&#x27;,\n",
       "       &#x27;cost_v&#x27;, &#x27;num_cost_v&#x27;, &#x27;cost_cat_1&#x27;, &#x27;cost_cat_2&#x27;, &#x27;ratio_cat_1&#x27;,\n",
       "       &#x27;ratio_cat_2&#x27;, &#x27;ratio_cost&#x27;, &#x27;ratio_num&#x27;, &#x27;rat_ev_pos&#x27;, &#x27;rat_ev_neu&#x27;,\n",
       "       &#x27;rat_ev_n...\n",
       "                                         &#x27;models__max_depth&#x27;: range(2, 100),\n",
       "                                         &#x27;models__max_features&#x27;: range(2, 100),\n",
       "                                         &#x27;models__min_samples_leaf&#x27;: range(1, 50),\n",
       "                                         &#x27;preprocessor__num&#x27;: [StandardScaler(),\n",
       "                                                               MinMaxScaler(),\n",
       "                                                               &#x27;passthrough&#x27;]},\n",
       "                                        {&#x27;models&#x27;: [LGBMClassifier(learning_rate=0.3,\n",
       "                                                                   n_estimators=200,\n",
       "                                                                   random_state=42)],\n",
       "                                         &#x27;models__max_depth&#x27;: range(2, 100),\n",
       "                                         &#x27;models__min_child_samples&#x27;: range(2, 100)}],\n",
       "                   random_state=42, scoring=&#x27;roc_auc&#x27;)</pre><b>In a Jupyter environment, please rerun this cell to show the HTML representation or trust the notebook. <br />On GitHub, the HTML representation is unable to render, please try loading this page with nbviewer.org.</b></div><div class=\"sk-container\" hidden><div class=\"sk-item sk-dashed-wrapped\"><div class=\"sk-label-container\"><div class=\"sk-label fitted sk-toggleable\"><input class=\"sk-toggleable__control sk-hidden--visually\" id=\"sk-estimator-id-1\" type=\"checkbox\" ><label for=\"sk-estimator-id-1\" class=\"sk-toggleable__label fitted sk-toggleable__label-arrow fitted\">&nbsp;&nbsp;RandomizedSearchCV<a class=\"sk-estimator-doc-link fitted\" rel=\"noreferrer\" target=\"_blank\" href=\"https://scikit-learn.org/1.4/modules/generated/sklearn.model_selection.RandomizedSearchCV.html\">?<span>Documentation for RandomizedSearchCV</span></a><span class=\"sk-estimator-doc-link fitted\">i<span>Fitted</span></span></label><div class=\"sk-toggleable__content fitted\"><pre>RandomizedSearchCV(cv=5,\n",
       "                   estimator=Pipeline(steps=[(&#x27;preprocessor&#x27;,\n",
       "                                              ColumnTransformer(remainder=&#x27;passthrough&#x27;,\n",
       "                                                                transformers=[(&#x27;num&#x27;,\n",
       "                                                                               MinMaxScaler(),\n",
       "                                                                               Index([&#x27;active_days&#x27;, &#x27;num_cost&#x27;, &#x27;avg_cost&#x27;, &#x27;quantity&#x27;, &#x27;quantity_mean&#x27;,\n",
       "       &#x27;cost_v&#x27;, &#x27;num_cost_v&#x27;, &#x27;cost_cat_1&#x27;, &#x27;cost_cat_2&#x27;, &#x27;ratio_cat_1&#x27;,\n",
       "       &#x27;ratio_cat_2&#x27;, &#x27;ratio_cost&#x27;, &#x27;ratio_num&#x27;, &#x27;rat_ev_pos&#x27;, &#x27;rat_ev_neu&#x27;,\n",
       "       &#x27;rat_ev_n...\n",
       "                                         &#x27;models__max_depth&#x27;: range(2, 100),\n",
       "                                         &#x27;models__max_features&#x27;: range(2, 100),\n",
       "                                         &#x27;models__min_samples_leaf&#x27;: range(1, 50),\n",
       "                                         &#x27;preprocessor__num&#x27;: [StandardScaler(),\n",
       "                                                               MinMaxScaler(),\n",
       "                                                               &#x27;passthrough&#x27;]},\n",
       "                                        {&#x27;models&#x27;: [LGBMClassifier(learning_rate=0.3,\n",
       "                                                                   n_estimators=200,\n",
       "                                                                   random_state=42)],\n",
       "                                         &#x27;models__max_depth&#x27;: range(2, 100),\n",
       "                                         &#x27;models__min_child_samples&#x27;: range(2, 100)}],\n",
       "                   random_state=42, scoring=&#x27;roc_auc&#x27;)</pre></div> </div></div><div class=\"sk-parallel\"><div class=\"sk-parallel-item\"><div class=\"sk-item\"><div class=\"sk-label-container\"><div class=\"sk-label fitted sk-toggleable\"><input class=\"sk-toggleable__control sk-hidden--visually\" id=\"sk-estimator-id-2\" type=\"checkbox\" ><label for=\"sk-estimator-id-2\" class=\"sk-toggleable__label fitted sk-toggleable__label-arrow fitted\">estimator: Pipeline</label><div class=\"sk-toggleable__content fitted\"><pre>Pipeline(steps=[(&#x27;preprocessor&#x27;,\n",
       "                 ColumnTransformer(remainder=&#x27;passthrough&#x27;,\n",
       "                                   transformers=[(&#x27;num&#x27;, MinMaxScaler(),\n",
       "                                                  Index([&#x27;active_days&#x27;, &#x27;num_cost&#x27;, &#x27;avg_cost&#x27;, &#x27;quantity&#x27;, &#x27;quantity_mean&#x27;,\n",
       "       &#x27;cost_v&#x27;, &#x27;num_cost_v&#x27;, &#x27;cost_cat_1&#x27;, &#x27;cost_cat_2&#x27;, &#x27;ratio_cat_1&#x27;,\n",
       "       &#x27;ratio_cat_2&#x27;, &#x27;ratio_cost&#x27;, &#x27;ratio_num&#x27;, &#x27;rat_ev_pos&#x27;, &#x27;rat_ev_neu&#x27;,\n",
       "       &#x27;rat_ev_neg&#x27;, &#x27;rat_comp_pos&#x27;, &#x27;rat_comp_neg&#x27;, &#x27;rat_chan&#x27;],\n",
       "      dtype=&#x27;object&#x27;))])),\n",
       "                (&#x27;models&#x27;, DecisionTreeClassifier(random_state=42))])</pre></div> </div></div><div class=\"sk-serial\"><div class=\"sk-item\"><div class=\"sk-serial\"><div class=\"sk-item sk-dashed-wrapped\"><div class=\"sk-label-container\"><div class=\"sk-label fitted sk-toggleable\"><input class=\"sk-toggleable__control sk-hidden--visually\" id=\"sk-estimator-id-3\" type=\"checkbox\" ><label for=\"sk-estimator-id-3\" class=\"sk-toggleable__label fitted sk-toggleable__label-arrow fitted\">&nbsp;preprocessor: ColumnTransformer<a class=\"sk-estimator-doc-link fitted\" rel=\"noreferrer\" target=\"_blank\" href=\"https://scikit-learn.org/1.4/modules/generated/sklearn.compose.ColumnTransformer.html\">?<span>Documentation for preprocessor: ColumnTransformer</span></a></label><div class=\"sk-toggleable__content fitted\"><pre>ColumnTransformer(remainder=&#x27;passthrough&#x27;,\n",
       "                  transformers=[(&#x27;num&#x27;, MinMaxScaler(),\n",
       "                                 Index([&#x27;active_days&#x27;, &#x27;num_cost&#x27;, &#x27;avg_cost&#x27;, &#x27;quantity&#x27;, &#x27;quantity_mean&#x27;,\n",
       "       &#x27;cost_v&#x27;, &#x27;num_cost_v&#x27;, &#x27;cost_cat_1&#x27;, &#x27;cost_cat_2&#x27;, &#x27;ratio_cat_1&#x27;,\n",
       "       &#x27;ratio_cat_2&#x27;, &#x27;ratio_cost&#x27;, &#x27;ratio_num&#x27;, &#x27;rat_ev_pos&#x27;, &#x27;rat_ev_neu&#x27;,\n",
       "       &#x27;rat_ev_neg&#x27;, &#x27;rat_comp_pos&#x27;, &#x27;rat_comp_neg&#x27;, &#x27;rat_chan&#x27;],\n",
       "      dtype=&#x27;object&#x27;))])</pre></div> </div></div><div class=\"sk-parallel\"><div class=\"sk-parallel-item\"><div class=\"sk-item\"><div class=\"sk-label-container\"><div class=\"sk-label fitted sk-toggleable\"><input class=\"sk-toggleable__control sk-hidden--visually\" id=\"sk-estimator-id-4\" type=\"checkbox\" ><label for=\"sk-estimator-id-4\" class=\"sk-toggleable__label fitted sk-toggleable__label-arrow fitted\">num</label><div class=\"sk-toggleable__content fitted\"><pre>Index([&#x27;active_days&#x27;, &#x27;num_cost&#x27;, &#x27;avg_cost&#x27;, &#x27;quantity&#x27;, &#x27;quantity_mean&#x27;,\n",
       "       &#x27;cost_v&#x27;, &#x27;num_cost_v&#x27;, &#x27;cost_cat_1&#x27;, &#x27;cost_cat_2&#x27;, &#x27;ratio_cat_1&#x27;,\n",
       "       &#x27;ratio_cat_2&#x27;, &#x27;ratio_cost&#x27;, &#x27;ratio_num&#x27;, &#x27;rat_ev_pos&#x27;, &#x27;rat_ev_neu&#x27;,\n",
       "       &#x27;rat_ev_neg&#x27;, &#x27;rat_comp_pos&#x27;, &#x27;rat_comp_neg&#x27;, &#x27;rat_chan&#x27;],\n",
       "      dtype=&#x27;object&#x27;)</pre></div> </div></div><div class=\"sk-serial\"><div class=\"sk-item\"><div class=\"sk-estimator fitted sk-toggleable\"><input class=\"sk-toggleable__control sk-hidden--visually\" id=\"sk-estimator-id-5\" type=\"checkbox\" ><label for=\"sk-estimator-id-5\" class=\"sk-toggleable__label fitted sk-toggleable__label-arrow fitted\">&nbsp;MinMaxScaler<a class=\"sk-estimator-doc-link fitted\" rel=\"noreferrer\" target=\"_blank\" href=\"https://scikit-learn.org/1.4/modules/generated/sklearn.preprocessing.MinMaxScaler.html\">?<span>Documentation for MinMaxScaler</span></a></label><div class=\"sk-toggleable__content fitted\"><pre>MinMaxScaler()</pre></div> </div></div></div></div></div><div class=\"sk-parallel-item\"><div class=\"sk-item\"><div class=\"sk-label-container\"><div class=\"sk-label fitted sk-toggleable\"><input class=\"sk-toggleable__control sk-hidden--visually\" id=\"sk-estimator-id-6\" type=\"checkbox\" ><label for=\"sk-estimator-id-6\" class=\"sk-toggleable__label fitted sk-toggleable__label-arrow fitted\">remainder</label><div class=\"sk-toggleable__content fitted\"><pre></pre></div> </div></div><div class=\"sk-serial\"><div class=\"sk-item\"><div class=\"sk-estimator fitted sk-toggleable\"><input class=\"sk-toggleable__control sk-hidden--visually\" id=\"sk-estimator-id-7\" type=\"checkbox\" ><label for=\"sk-estimator-id-7\" class=\"sk-toggleable__label fitted sk-toggleable__label-arrow fitted\">passthrough</label><div class=\"sk-toggleable__content fitted\"><pre>passthrough</pre></div> </div></div></div></div></div></div></div><div class=\"sk-item\"><div class=\"sk-estimator fitted sk-toggleable\"><input class=\"sk-toggleable__control sk-hidden--visually\" id=\"sk-estimator-id-8\" type=\"checkbox\" ><label for=\"sk-estimator-id-8\" class=\"sk-toggleable__label fitted sk-toggleable__label-arrow fitted\">&nbsp;DecisionTreeClassifier<a class=\"sk-estimator-doc-link fitted\" rel=\"noreferrer\" target=\"_blank\" href=\"https://scikit-learn.org/1.4/modules/generated/sklearn.tree.DecisionTreeClassifier.html\">?<span>Documentation for DecisionTreeClassifier</span></a></label><div class=\"sk-toggleable__content fitted\"><pre>DecisionTreeClassifier(random_state=42)</pre></div> </div></div></div></div></div></div></div></div></div></div></div>"
      ],
      "text/plain": [
       "RandomizedSearchCV(cv=5,\n",
       "                   estimator=Pipeline(steps=[('preprocessor',\n",
       "                                              ColumnTransformer(remainder='passthrough',\n",
       "                                                                transformers=[('num',\n",
       "                                                                               MinMaxScaler(),\n",
       "                                                                               Index(['active_days', 'num_cost', 'avg_cost', 'quantity', 'quantity_mean',\n",
       "       'cost_v', 'num_cost_v', 'cost_cat_1', 'cost_cat_2', 'ratio_cat_1',\n",
       "       'ratio_cat_2', 'ratio_cost', 'ratio_num', 'rat_ev_pos', 'rat_ev_neu',\n",
       "       'rat_ev_n...\n",
       "                                         'models__max_depth': range(2, 100),\n",
       "                                         'models__max_features': range(2, 100),\n",
       "                                         'models__min_samples_leaf': range(1, 50),\n",
       "                                         'preprocessor__num': [StandardScaler(),\n",
       "                                                               MinMaxScaler(),\n",
       "                                                               'passthrough']},\n",
       "                                        {'models': [LGBMClassifier(learning_rate=0.3,\n",
       "                                                                   n_estimators=200,\n",
       "                                                                   random_state=42)],\n",
       "                                         'models__max_depth': range(2, 100),\n",
       "                                         'models__min_child_samples': range(2, 100)}],\n",
       "                   random_state=42, scoring='roc_auc')"
      ]
     },
     "execution_count": 183,
     "metadata": {},
     "output_type": "execute_result"
    }
   ],
   "source": [
    "randomized_search.fit(X_train, y_train)"
   ]
  },
  {
   "cell_type": "code",
   "execution_count": 184,
   "id": "1cf079c4-8eb2-4d5d-b566-d9c2ee22d212",
   "metadata": {},
   "outputs": [
    {
     "data": {
      "text/html": [
       "<style>#sk-container-id-2 {\n",
       "  /* Definition of color scheme common for light and dark mode */\n",
       "  --sklearn-color-text: black;\n",
       "  --sklearn-color-line: gray;\n",
       "  /* Definition of color scheme for unfitted estimators */\n",
       "  --sklearn-color-unfitted-level-0: #fff5e6;\n",
       "  --sklearn-color-unfitted-level-1: #f6e4d2;\n",
       "  --sklearn-color-unfitted-level-2: #ffe0b3;\n",
       "  --sklearn-color-unfitted-level-3: chocolate;\n",
       "  /* Definition of color scheme for fitted estimators */\n",
       "  --sklearn-color-fitted-level-0: #f0f8ff;\n",
       "  --sklearn-color-fitted-level-1: #d4ebff;\n",
       "  --sklearn-color-fitted-level-2: #b3dbfd;\n",
       "  --sklearn-color-fitted-level-3: cornflowerblue;\n",
       "\n",
       "  /* Specific color for light theme */\n",
       "  --sklearn-color-text-on-default-background: var(--sg-text-color, var(--theme-code-foreground, var(--jp-content-font-color1, black)));\n",
       "  --sklearn-color-background: var(--sg-background-color, var(--theme-background, var(--jp-layout-color0, white)));\n",
       "  --sklearn-color-border-box: var(--sg-text-color, var(--theme-code-foreground, var(--jp-content-font-color1, black)));\n",
       "  --sklearn-color-icon: #696969;\n",
       "\n",
       "  @media (prefers-color-scheme: dark) {\n",
       "    /* Redefinition of color scheme for dark theme */\n",
       "    --sklearn-color-text-on-default-background: var(--sg-text-color, var(--theme-code-foreground, var(--jp-content-font-color1, white)));\n",
       "    --sklearn-color-background: var(--sg-background-color, var(--theme-background, var(--jp-layout-color0, #111)));\n",
       "    --sklearn-color-border-box: var(--sg-text-color, var(--theme-code-foreground, var(--jp-content-font-color1, white)));\n",
       "    --sklearn-color-icon: #878787;\n",
       "  }\n",
       "}\n",
       "\n",
       "#sk-container-id-2 {\n",
       "  color: var(--sklearn-color-text);\n",
       "}\n",
       "\n",
       "#sk-container-id-2 pre {\n",
       "  padding: 0;\n",
       "}\n",
       "\n",
       "#sk-container-id-2 input.sk-hidden--visually {\n",
       "  border: 0;\n",
       "  clip: rect(1px 1px 1px 1px);\n",
       "  clip: rect(1px, 1px, 1px, 1px);\n",
       "  height: 1px;\n",
       "  margin: -1px;\n",
       "  overflow: hidden;\n",
       "  padding: 0;\n",
       "  position: absolute;\n",
       "  width: 1px;\n",
       "}\n",
       "\n",
       "#sk-container-id-2 div.sk-dashed-wrapped {\n",
       "  border: 1px dashed var(--sklearn-color-line);\n",
       "  margin: 0 0.4em 0.5em 0.4em;\n",
       "  box-sizing: border-box;\n",
       "  padding-bottom: 0.4em;\n",
       "  background-color: var(--sklearn-color-background);\n",
       "}\n",
       "\n",
       "#sk-container-id-2 div.sk-container {\n",
       "  /* jupyter's `normalize.less` sets `[hidden] { display: none; }`\n",
       "     but bootstrap.min.css set `[hidden] { display: none !important; }`\n",
       "     so we also need the `!important` here to be able to override the\n",
       "     default hidden behavior on the sphinx rendered scikit-learn.org.\n",
       "     See: https://github.com/scikit-learn/scikit-learn/issues/21755 */\n",
       "  display: inline-block !important;\n",
       "  position: relative;\n",
       "}\n",
       "\n",
       "#sk-container-id-2 div.sk-text-repr-fallback {\n",
       "  display: none;\n",
       "}\n",
       "\n",
       "div.sk-parallel-item,\n",
       "div.sk-serial,\n",
       "div.sk-item {\n",
       "  /* draw centered vertical line to link estimators */\n",
       "  background-image: linear-gradient(var(--sklearn-color-text-on-default-background), var(--sklearn-color-text-on-default-background));\n",
       "  background-size: 2px 100%;\n",
       "  background-repeat: no-repeat;\n",
       "  background-position: center center;\n",
       "}\n",
       "\n",
       "/* Parallel-specific style estimator block */\n",
       "\n",
       "#sk-container-id-2 div.sk-parallel-item::after {\n",
       "  content: \"\";\n",
       "  width: 100%;\n",
       "  border-bottom: 2px solid var(--sklearn-color-text-on-default-background);\n",
       "  flex-grow: 1;\n",
       "}\n",
       "\n",
       "#sk-container-id-2 div.sk-parallel {\n",
       "  display: flex;\n",
       "  align-items: stretch;\n",
       "  justify-content: center;\n",
       "  background-color: var(--sklearn-color-background);\n",
       "  position: relative;\n",
       "}\n",
       "\n",
       "#sk-container-id-2 div.sk-parallel-item {\n",
       "  display: flex;\n",
       "  flex-direction: column;\n",
       "}\n",
       "\n",
       "#sk-container-id-2 div.sk-parallel-item:first-child::after {\n",
       "  align-self: flex-end;\n",
       "  width: 50%;\n",
       "}\n",
       "\n",
       "#sk-container-id-2 div.sk-parallel-item:last-child::after {\n",
       "  align-self: flex-start;\n",
       "  width: 50%;\n",
       "}\n",
       "\n",
       "#sk-container-id-2 div.sk-parallel-item:only-child::after {\n",
       "  width: 0;\n",
       "}\n",
       "\n",
       "/* Serial-specific style estimator block */\n",
       "\n",
       "#sk-container-id-2 div.sk-serial {\n",
       "  display: flex;\n",
       "  flex-direction: column;\n",
       "  align-items: center;\n",
       "  background-color: var(--sklearn-color-background);\n",
       "  padding-right: 1em;\n",
       "  padding-left: 1em;\n",
       "}\n",
       "\n",
       "\n",
       "/* Toggleable style: style used for estimator/Pipeline/ColumnTransformer box that is\n",
       "clickable and can be expanded/collapsed.\n",
       "- Pipeline and ColumnTransformer use this feature and define the default style\n",
       "- Estimators will overwrite some part of the style using the `sk-estimator` class\n",
       "*/\n",
       "\n",
       "/* Pipeline and ColumnTransformer style (default) */\n",
       "\n",
       "#sk-container-id-2 div.sk-toggleable {\n",
       "  /* Default theme specific background. It is overwritten whether we have a\n",
       "  specific estimator or a Pipeline/ColumnTransformer */\n",
       "  background-color: var(--sklearn-color-background);\n",
       "}\n",
       "\n",
       "/* Toggleable label */\n",
       "#sk-container-id-2 label.sk-toggleable__label {\n",
       "  cursor: pointer;\n",
       "  display: block;\n",
       "  width: 100%;\n",
       "  margin-bottom: 0;\n",
       "  padding: 0.5em;\n",
       "  box-sizing: border-box;\n",
       "  text-align: center;\n",
       "}\n",
       "\n",
       "#sk-container-id-2 label.sk-toggleable__label-arrow:before {\n",
       "  /* Arrow on the left of the label */\n",
       "  content: \"▸\";\n",
       "  float: left;\n",
       "  margin-right: 0.25em;\n",
       "  color: var(--sklearn-color-icon);\n",
       "}\n",
       "\n",
       "#sk-container-id-2 label.sk-toggleable__label-arrow:hover:before {\n",
       "  color: var(--sklearn-color-text);\n",
       "}\n",
       "\n",
       "/* Toggleable content - dropdown */\n",
       "\n",
       "#sk-container-id-2 div.sk-toggleable__content {\n",
       "  max-height: 0;\n",
       "  max-width: 0;\n",
       "  overflow: hidden;\n",
       "  text-align: left;\n",
       "  /* unfitted */\n",
       "  background-color: var(--sklearn-color-unfitted-level-0);\n",
       "}\n",
       "\n",
       "#sk-container-id-2 div.sk-toggleable__content.fitted {\n",
       "  /* fitted */\n",
       "  background-color: var(--sklearn-color-fitted-level-0);\n",
       "}\n",
       "\n",
       "#sk-container-id-2 div.sk-toggleable__content pre {\n",
       "  margin: 0.2em;\n",
       "  border-radius: 0.25em;\n",
       "  color: var(--sklearn-color-text);\n",
       "  /* unfitted */\n",
       "  background-color: var(--sklearn-color-unfitted-level-0);\n",
       "}\n",
       "\n",
       "#sk-container-id-2 div.sk-toggleable__content.fitted pre {\n",
       "  /* unfitted */\n",
       "  background-color: var(--sklearn-color-fitted-level-0);\n",
       "}\n",
       "\n",
       "#sk-container-id-2 input.sk-toggleable__control:checked~div.sk-toggleable__content {\n",
       "  /* Expand drop-down */\n",
       "  max-height: 200px;\n",
       "  max-width: 100%;\n",
       "  overflow: auto;\n",
       "}\n",
       "\n",
       "#sk-container-id-2 input.sk-toggleable__control:checked~label.sk-toggleable__label-arrow:before {\n",
       "  content: \"▾\";\n",
       "}\n",
       "\n",
       "/* Pipeline/ColumnTransformer-specific style */\n",
       "\n",
       "#sk-container-id-2 div.sk-label input.sk-toggleable__control:checked~label.sk-toggleable__label {\n",
       "  color: var(--sklearn-color-text);\n",
       "  background-color: var(--sklearn-color-unfitted-level-2);\n",
       "}\n",
       "\n",
       "#sk-container-id-2 div.sk-label.fitted input.sk-toggleable__control:checked~label.sk-toggleable__label {\n",
       "  background-color: var(--sklearn-color-fitted-level-2);\n",
       "}\n",
       "\n",
       "/* Estimator-specific style */\n",
       "\n",
       "/* Colorize estimator box */\n",
       "#sk-container-id-2 div.sk-estimator input.sk-toggleable__control:checked~label.sk-toggleable__label {\n",
       "  /* unfitted */\n",
       "  background-color: var(--sklearn-color-unfitted-level-2);\n",
       "}\n",
       "\n",
       "#sk-container-id-2 div.sk-estimator.fitted input.sk-toggleable__control:checked~label.sk-toggleable__label {\n",
       "  /* fitted */\n",
       "  background-color: var(--sklearn-color-fitted-level-2);\n",
       "}\n",
       "\n",
       "#sk-container-id-2 div.sk-label label.sk-toggleable__label,\n",
       "#sk-container-id-2 div.sk-label label {\n",
       "  /* The background is the default theme color */\n",
       "  color: var(--sklearn-color-text-on-default-background);\n",
       "}\n",
       "\n",
       "/* On hover, darken the color of the background */\n",
       "#sk-container-id-2 div.sk-label:hover label.sk-toggleable__label {\n",
       "  color: var(--sklearn-color-text);\n",
       "  background-color: var(--sklearn-color-unfitted-level-2);\n",
       "}\n",
       "\n",
       "/* Label box, darken color on hover, fitted */\n",
       "#sk-container-id-2 div.sk-label.fitted:hover label.sk-toggleable__label.fitted {\n",
       "  color: var(--sklearn-color-text);\n",
       "  background-color: var(--sklearn-color-fitted-level-2);\n",
       "}\n",
       "\n",
       "/* Estimator label */\n",
       "\n",
       "#sk-container-id-2 div.sk-label label {\n",
       "  font-family: monospace;\n",
       "  font-weight: bold;\n",
       "  display: inline-block;\n",
       "  line-height: 1.2em;\n",
       "}\n",
       "\n",
       "#sk-container-id-2 div.sk-label-container {\n",
       "  text-align: center;\n",
       "}\n",
       "\n",
       "/* Estimator-specific */\n",
       "#sk-container-id-2 div.sk-estimator {\n",
       "  font-family: monospace;\n",
       "  border: 1px dotted var(--sklearn-color-border-box);\n",
       "  border-radius: 0.25em;\n",
       "  box-sizing: border-box;\n",
       "  margin-bottom: 0.5em;\n",
       "  /* unfitted */\n",
       "  background-color: var(--sklearn-color-unfitted-level-0);\n",
       "}\n",
       "\n",
       "#sk-container-id-2 div.sk-estimator.fitted {\n",
       "  /* fitted */\n",
       "  background-color: var(--sklearn-color-fitted-level-0);\n",
       "}\n",
       "\n",
       "/* on hover */\n",
       "#sk-container-id-2 div.sk-estimator:hover {\n",
       "  /* unfitted */\n",
       "  background-color: var(--sklearn-color-unfitted-level-2);\n",
       "}\n",
       "\n",
       "#sk-container-id-2 div.sk-estimator.fitted:hover {\n",
       "  /* fitted */\n",
       "  background-color: var(--sklearn-color-fitted-level-2);\n",
       "}\n",
       "\n",
       "/* Specification for estimator info (e.g. \"i\" and \"?\") */\n",
       "\n",
       "/* Common style for \"i\" and \"?\" */\n",
       "\n",
       ".sk-estimator-doc-link,\n",
       "a:link.sk-estimator-doc-link,\n",
       "a:visited.sk-estimator-doc-link {\n",
       "  float: right;\n",
       "  font-size: smaller;\n",
       "  line-height: 1em;\n",
       "  font-family: monospace;\n",
       "  background-color: var(--sklearn-color-background);\n",
       "  border-radius: 1em;\n",
       "  height: 1em;\n",
       "  width: 1em;\n",
       "  text-decoration: none !important;\n",
       "  margin-left: 1ex;\n",
       "  /* unfitted */\n",
       "  border: var(--sklearn-color-unfitted-level-1) 1pt solid;\n",
       "  color: var(--sklearn-color-unfitted-level-1);\n",
       "}\n",
       "\n",
       ".sk-estimator-doc-link.fitted,\n",
       "a:link.sk-estimator-doc-link.fitted,\n",
       "a:visited.sk-estimator-doc-link.fitted {\n",
       "  /* fitted */\n",
       "  border: var(--sklearn-color-fitted-level-1) 1pt solid;\n",
       "  color: var(--sklearn-color-fitted-level-1);\n",
       "}\n",
       "\n",
       "/* On hover */\n",
       "div.sk-estimator:hover .sk-estimator-doc-link:hover,\n",
       ".sk-estimator-doc-link:hover,\n",
       "div.sk-label-container:hover .sk-estimator-doc-link:hover,\n",
       ".sk-estimator-doc-link:hover {\n",
       "  /* unfitted */\n",
       "  background-color: var(--sklearn-color-unfitted-level-3);\n",
       "  color: var(--sklearn-color-background);\n",
       "  text-decoration: none;\n",
       "}\n",
       "\n",
       "div.sk-estimator.fitted:hover .sk-estimator-doc-link.fitted:hover,\n",
       ".sk-estimator-doc-link.fitted:hover,\n",
       "div.sk-label-container:hover .sk-estimator-doc-link.fitted:hover,\n",
       ".sk-estimator-doc-link.fitted:hover {\n",
       "  /* fitted */\n",
       "  background-color: var(--sklearn-color-fitted-level-3);\n",
       "  color: var(--sklearn-color-background);\n",
       "  text-decoration: none;\n",
       "}\n",
       "\n",
       "/* Span, style for the box shown on hovering the info icon */\n",
       ".sk-estimator-doc-link span {\n",
       "  display: none;\n",
       "  z-index: 9999;\n",
       "  position: relative;\n",
       "  font-weight: normal;\n",
       "  right: .2ex;\n",
       "  padding: .5ex;\n",
       "  margin: .5ex;\n",
       "  width: min-content;\n",
       "  min-width: 20ex;\n",
       "  max-width: 50ex;\n",
       "  color: var(--sklearn-color-text);\n",
       "  box-shadow: 2pt 2pt 4pt #999;\n",
       "  /* unfitted */\n",
       "  background: var(--sklearn-color-unfitted-level-0);\n",
       "  border: .5pt solid var(--sklearn-color-unfitted-level-3);\n",
       "}\n",
       "\n",
       ".sk-estimator-doc-link.fitted span {\n",
       "  /* fitted */\n",
       "  background: var(--sklearn-color-fitted-level-0);\n",
       "  border: var(--sklearn-color-fitted-level-3);\n",
       "}\n",
       "\n",
       ".sk-estimator-doc-link:hover span {\n",
       "  display: block;\n",
       "}\n",
       "\n",
       "/* \"?\"-specific style due to the `<a>` HTML tag */\n",
       "\n",
       "#sk-container-id-2 a.estimator_doc_link {\n",
       "  float: right;\n",
       "  font-size: 1rem;\n",
       "  line-height: 1em;\n",
       "  font-family: monospace;\n",
       "  background-color: var(--sklearn-color-background);\n",
       "  border-radius: 1rem;\n",
       "  height: 1rem;\n",
       "  width: 1rem;\n",
       "  text-decoration: none;\n",
       "  /* unfitted */\n",
       "  color: var(--sklearn-color-unfitted-level-1);\n",
       "  border: var(--sklearn-color-unfitted-level-1) 1pt solid;\n",
       "}\n",
       "\n",
       "#sk-container-id-2 a.estimator_doc_link.fitted {\n",
       "  /* fitted */\n",
       "  border: var(--sklearn-color-fitted-level-1) 1pt solid;\n",
       "  color: var(--sklearn-color-fitted-level-1);\n",
       "}\n",
       "\n",
       "/* On hover */\n",
       "#sk-container-id-2 a.estimator_doc_link:hover {\n",
       "  /* unfitted */\n",
       "  background-color: var(--sklearn-color-unfitted-level-3);\n",
       "  color: var(--sklearn-color-background);\n",
       "  text-decoration: none;\n",
       "}\n",
       "\n",
       "#sk-container-id-2 a.estimator_doc_link.fitted:hover {\n",
       "  /* fitted */\n",
       "  background-color: var(--sklearn-color-fitted-level-3);\n",
       "}\n",
       "</style><div id=\"sk-container-id-2\" class=\"sk-top-container\"><div class=\"sk-text-repr-fallback\"><pre>Pipeline(steps=[(&#x27;preprocessor&#x27;,\n",
       "                 ColumnTransformer(remainder=&#x27;passthrough&#x27;,\n",
       "                                   transformers=[(&#x27;num&#x27;, MinMaxScaler(),\n",
       "                                                  Index([&#x27;active_days&#x27;, &#x27;num_cost&#x27;, &#x27;avg_cost&#x27;, &#x27;quantity&#x27;, &#x27;quantity_mean&#x27;,\n",
       "       &#x27;cost_v&#x27;, &#x27;num_cost_v&#x27;, &#x27;cost_cat_1&#x27;, &#x27;cost_cat_2&#x27;, &#x27;ratio_cat_1&#x27;,\n",
       "       &#x27;ratio_cat_2&#x27;, &#x27;ratio_cost&#x27;, &#x27;ratio_num&#x27;, &#x27;rat_ev_pos&#x27;, &#x27;rat_ev_neu&#x27;,\n",
       "       &#x27;rat_ev_neg&#x27;, &#x27;rat_comp_pos&#x27;, &#x27;rat_comp_neg&#x27;, &#x27;rat_chan&#x27;],\n",
       "      dtype=&#x27;object&#x27;))])),\n",
       "                (&#x27;models&#x27;,\n",
       "                 RandomForestClassifier(max_depth=11, max_features=95,\n",
       "                                        min_samples_leaf=16, n_estimators=200,\n",
       "                                        random_state=42))])</pre><b>In a Jupyter environment, please rerun this cell to show the HTML representation or trust the notebook. <br />On GitHub, the HTML representation is unable to render, please try loading this page with nbviewer.org.</b></div><div class=\"sk-container\" hidden><div class=\"sk-item sk-dashed-wrapped\"><div class=\"sk-label-container\"><div class=\"sk-label fitted sk-toggleable\"><input class=\"sk-toggleable__control sk-hidden--visually\" id=\"sk-estimator-id-9\" type=\"checkbox\" ><label for=\"sk-estimator-id-9\" class=\"sk-toggleable__label fitted sk-toggleable__label-arrow fitted\">&nbsp;&nbsp;Pipeline<a class=\"sk-estimator-doc-link fitted\" rel=\"noreferrer\" target=\"_blank\" href=\"https://scikit-learn.org/1.4/modules/generated/sklearn.pipeline.Pipeline.html\">?<span>Documentation for Pipeline</span></a><span class=\"sk-estimator-doc-link fitted\">i<span>Fitted</span></span></label><div class=\"sk-toggleable__content fitted\"><pre>Pipeline(steps=[(&#x27;preprocessor&#x27;,\n",
       "                 ColumnTransformer(remainder=&#x27;passthrough&#x27;,\n",
       "                                   transformers=[(&#x27;num&#x27;, MinMaxScaler(),\n",
       "                                                  Index([&#x27;active_days&#x27;, &#x27;num_cost&#x27;, &#x27;avg_cost&#x27;, &#x27;quantity&#x27;, &#x27;quantity_mean&#x27;,\n",
       "       &#x27;cost_v&#x27;, &#x27;num_cost_v&#x27;, &#x27;cost_cat_1&#x27;, &#x27;cost_cat_2&#x27;, &#x27;ratio_cat_1&#x27;,\n",
       "       &#x27;ratio_cat_2&#x27;, &#x27;ratio_cost&#x27;, &#x27;ratio_num&#x27;, &#x27;rat_ev_pos&#x27;, &#x27;rat_ev_neu&#x27;,\n",
       "       &#x27;rat_ev_neg&#x27;, &#x27;rat_comp_pos&#x27;, &#x27;rat_comp_neg&#x27;, &#x27;rat_chan&#x27;],\n",
       "      dtype=&#x27;object&#x27;))])),\n",
       "                (&#x27;models&#x27;,\n",
       "                 RandomForestClassifier(max_depth=11, max_features=95,\n",
       "                                        min_samples_leaf=16, n_estimators=200,\n",
       "                                        random_state=42))])</pre></div> </div></div><div class=\"sk-serial\"><div class=\"sk-item sk-dashed-wrapped\"><div class=\"sk-label-container\"><div class=\"sk-label fitted sk-toggleable\"><input class=\"sk-toggleable__control sk-hidden--visually\" id=\"sk-estimator-id-10\" type=\"checkbox\" ><label for=\"sk-estimator-id-10\" class=\"sk-toggleable__label fitted sk-toggleable__label-arrow fitted\">&nbsp;preprocessor: ColumnTransformer<a class=\"sk-estimator-doc-link fitted\" rel=\"noreferrer\" target=\"_blank\" href=\"https://scikit-learn.org/1.4/modules/generated/sklearn.compose.ColumnTransformer.html\">?<span>Documentation for preprocessor: ColumnTransformer</span></a></label><div class=\"sk-toggleable__content fitted\"><pre>ColumnTransformer(remainder=&#x27;passthrough&#x27;,\n",
       "                  transformers=[(&#x27;num&#x27;, MinMaxScaler(),\n",
       "                                 Index([&#x27;active_days&#x27;, &#x27;num_cost&#x27;, &#x27;avg_cost&#x27;, &#x27;quantity&#x27;, &#x27;quantity_mean&#x27;,\n",
       "       &#x27;cost_v&#x27;, &#x27;num_cost_v&#x27;, &#x27;cost_cat_1&#x27;, &#x27;cost_cat_2&#x27;, &#x27;ratio_cat_1&#x27;,\n",
       "       &#x27;ratio_cat_2&#x27;, &#x27;ratio_cost&#x27;, &#x27;ratio_num&#x27;, &#x27;rat_ev_pos&#x27;, &#x27;rat_ev_neu&#x27;,\n",
       "       &#x27;rat_ev_neg&#x27;, &#x27;rat_comp_pos&#x27;, &#x27;rat_comp_neg&#x27;, &#x27;rat_chan&#x27;],\n",
       "      dtype=&#x27;object&#x27;))])</pre></div> </div></div><div class=\"sk-parallel\"><div class=\"sk-parallel-item\"><div class=\"sk-item\"><div class=\"sk-label-container\"><div class=\"sk-label fitted sk-toggleable\"><input class=\"sk-toggleable__control sk-hidden--visually\" id=\"sk-estimator-id-11\" type=\"checkbox\" ><label for=\"sk-estimator-id-11\" class=\"sk-toggleable__label fitted sk-toggleable__label-arrow fitted\">num</label><div class=\"sk-toggleable__content fitted\"><pre>Index([&#x27;active_days&#x27;, &#x27;num_cost&#x27;, &#x27;avg_cost&#x27;, &#x27;quantity&#x27;, &#x27;quantity_mean&#x27;,\n",
       "       &#x27;cost_v&#x27;, &#x27;num_cost_v&#x27;, &#x27;cost_cat_1&#x27;, &#x27;cost_cat_2&#x27;, &#x27;ratio_cat_1&#x27;,\n",
       "       &#x27;ratio_cat_2&#x27;, &#x27;ratio_cost&#x27;, &#x27;ratio_num&#x27;, &#x27;rat_ev_pos&#x27;, &#x27;rat_ev_neu&#x27;,\n",
       "       &#x27;rat_ev_neg&#x27;, &#x27;rat_comp_pos&#x27;, &#x27;rat_comp_neg&#x27;, &#x27;rat_chan&#x27;],\n",
       "      dtype=&#x27;object&#x27;)</pre></div> </div></div><div class=\"sk-serial\"><div class=\"sk-item\"><div class=\"sk-estimator fitted sk-toggleable\"><input class=\"sk-toggleable__control sk-hidden--visually\" id=\"sk-estimator-id-12\" type=\"checkbox\" ><label for=\"sk-estimator-id-12\" class=\"sk-toggleable__label fitted sk-toggleable__label-arrow fitted\">&nbsp;MinMaxScaler<a class=\"sk-estimator-doc-link fitted\" rel=\"noreferrer\" target=\"_blank\" href=\"https://scikit-learn.org/1.4/modules/generated/sklearn.preprocessing.MinMaxScaler.html\">?<span>Documentation for MinMaxScaler</span></a></label><div class=\"sk-toggleable__content fitted\"><pre>MinMaxScaler()</pre></div> </div></div></div></div></div><div class=\"sk-parallel-item\"><div class=\"sk-item\"><div class=\"sk-label-container\"><div class=\"sk-label fitted sk-toggleable\"><input class=\"sk-toggleable__control sk-hidden--visually\" id=\"sk-estimator-id-13\" type=\"checkbox\" ><label for=\"sk-estimator-id-13\" class=\"sk-toggleable__label fitted sk-toggleable__label-arrow fitted\">remainder</label><div class=\"sk-toggleable__content fitted\"><pre>[]</pre></div> </div></div><div class=\"sk-serial\"><div class=\"sk-item\"><div class=\"sk-estimator fitted sk-toggleable\"><input class=\"sk-toggleable__control sk-hidden--visually\" id=\"sk-estimator-id-14\" type=\"checkbox\" ><label for=\"sk-estimator-id-14\" class=\"sk-toggleable__label fitted sk-toggleable__label-arrow fitted\">passthrough</label><div class=\"sk-toggleable__content fitted\"><pre>passthrough</pre></div> </div></div></div></div></div></div></div><div class=\"sk-item\"><div class=\"sk-estimator fitted sk-toggleable\"><input class=\"sk-toggleable__control sk-hidden--visually\" id=\"sk-estimator-id-15\" type=\"checkbox\" ><label for=\"sk-estimator-id-15\" class=\"sk-toggleable__label fitted sk-toggleable__label-arrow fitted\">&nbsp;RandomForestClassifier<a class=\"sk-estimator-doc-link fitted\" rel=\"noreferrer\" target=\"_blank\" href=\"https://scikit-learn.org/1.4/modules/generated/sklearn.ensemble.RandomForestClassifier.html\">?<span>Documentation for RandomForestClassifier</span></a></label><div class=\"sk-toggleable__content fitted\"><pre>RandomForestClassifier(max_depth=11, max_features=95, min_samples_leaf=16,\n",
       "                       n_estimators=200, random_state=42)</pre></div> </div></div></div></div></div></div>"
      ],
      "text/plain": [
       "Pipeline(steps=[('preprocessor',\n",
       "                 ColumnTransformer(remainder='passthrough',\n",
       "                                   transformers=[('num', MinMaxScaler(),\n",
       "                                                  Index(['active_days', 'num_cost', 'avg_cost', 'quantity', 'quantity_mean',\n",
       "       'cost_v', 'num_cost_v', 'cost_cat_1', 'cost_cat_2', 'ratio_cat_1',\n",
       "       'ratio_cat_2', 'ratio_cost', 'ratio_num', 'rat_ev_pos', 'rat_ev_neu',\n",
       "       'rat_ev_neg', 'rat_comp_pos', 'rat_comp_neg', 'rat_chan'],\n",
       "      dtype='object'))])),\n",
       "                ('models',\n",
       "                 RandomForestClassifier(max_depth=11, max_features=95,\n",
       "                                        min_samples_leaf=16, n_estimators=200,\n",
       "                                        random_state=42))])"
      ]
     },
     "execution_count": 184,
     "metadata": {},
     "output_type": "execute_result"
    }
   ],
   "source": [
    "randomized_search.best_estimator_"
   ]
  },
  {
   "cell_type": "code",
   "execution_count": 185,
   "id": "04308bcb-3390-45fc-b25a-4ee8cf7dadb4",
   "metadata": {},
   "outputs": [
    {
     "data": {
      "text/html": [
       "<div>\n",
       "<style scoped>\n",
       "    .dataframe tbody tr th:only-of-type {\n",
       "        vertical-align: middle;\n",
       "    }\n",
       "\n",
       "    .dataframe tbody tr th {\n",
       "        vertical-align: top;\n",
       "    }\n",
       "\n",
       "    .dataframe thead th {\n",
       "        text-align: right;\n",
       "    }\n",
       "</style>\n",
       "<table border=\"1\" class=\"dataframe\">\n",
       "  <thead>\n",
       "    <tr style=\"text-align: right;\">\n",
       "      <th></th>\n",
       "      <th>rank_test_score</th>\n",
       "      <th>param_models</th>\n",
       "      <th>mean_test_score</th>\n",
       "      <th>params</th>\n",
       "    </tr>\n",
       "  </thead>\n",
       "  <tbody>\n",
       "    <tr>\n",
       "      <th>2</th>\n",
       "      <td>1</td>\n",
       "      <td>RandomForestClassifier(n_estimators=200, random_state=42)</td>\n",
       "      <td>0.716011</td>\n",
       "      <td>{'preprocessor__num': MinMaxScaler(), 'models__min_samples_leaf': 16, 'models__max_features': 95, 'models__max_depth': 11, 'models': RandomForestClassifier(n_estimators=200, random_state=42)}</td>\n",
       "    </tr>\n",
       "    <tr>\n",
       "      <th>6</th>\n",
       "      <td>2</td>\n",
       "      <td>RandomForestClassifier(n_estimators=200, random_state=42)</td>\n",
       "      <td>0.714114</td>\n",
       "      <td>{'preprocessor__num': MinMaxScaler(), 'models__min_samples_leaf': 43, 'models__max_features': 40, 'models__max_depth': 51, 'models': RandomForestClassifier(n_estimators=200, random_state=42)}</td>\n",
       "    </tr>\n",
       "    <tr>\n",
       "      <th>1</th>\n",
       "      <td>3</td>\n",
       "      <td>RandomForestClassifier(n_estimators=200, random_state=42)</td>\n",
       "      <td>0.713584</td>\n",
       "      <td>{'preprocessor__num': 'passthrough', 'models__min_samples_leaf': 30, 'models__max_features': 9, 'models__max_depth': 58, 'models': RandomForestClassifier(n_estimators=200, random_state=42)}</td>\n",
       "    </tr>\n",
       "    <tr>\n",
       "      <th>7</th>\n",
       "      <td>4</td>\n",
       "      <td>RandomForestClassifier(n_estimators=200, random_state=42)</td>\n",
       "      <td>0.711217</td>\n",
       "      <td>{'preprocessor__num': 'passthrough', 'models__min_samples_leaf': 33, 'models__max_features': 62, 'models__max_depth': 25, 'models': RandomForestClassifier(n_estimators=200, random_state=42)}</td>\n",
       "    </tr>\n",
       "    <tr>\n",
       "      <th>0</th>\n",
       "      <td>5</td>\n",
       "      <td>RandomForestClassifier(n_estimators=200, random_state=42)</td>\n",
       "      <td>0.703217</td>\n",
       "      <td>{'preprocessor__num': 'passthrough', 'models__min_samples_leaf': 13, 'models__max_features': 48, 'models__max_depth': 20, 'models': RandomForestClassifier(n_estimators=200, random_state=42)}</td>\n",
       "    </tr>\n",
       "    <tr>\n",
       "      <th>4</th>\n",
       "      <td>6</td>\n",
       "      <td>GradientBoostingClassifier(n_estimators=200, random_state=42)</td>\n",
       "      <td>0.663475</td>\n",
       "      <td>{'preprocessor__num': 'passthrough', 'models__min_samples_leaf': 12, 'models__max_features': 75, 'models__max_depth': 85, 'models': GradientBoostingClassifier(n_estimators=200, random_state=42)}</td>\n",
       "    </tr>\n",
       "    <tr>\n",
       "      <th>8</th>\n",
       "      <td>7</td>\n",
       "      <td>GradientBoostingClassifier(n_estimators=200, random_state=42)</td>\n",
       "      <td>0.641616</td>\n",
       "      <td>{'preprocessor__num': StandardScaler(), 'models__min_samples_leaf': 27, 'models__max_features': 16, 'models__max_depth': 37, 'models': GradientBoostingClassifier(n_estimators=200, random_state=42)}</td>\n",
       "    </tr>\n",
       "    <tr>\n",
       "      <th>5</th>\n",
       "      <td>8</td>\n",
       "      <td>DecisionTreeClassifier(random_state=42)</td>\n",
       "      <td>0.592189</td>\n",
       "      <td>{'preprocessor__num': 'passthrough', 'models__min_samples_leaf': 38, 'models__max_features': 8, 'models__max_depth': 88, 'models': DecisionTreeClassifier(random_state=42)}</td>\n",
       "    </tr>\n",
       "    <tr>\n",
       "      <th>3</th>\n",
       "      <td>9</td>\n",
       "      <td>DecisionTreeClassifier(random_state=42)</td>\n",
       "      <td>0.569887</td>\n",
       "      <td>{'preprocessor__num': MinMaxScaler(), 'models__min_samples_leaf': 20, 'models__max_features': 86, 'models__max_depth': 80, 'models': DecisionTreeClassifier(random_state=42)}</td>\n",
       "    </tr>\n",
       "    <tr>\n",
       "      <th>9</th>\n",
       "      <td>10</td>\n",
       "      <td>DecisionTreeClassifier(random_state=42)</td>\n",
       "      <td>0.515824</td>\n",
       "      <td>{'preprocessor__num': MinMaxScaler(), 'models__min_samples_leaf': 1, 'models__max_features': 96, 'models__max_depth': 56, 'models': DecisionTreeClassifier(random_state=42)}</td>\n",
       "    </tr>\n",
       "  </tbody>\n",
       "</table>\n",
       "</div>"
      ],
      "text/plain": [
       "   rank_test_score  \\\n",
       "2                1   \n",
       "6                2   \n",
       "1                3   \n",
       "7                4   \n",
       "0                5   \n",
       "4                6   \n",
       "8                7   \n",
       "5                8   \n",
       "3                9   \n",
       "9               10   \n",
       "\n",
       "                                                    param_models  \\\n",
       "2      RandomForestClassifier(n_estimators=200, random_state=42)   \n",
       "6      RandomForestClassifier(n_estimators=200, random_state=42)   \n",
       "1      RandomForestClassifier(n_estimators=200, random_state=42)   \n",
       "7      RandomForestClassifier(n_estimators=200, random_state=42)   \n",
       "0      RandomForestClassifier(n_estimators=200, random_state=42)   \n",
       "4  GradientBoostingClassifier(n_estimators=200, random_state=42)   \n",
       "8  GradientBoostingClassifier(n_estimators=200, random_state=42)   \n",
       "5                        DecisionTreeClassifier(random_state=42)   \n",
       "3                        DecisionTreeClassifier(random_state=42)   \n",
       "9                        DecisionTreeClassifier(random_state=42)   \n",
       "\n",
       "   mean_test_score  \\\n",
       "2         0.716011   \n",
       "6         0.714114   \n",
       "1         0.713584   \n",
       "7         0.711217   \n",
       "0         0.703217   \n",
       "4         0.663475   \n",
       "8         0.641616   \n",
       "5         0.592189   \n",
       "3         0.569887   \n",
       "9         0.515824   \n",
       "\n",
       "                                                                                                                                                                                                  params  \n",
       "2        {'preprocessor__num': MinMaxScaler(), 'models__min_samples_leaf': 16, 'models__max_features': 95, 'models__max_depth': 11, 'models': RandomForestClassifier(n_estimators=200, random_state=42)}  \n",
       "6        {'preprocessor__num': MinMaxScaler(), 'models__min_samples_leaf': 43, 'models__max_features': 40, 'models__max_depth': 51, 'models': RandomForestClassifier(n_estimators=200, random_state=42)}  \n",
       "1          {'preprocessor__num': 'passthrough', 'models__min_samples_leaf': 30, 'models__max_features': 9, 'models__max_depth': 58, 'models': RandomForestClassifier(n_estimators=200, random_state=42)}  \n",
       "7         {'preprocessor__num': 'passthrough', 'models__min_samples_leaf': 33, 'models__max_features': 62, 'models__max_depth': 25, 'models': RandomForestClassifier(n_estimators=200, random_state=42)}  \n",
       "0         {'preprocessor__num': 'passthrough', 'models__min_samples_leaf': 13, 'models__max_features': 48, 'models__max_depth': 20, 'models': RandomForestClassifier(n_estimators=200, random_state=42)}  \n",
       "4     {'preprocessor__num': 'passthrough', 'models__min_samples_leaf': 12, 'models__max_features': 75, 'models__max_depth': 85, 'models': GradientBoostingClassifier(n_estimators=200, random_state=42)}  \n",
       "8  {'preprocessor__num': StandardScaler(), 'models__min_samples_leaf': 27, 'models__max_features': 16, 'models__max_depth': 37, 'models': GradientBoostingClassifier(n_estimators=200, random_state=42)}  \n",
       "5                            {'preprocessor__num': 'passthrough', 'models__min_samples_leaf': 38, 'models__max_features': 8, 'models__max_depth': 88, 'models': DecisionTreeClassifier(random_state=42)}  \n",
       "3                          {'preprocessor__num': MinMaxScaler(), 'models__min_samples_leaf': 20, 'models__max_features': 86, 'models__max_depth': 80, 'models': DecisionTreeClassifier(random_state=42)}  \n",
       "9                           {'preprocessor__num': MinMaxScaler(), 'models__min_samples_leaf': 1, 'models__max_features': 96, 'models__max_depth': 56, 'models': DecisionTreeClassifier(random_state=42)}  "
      ]
     },
     "execution_count": 185,
     "metadata": {},
     "output_type": "execute_result"
    }
   ],
   "source": [
    "pd.set_option('display.max_colwidth', None)\n",
    "pd.DataFrame(randomized_search.cv_results_)[\n",
    "    ['rank_test_score', 'param_models', 'mean_test_score','params']\n",
    "    ].sort_values('rank_test_score')"
   ]
  },
  {
   "cell_type": "markdown",
   "id": "fe5dfb62-e5e5-41bb-bfa1-91515b22ab52",
   "metadata": {},
   "source": [
    "<div class=\"alert alert-info\">\n",
    "     Лучшей моделью является RandomForestClassifier(n_estimators=200, random_state=42) с метрикой roc_auc на кросс-валидации: 0,716.  \n",
    "</div>"
   ]
  },
  {
   "cell_type": "code",
   "execution_count": 186,
   "id": "6e0e2e40-20fa-4c0c-b7d8-f2ce1ad8d537",
   "metadata": {},
   "outputs": [],
   "source": [
    "model = randomized_search.best_estimator_.named_steps['models']"
   ]
  },
  {
   "cell_type": "code",
   "execution_count": 187,
   "id": "06bd0cab-a73d-4d3a-abaa-29681340a2d5",
   "metadata": {},
   "outputs": [
    {
     "data": {
      "text/plain": [
       "array([0.08789217, 0.01887687, 0.09465382, 0.01767031, 0.00127849,\n",
       "       0.04459473, 0.03489506, 0.06085391, 0.055434  , 0.02437112,\n",
       "       0.02826706, 0.0182229 , 0.0280586 , 0.08455553, 0.1323875 ,\n",
       "       0.02114034, 0.08673151, 0.1105523 , 0.04956379])"
      ]
     },
     "execution_count": 187,
     "metadata": {},
     "output_type": "execute_result"
    }
   ],
   "source": [
    "model.feature_importances_"
   ]
  },
  {
   "cell_type": "code",
   "execution_count": 188,
   "id": "f29b8ff9-aa74-41af-987b-416db9f7833b",
   "metadata": {},
   "outputs": [],
   "source": [
    "feature_importance = pd.DataFrame({'Feature': X_train.columns, 'Importance': np.abs(model.feature_importances_)})\n",
    "feature_importance = feature_importance.sort_values(by = 'Importance', ascending = True)"
   ]
  },
  {
   "cell_type": "code",
   "execution_count": 189,
   "id": "c185ae30-1279-4320-bca9-97595630269a",
   "metadata": {
    "scrolled": true
   },
   "outputs": [
    {
     "data": {
      "image/png": "[encoded data removed]",
      "text/plain": [
       "<Figure size 1000x600 with 1 Axes>"
      ]
     },
     "metadata": {},
     "output_type": "display_data"
    }
   ],
   "source": [
    "sns.set_style('white')\n",
    "feature_importance.plot(x='Feature', y='Importance', kind='barh', figsize=(10, 6))\n",
    "plt.title('Диаграмма коэффициентов значимости признаков для модели')\n",
    "plt.xlabel('Величина коэффициента значимости')\n",
    "plt.ylabel('Признак');"
   ]
  },
  {
   "cell_type": "markdown",
   "id": "37dba3fd-0767-499a-b3f5-05cd4a10a98c",
   "metadata": {},
   "source": [
    "<div class=\"alert alert-info\">\n",
    "     В наибольшей степени на цель влияют следующие признаки: доля нейтральных событий (rat_ev_neu), доля провальных рекламных компаний (rat_comp_neg),\n",
    "средняя стоимость заказов (avg_cost), количество дней, в течении которых клиент делал покупки (active_days), доля позитивных рекламных компаний \n",
    "(rat_comp_pos), доля позитивных событий (rat_ev_pos), расходы клиента на товары 'любимой' макрокатегории (cost_cat_1) и расходы клиента на товары\n",
    "любимого сочетаний макро- и микрокатегорий (cost_cat_2).\n",
    "</div>"
   ]
  },
  {
   "cell_type": "code",
   "execution_count": 190,
   "id": "79b53eac-a577-4638-b684-6d6632454f83",
   "metadata": {},
   "outputs": [],
   "source": [
    "selector = SelectKBest(mutual_info_classif, k=10)\n",
    "selector.fit(X_train, y_train)\n",
    "features_names = selector.get_feature_names_out()"
   ]
  },
  {
   "cell_type": "code",
   "execution_count": 191,
   "id": "fe385c34-681c-4dfb-b9b9-f2d142df5f23",
   "metadata": {},
   "outputs": [
    {
     "data": {
      "text/plain": [
       "array(['active_days', 'quantity', 'quantity_mean', 'cost_v',\n",
       "       'ratio_cat_1', 'ratio_cat_2', 'ratio_cost', 'ratio_num',\n",
       "       'rat_ev_neu', 'rat_chan'], dtype=object)"
      ]
     },
     "execution_count": 191,
     "metadata": {},
     "output_type": "execute_result"
    }
   ],
   "source": [
    "features_names"
   ]
  },
  {
   "cell_type": "code",
   "execution_count": 192,
   "id": "ebfd3894-ef2a-42f7-a526-eb539ade7d50",
   "metadata": {},
   "outputs": [],
   "source": [
    "X_train_new = X_train[list(features_names)]\n",
    "X_test_new = X_test[list(features_names)]"
   ]
  },
  {
   "cell_type": "code",
   "execution_count": 193,
   "id": "ec124847-3802-42a6-a82e-66086cc80916",
   "metadata": {},
   "outputs": [],
   "source": [
    "data_preprocessor_ = ColumnTransformer(\n",
    "        [\n",
    "            ('num', MinMaxScaler(), X_train_new.columns)\n",
    "        ], \n",
    "        remainder='passthrough')\n",
    "pipe_final_ = Pipeline(\n",
    "    [\n",
    "        ('preprocessor', data_preprocessor_),\n",
    "        ('models', DecisionTreeClassifier(random_state=RANDOM_STATE))\n",
    "    ]\n",
    ")"
   ]
  },
  {
   "cell_type": "code",
   "execution_count": 194,
   "id": "d852c0fd-d58b-48ca-a9eb-7e00e430cc99",
   "metadata": {},
   "outputs": [],
   "source": [
    "randomized_search_ = RandomizedSearchCV(\n",
    "    pipe_final_, \n",
    "    param_grid, \n",
    "    cv=5,\n",
    "    scoring='roc_auc',\n",
    "    random_state=RANDOM_STATE,\n",
    "    n_jobs=-1\n",
    ")"
   ]
  },
  {
   "cell_type": "code",
   "execution_count": 195,
   "id": "c1fdd089-df61-40c8-bf7f-d60d3e53ce51",
   "metadata": {},
   "outputs": [
    {
     "data": {
      "text/html": [
       "<style>#sk-container-id-3 {\n",
       "  /* Definition of color scheme common for light and dark mode */\n",
       "  --sklearn-color-text: black;\n",
       "  --sklearn-color-line: gray;\n",
       "  /* Definition of color scheme for unfitted estimators */\n",
       "  --sklearn-color-unfitted-level-0: #fff5e6;\n",
       "  --sklearn-color-unfitted-level-1: #f6e4d2;\n",
       "  --sklearn-color-unfitted-level-2: #ffe0b3;\n",
       "  --sklearn-color-unfitted-level-3: chocolate;\n",
       "  /* Definition of color scheme for fitted estimators */\n",
       "  --sklearn-color-fitted-level-0: #f0f8ff;\n",
       "  --sklearn-color-fitted-level-1: #d4ebff;\n",
       "  --sklearn-color-fitted-level-2: #b3dbfd;\n",
       "  --sklearn-color-fitted-level-3: cornflowerblue;\n",
       "\n",
       "  /* Specific color for light theme */\n",
       "  --sklearn-color-text-on-default-background: var(--sg-text-color, var(--theme-code-foreground, var(--jp-content-font-color1, black)));\n",
       "  --sklearn-color-background: var(--sg-background-color, var(--theme-background, var(--jp-layout-color0, white)));\n",
       "  --sklearn-color-border-box: var(--sg-text-color, var(--theme-code-foreground, var(--jp-content-font-color1, black)));\n",
       "  --sklearn-color-icon: #696969;\n",
       "\n",
       "  @media (prefers-color-scheme: dark) {\n",
       "    /* Redefinition of color scheme for dark theme */\n",
       "    --sklearn-color-text-on-default-background: var(--sg-text-color, var(--theme-code-foreground, var(--jp-content-font-color1, white)));\n",
       "    --sklearn-color-background: var(--sg-background-color, var(--theme-background, var(--jp-layout-color0, #111)));\n",
       "    --sklearn-color-border-box: var(--sg-text-color, var(--theme-code-foreground, var(--jp-content-font-color1, white)));\n",
       "    --sklearn-color-icon: #878787;\n",
       "  }\n",
       "}\n",
       "\n",
       "#sk-container-id-3 {\n",
       "  color: var(--sklearn-color-text);\n",
       "}\n",
       "\n",
       "#sk-container-id-3 pre {\n",
       "  padding: 0;\n",
       "}\n",
       "\n",
       "#sk-container-id-3 input.sk-hidden--visually {\n",
       "  border: 0;\n",
       "  clip: rect(1px 1px 1px 1px);\n",
       "  clip: rect(1px, 1px, 1px, 1px);\n",
       "  height: 1px;\n",
       "  margin: -1px;\n",
       "  overflow: hidden;\n",
       "  padding: 0;\n",
       "  position: absolute;\n",
       "  width: 1px;\n",
       "}\n",
       "\n",
       "#sk-container-id-3 div.sk-dashed-wrapped {\n",
       "  border: 1px dashed var(--sklearn-color-line);\n",
       "  margin: 0 0.4em 0.5em 0.4em;\n",
       "  box-sizing: border-box;\n",
       "  padding-bottom: 0.4em;\n",
       "  background-color: var(--sklearn-color-background);\n",
       "}\n",
       "\n",
       "#sk-container-id-3 div.sk-container {\n",
       "  /* jupyter's `normalize.less` sets `[hidden] { display: none; }`\n",
       "     but bootstrap.min.css set `[hidden] { display: none !important; }`\n",
       "     so we also need the `!important` here to be able to override the\n",
       "     default hidden behavior on the sphinx rendered scikit-learn.org.\n",
       "     See: https://github.com/scikit-learn/scikit-learn/issues/21755 */\n",
       "  display: inline-block !important;\n",
       "  position: relative;\n",
       "}\n",
       "\n",
       "#sk-container-id-3 div.sk-text-repr-fallback {\n",
       "  display: none;\n",
       "}\n",
       "\n",
       "div.sk-parallel-item,\n",
       "div.sk-serial,\n",
       "div.sk-item {\n",
       "  /* draw centered vertical line to link estimators */\n",
       "  background-image: linear-gradient(var(--sklearn-color-text-on-default-background), var(--sklearn-color-text-on-default-background));\n",
       "  background-size: 2px 100%;\n",
       "  background-repeat: no-repeat;\n",
       "  background-position: center center;\n",
       "}\n",
       "\n",
       "/* Parallel-specific style estimator block */\n",
       "\n",
       "#sk-container-id-3 div.sk-parallel-item::after {\n",
       "  content: \"\";\n",
       "  width: 100%;\n",
       "  border-bottom: 2px solid var(--sklearn-color-text-on-default-background);\n",
       "  flex-grow: 1;\n",
       "}\n",
       "\n",
       "#sk-container-id-3 div.sk-parallel {\n",
       "  display: flex;\n",
       "  align-items: stretch;\n",
       "  justify-content: center;\n",
       "  background-color: var(--sklearn-color-background);\n",
       "  position: relative;\n",
       "}\n",
       "\n",
       "#sk-container-id-3 div.sk-parallel-item {\n",
       "  display: flex;\n",
       "  flex-direction: column;\n",
       "}\n",
       "\n",
       "#sk-container-id-3 div.sk-parallel-item:first-child::after {\n",
       "  align-self: flex-end;\n",
       "  width: 50%;\n",
       "}\n",
       "\n",
       "#sk-container-id-3 div.sk-parallel-item:last-child::after {\n",
       "  align-self: flex-start;\n",
       "  width: 50%;\n",
       "}\n",
       "\n",
       "#sk-container-id-3 div.sk-parallel-item:only-child::after {\n",
       "  width: 0;\n",
       "}\n",
       "\n",
       "/* Serial-specific style estimator block */\n",
       "\n",
       "#sk-container-id-3 div.sk-serial {\n",
       "  display: flex;\n",
       "  flex-direction: column;\n",
       "  align-items: center;\n",
       "  background-color: var(--sklearn-color-background);\n",
       "  padding-right: 1em;\n",
       "  padding-left: 1em;\n",
       "}\n",
       "\n",
       "\n",
       "/* Toggleable style: style used for estimator/Pipeline/ColumnTransformer box that is\n",
       "clickable and can be expanded/collapsed.\n",
       "- Pipeline and ColumnTransformer use this feature and define the default style\n",
       "- Estimators will overwrite some part of the style using the `sk-estimator` class\n",
       "*/\n",
       "\n",
       "/* Pipeline and ColumnTransformer style (default) */\n",
       "\n",
       "#sk-container-id-3 div.sk-toggleable {\n",
       "  /* Default theme specific background. It is overwritten whether we have a\n",
       "  specific estimator or a Pipeline/ColumnTransformer */\n",
       "  background-color: var(--sklearn-color-background);\n",
       "}\n",
       "\n",
       "/* Toggleable label */\n",
       "#sk-container-id-3 label.sk-toggleable__label {\n",
       "  cursor: pointer;\n",
       "  display: block;\n",
       "  width: 100%;\n",
       "  margin-bottom: 0;\n",
       "  padding: 0.5em;\n",
       "  box-sizing: border-box;\n",
       "  text-align: center;\n",
       "}\n",
       "\n",
       "#sk-container-id-3 label.sk-toggleable__label-arrow:before {\n",
       "  /* Arrow on the left of the label */\n",
       "  content: \"▸\";\n",
       "  float: left;\n",
       "  margin-right: 0.25em;\n",
       "  color: var(--sklearn-color-icon);\n",
       "}\n",
       "\n",
       "#sk-container-id-3 label.sk-toggleable__label-arrow:hover:before {\n",
       "  color: var(--sklearn-color-text);\n",
       "}\n",
       "\n",
       "/* Toggleable content - dropdown */\n",
       "\n",
       "#sk-container-id-3 div.sk-toggleable__content {\n",
       "  max-height: 0;\n",
       "  max-width: 0;\n",
       "  overflow: hidden;\n",
       "  text-align: left;\n",
       "  /* unfitted */\n",
       "  background-color: var(--sklearn-color-unfitted-level-0);\n",
       "}\n",
       "\n",
       "#sk-container-id-3 div.sk-toggleable__content.fitted {\n",
       "  /* fitted */\n",
       "  background-color: var(--sklearn-color-fitted-level-0);\n",
       "}\n",
       "\n",
       "#sk-container-id-3 div.sk-toggleable__content pre {\n",
       "  margin: 0.2em;\n",
       "  border-radius: 0.25em;\n",
       "  color: var(--sklearn-color-text);\n",
       "  /* unfitted */\n",
       "  background-color: var(--sklearn-color-unfitted-level-0);\n",
       "}\n",
       "\n",
       "#sk-container-id-3 div.sk-toggleable__content.fitted pre {\n",
       "  /* unfitted */\n",
       "  background-color: var(--sklearn-color-fitted-level-0);\n",
       "}\n",
       "\n",
       "#sk-container-id-3 input.sk-toggleable__control:checked~div.sk-toggleable__content {\n",
       "  /* Expand drop-down */\n",
       "  max-height: 200px;\n",
       "  max-width: 100%;\n",
       "  overflow: auto;\n",
       "}\n",
       "\n",
       "#sk-container-id-3 input.sk-toggleable__control:checked~label.sk-toggleable__label-arrow:before {\n",
       "  content: \"▾\";\n",
       "}\n",
       "\n",
       "/* Pipeline/ColumnTransformer-specific style */\n",
       "\n",
       "#sk-container-id-3 div.sk-label input.sk-toggleable__control:checked~label.sk-toggleable__label {\n",
       "  color: var(--sklearn-color-text);\n",
       "  background-color: var(--sklearn-color-unfitted-level-2);\n",
       "}\n",
       "\n",
       "#sk-container-id-3 div.sk-label.fitted input.sk-toggleable__control:checked~label.sk-toggleable__label {\n",
       "  background-color: var(--sklearn-color-fitted-level-2);\n",
       "}\n",
       "\n",
       "/* Estimator-specific style */\n",
       "\n",
       "/* Colorize estimator box */\n",
       "#sk-container-id-3 div.sk-estimator input.sk-toggleable__control:checked~label.sk-toggleable__label {\n",
       "  /* unfitted */\n",
       "  background-color: var(--sklearn-color-unfitted-level-2);\n",
       "}\n",
       "\n",
       "#sk-container-id-3 div.sk-estimator.fitted input.sk-toggleable__control:checked~label.sk-toggleable__label {\n",
       "  /* fitted */\n",
       "  background-color: var(--sklearn-color-fitted-level-2);\n",
       "}\n",
       "\n",
       "#sk-container-id-3 div.sk-label label.sk-toggleable__label,\n",
       "#sk-container-id-3 div.sk-label label {\n",
       "  /* The background is the default theme color */\n",
       "  color: var(--sklearn-color-text-on-default-background);\n",
       "}\n",
       "\n",
       "/* On hover, darken the color of the background */\n",
       "#sk-container-id-3 div.sk-label:hover label.sk-toggleable__label {\n",
       "  color: var(--sklearn-color-text);\n",
       "  background-color: var(--sklearn-color-unfitted-level-2);\n",
       "}\n",
       "\n",
       "/* Label box, darken color on hover, fitted */\n",
       "#sk-container-id-3 div.sk-label.fitted:hover label.sk-toggleable__label.fitted {\n",
       "  color: var(--sklearn-color-text);\n",
       "  background-color: var(--sklearn-color-fitted-level-2);\n",
       "}\n",
       "\n",
       "/* Estimator label */\n",
       "\n",
       "#sk-container-id-3 div.sk-label label {\n",
       "  font-family: monospace;\n",
       "  font-weight: bold;\n",
       "  display: inline-block;\n",
       "  line-height: 1.2em;\n",
       "}\n",
       "\n",
       "#sk-container-id-3 div.sk-label-container {\n",
       "  text-align: center;\n",
       "}\n",
       "\n",
       "/* Estimator-specific */\n",
       "#sk-container-id-3 div.sk-estimator {\n",
       "  font-family: monospace;\n",
       "  border: 1px dotted var(--sklearn-color-border-box);\n",
       "  border-radius: 0.25em;\n",
       "  box-sizing: border-box;\n",
       "  margin-bottom: 0.5em;\n",
       "  /* unfitted */\n",
       "  background-color: var(--sklearn-color-unfitted-level-0);\n",
       "}\n",
       "\n",
       "#sk-container-id-3 div.sk-estimator.fitted {\n",
       "  /* fitted */\n",
       "  background-color: var(--sklearn-color-fitted-level-0);\n",
       "}\n",
       "\n",
       "/* on hover */\n",
       "#sk-container-id-3 div.sk-estimator:hover {\n",
       "  /* unfitted */\n",
       "  background-color: var(--sklearn-color-unfitted-level-2);\n",
       "}\n",
       "\n",
       "#sk-container-id-3 div.sk-estimator.fitted:hover {\n",
       "  /* fitted */\n",
       "  background-color: var(--sklearn-color-fitted-level-2);\n",
       "}\n",
       "\n",
       "/* Specification for estimator info (e.g. \"i\" and \"?\") */\n",
       "\n",
       "/* Common style for \"i\" and \"?\" */\n",
       "\n",
       ".sk-estimator-doc-link,\n",
       "a:link.sk-estimator-doc-link,\n",
       "a:visited.sk-estimator-doc-link {\n",
       "  float: right;\n",
       "  font-size: smaller;\n",
       "  line-height: 1em;\n",
       "  font-family: monospace;\n",
       "  background-color: var(--sklearn-color-background);\n",
       "  border-radius: 1em;\n",
       "  height: 1em;\n",
       "  width: 1em;\n",
       "  text-decoration: none !important;\n",
       "  margin-left: 1ex;\n",
       "  /* unfitted */\n",
       "  border: var(--sklearn-color-unfitted-level-1) 1pt solid;\n",
       "  color: var(--sklearn-color-unfitted-level-1);\n",
       "}\n",
       "\n",
       ".sk-estimator-doc-link.fitted,\n",
       "a:link.sk-estimator-doc-link.fitted,\n",
       "a:visited.sk-estimator-doc-link.fitted {\n",
       "  /* fitted */\n",
       "  border: var(--sklearn-color-fitted-level-1) 1pt solid;\n",
       "  color: var(--sklearn-color-fitted-level-1);\n",
       "}\n",
       "\n",
       "/* On hover */\n",
       "div.sk-estimator:hover .sk-estimator-doc-link:hover,\n",
       ".sk-estimator-doc-link:hover,\n",
       "div.sk-label-container:hover .sk-estimator-doc-link:hover,\n",
       ".sk-estimator-doc-link:hover {\n",
       "  /* unfitted */\n",
       "  background-color: var(--sklearn-color-unfitted-level-3);\n",
       "  color: var(--sklearn-color-background);\n",
       "  text-decoration: none;\n",
       "}\n",
       "\n",
       "div.sk-estimator.fitted:hover .sk-estimator-doc-link.fitted:hover,\n",
       ".sk-estimator-doc-link.fitted:hover,\n",
       "div.sk-label-container:hover .sk-estimator-doc-link.fitted:hover,\n",
       ".sk-estimator-doc-link.fitted:hover {\n",
       "  /* fitted */\n",
       "  background-color: var(--sklearn-color-fitted-level-3);\n",
       "  color: var(--sklearn-color-background);\n",
       "  text-decoration: none;\n",
       "}\n",
       "\n",
       "/* Span, style for the box shown on hovering the info icon */\n",
       ".sk-estimator-doc-link span {\n",
       "  display: none;\n",
       "  z-index: 9999;\n",
       "  position: relative;\n",
       "  font-weight: normal;\n",
       "  right: .2ex;\n",
       "  padding: .5ex;\n",
       "  margin: .5ex;\n",
       "  width: min-content;\n",
       "  min-width: 20ex;\n",
       "  max-width: 50ex;\n",
       "  color: var(--sklearn-color-text);\n",
       "  box-shadow: 2pt 2pt 4pt #999;\n",
       "  /* unfitted */\n",
       "  background: var(--sklearn-color-unfitted-level-0);\n",
       "  border: .5pt solid var(--sklearn-color-unfitted-level-3);\n",
       "}\n",
       "\n",
       ".sk-estimator-doc-link.fitted span {\n",
       "  /* fitted */\n",
       "  background: var(--sklearn-color-fitted-level-0);\n",
       "  border: var(--sklearn-color-fitted-level-3);\n",
       "}\n",
       "\n",
       ".sk-estimator-doc-link:hover span {\n",
       "  display: block;\n",
       "}\n",
       "\n",
       "/* \"?\"-specific style due to the `<a>` HTML tag */\n",
       "\n",
       "#sk-container-id-3 a.estimator_doc_link {\n",
       "  float: right;\n",
       "  font-size: 1rem;\n",
       "  line-height: 1em;\n",
       "  font-family: monospace;\n",
       "  background-color: var(--sklearn-color-background);\n",
       "  border-radius: 1rem;\n",
       "  height: 1rem;\n",
       "  width: 1rem;\n",
       "  text-decoration: none;\n",
       "  /* unfitted */\n",
       "  color: var(--sklearn-color-unfitted-level-1);\n",
       "  border: var(--sklearn-color-unfitted-level-1) 1pt solid;\n",
       "}\n",
       "\n",
       "#sk-container-id-3 a.estimator_doc_link.fitted {\n",
       "  /* fitted */\n",
       "  border: var(--sklearn-color-fitted-level-1) 1pt solid;\n",
       "  color: var(--sklearn-color-fitted-level-1);\n",
       "}\n",
       "\n",
       "/* On hover */\n",
       "#sk-container-id-3 a.estimator_doc_link:hover {\n",
       "  /* unfitted */\n",
       "  background-color: var(--sklearn-color-unfitted-level-3);\n",
       "  color: var(--sklearn-color-background);\n",
       "  text-decoration: none;\n",
       "}\n",
       "\n",
       "#sk-container-id-3 a.estimator_doc_link.fitted:hover {\n",
       "  /* fitted */\n",
       "  background-color: var(--sklearn-color-fitted-level-3);\n",
       "}\n",
       "</style><div id=\"sk-container-id-3\" class=\"sk-top-container\"><div class=\"sk-text-repr-fallback\"><pre>RandomizedSearchCV(cv=5,\n",
       "                   estimator=Pipeline(steps=[(&#x27;preprocessor&#x27;,\n",
       "                                              ColumnTransformer(remainder=&#x27;passthrough&#x27;,\n",
       "                                                                transformers=[(&#x27;num&#x27;,\n",
       "                                                                               MinMaxScaler(),\n",
       "                                                                               Index([&#x27;active_days&#x27;, &#x27;quantity&#x27;, &#x27;quantity_mean&#x27;, &#x27;cost_v&#x27;, &#x27;ratio_cat_1&#x27;,\n",
       "       &#x27;ratio_cat_2&#x27;, &#x27;ratio_cost&#x27;, &#x27;ratio_num&#x27;, &#x27;rat_ev_neu&#x27;, &#x27;rat_chan&#x27;],\n",
       "      dtype=&#x27;object&#x27;))])),\n",
       "                                             (&#x27;models&#x27;,\n",
       "                                              DecisionTreeClassifier(random_state=42))]...\n",
       "                                         &#x27;models__max_depth&#x27;: range(2, 100),\n",
       "                                         &#x27;models__max_features&#x27;: range(2, 100),\n",
       "                                         &#x27;models__min_samples_leaf&#x27;: range(1, 50),\n",
       "                                         &#x27;preprocessor__num&#x27;: [StandardScaler(),\n",
       "                                                               MinMaxScaler(),\n",
       "                                                               &#x27;passthrough&#x27;]},\n",
       "                                        {&#x27;models&#x27;: [LGBMClassifier(learning_rate=0.3,\n",
       "                                                                   n_estimators=200,\n",
       "                                                                   random_state=42)],\n",
       "                                         &#x27;models__max_depth&#x27;: range(2, 100),\n",
       "                                         &#x27;models__min_child_samples&#x27;: range(2, 100)}],\n",
       "                   random_state=42, scoring=&#x27;roc_auc&#x27;)</pre><b>In a Jupyter environment, please rerun this cell to show the HTML representation or trust the notebook. <br />On GitHub, the HTML representation is unable to render, please try loading this page with nbviewer.org.</b></div><div class=\"sk-container\" hidden><div class=\"sk-item sk-dashed-wrapped\"><div class=\"sk-label-container\"><div class=\"sk-label fitted sk-toggleable\"><input class=\"sk-toggleable__control sk-hidden--visually\" id=\"sk-estimator-id-16\" type=\"checkbox\" ><label for=\"sk-estimator-id-16\" class=\"sk-toggleable__label fitted sk-toggleable__label-arrow fitted\">&nbsp;&nbsp;RandomizedSearchCV<a class=\"sk-estimator-doc-link fitted\" rel=\"noreferrer\" target=\"_blank\" href=\"https://scikit-learn.org/1.4/modules/generated/sklearn.model_selection.RandomizedSearchCV.html\">?<span>Documentation for RandomizedSearchCV</span></a><span class=\"sk-estimator-doc-link fitted\">i<span>Fitted</span></span></label><div class=\"sk-toggleable__content fitted\"><pre>RandomizedSearchCV(cv=5,\n",
       "                   estimator=Pipeline(steps=[(&#x27;preprocessor&#x27;,\n",
       "                                              ColumnTransformer(remainder=&#x27;passthrough&#x27;,\n",
       "                                                                transformers=[(&#x27;num&#x27;,\n",
       "                                                                               MinMaxScaler(),\n",
       "                                                                               Index([&#x27;active_days&#x27;, &#x27;quantity&#x27;, &#x27;quantity_mean&#x27;, &#x27;cost_v&#x27;, &#x27;ratio_cat_1&#x27;,\n",
       "       &#x27;ratio_cat_2&#x27;, &#x27;ratio_cost&#x27;, &#x27;ratio_num&#x27;, &#x27;rat_ev_neu&#x27;, &#x27;rat_chan&#x27;],\n",
       "      dtype=&#x27;object&#x27;))])),\n",
       "                                             (&#x27;models&#x27;,\n",
       "                                              DecisionTreeClassifier(random_state=42))]...\n",
       "                                         &#x27;models__max_depth&#x27;: range(2, 100),\n",
       "                                         &#x27;models__max_features&#x27;: range(2, 100),\n",
       "                                         &#x27;models__min_samples_leaf&#x27;: range(1, 50),\n",
       "                                         &#x27;preprocessor__num&#x27;: [StandardScaler(),\n",
       "                                                               MinMaxScaler(),\n",
       "                                                               &#x27;passthrough&#x27;]},\n",
       "                                        {&#x27;models&#x27;: [LGBMClassifier(learning_rate=0.3,\n",
       "                                                                   n_estimators=200,\n",
       "                                                                   random_state=42)],\n",
       "                                         &#x27;models__max_depth&#x27;: range(2, 100),\n",
       "                                         &#x27;models__min_child_samples&#x27;: range(2, 100)}],\n",
       "                   random_state=42, scoring=&#x27;roc_auc&#x27;)</pre></div> </div></div><div class=\"sk-parallel\"><div class=\"sk-parallel-item\"><div class=\"sk-item\"><div class=\"sk-label-container\"><div class=\"sk-label fitted sk-toggleable\"><input class=\"sk-toggleable__control sk-hidden--visually\" id=\"sk-estimator-id-17\" type=\"checkbox\" ><label for=\"sk-estimator-id-17\" class=\"sk-toggleable__label fitted sk-toggleable__label-arrow fitted\">estimator: Pipeline</label><div class=\"sk-toggleable__content fitted\"><pre>Pipeline(steps=[(&#x27;preprocessor&#x27;,\n",
       "                 ColumnTransformer(remainder=&#x27;passthrough&#x27;,\n",
       "                                   transformers=[(&#x27;num&#x27;, MinMaxScaler(),\n",
       "                                                  Index([&#x27;active_days&#x27;, &#x27;quantity&#x27;, &#x27;quantity_mean&#x27;, &#x27;cost_v&#x27;, &#x27;ratio_cat_1&#x27;,\n",
       "       &#x27;ratio_cat_2&#x27;, &#x27;ratio_cost&#x27;, &#x27;ratio_num&#x27;, &#x27;rat_ev_neu&#x27;, &#x27;rat_chan&#x27;],\n",
       "      dtype=&#x27;object&#x27;))])),\n",
       "                (&#x27;models&#x27;, DecisionTreeClassifier(random_state=42))])</pre></div> </div></div><div class=\"sk-serial\"><div class=\"sk-item\"><div class=\"sk-serial\"><div class=\"sk-item sk-dashed-wrapped\"><div class=\"sk-label-container\"><div class=\"sk-label fitted sk-toggleable\"><input class=\"sk-toggleable__control sk-hidden--visually\" id=\"sk-estimator-id-18\" type=\"checkbox\" ><label for=\"sk-estimator-id-18\" class=\"sk-toggleable__label fitted sk-toggleable__label-arrow fitted\">&nbsp;preprocessor: ColumnTransformer<a class=\"sk-estimator-doc-link fitted\" rel=\"noreferrer\" target=\"_blank\" href=\"https://scikit-learn.org/1.4/modules/generated/sklearn.compose.ColumnTransformer.html\">?<span>Documentation for preprocessor: ColumnTransformer</span></a></label><div class=\"sk-toggleable__content fitted\"><pre>ColumnTransformer(remainder=&#x27;passthrough&#x27;,\n",
       "                  transformers=[(&#x27;num&#x27;, MinMaxScaler(),\n",
       "                                 Index([&#x27;active_days&#x27;, &#x27;quantity&#x27;, &#x27;quantity_mean&#x27;, &#x27;cost_v&#x27;, &#x27;ratio_cat_1&#x27;,\n",
       "       &#x27;ratio_cat_2&#x27;, &#x27;ratio_cost&#x27;, &#x27;ratio_num&#x27;, &#x27;rat_ev_neu&#x27;, &#x27;rat_chan&#x27;],\n",
       "      dtype=&#x27;object&#x27;))])</pre></div> </div></div><div class=\"sk-parallel\"><div class=\"sk-parallel-item\"><div class=\"sk-item\"><div class=\"sk-label-container\"><div class=\"sk-label fitted sk-toggleable\"><input class=\"sk-toggleable__control sk-hidden--visually\" id=\"sk-estimator-id-19\" type=\"checkbox\" ><label for=\"sk-estimator-id-19\" class=\"sk-toggleable__label fitted sk-toggleable__label-arrow fitted\">num</label><div class=\"sk-toggleable__content fitted\"><pre>Index([&#x27;active_days&#x27;, &#x27;quantity&#x27;, &#x27;quantity_mean&#x27;, &#x27;cost_v&#x27;, &#x27;ratio_cat_1&#x27;,\n",
       "       &#x27;ratio_cat_2&#x27;, &#x27;ratio_cost&#x27;, &#x27;ratio_num&#x27;, &#x27;rat_ev_neu&#x27;, &#x27;rat_chan&#x27;],\n",
       "      dtype=&#x27;object&#x27;)</pre></div> </div></div><div class=\"sk-serial\"><div class=\"sk-item\"><div class=\"sk-estimator fitted sk-toggleable\"><input class=\"sk-toggleable__control sk-hidden--visually\" id=\"sk-estimator-id-20\" type=\"checkbox\" ><label for=\"sk-estimator-id-20\" class=\"sk-toggleable__label fitted sk-toggleable__label-arrow fitted\">&nbsp;MinMaxScaler<a class=\"sk-estimator-doc-link fitted\" rel=\"noreferrer\" target=\"_blank\" href=\"https://scikit-learn.org/1.4/modules/generated/sklearn.preprocessing.MinMaxScaler.html\">?<span>Documentation for MinMaxScaler</span></a></label><div class=\"sk-toggleable__content fitted\"><pre>MinMaxScaler()</pre></div> </div></div></div></div></div><div class=\"sk-parallel-item\"><div class=\"sk-item\"><div class=\"sk-label-container\"><div class=\"sk-label fitted sk-toggleable\"><input class=\"sk-toggleable__control sk-hidden--visually\" id=\"sk-estimator-id-21\" type=\"checkbox\" ><label for=\"sk-estimator-id-21\" class=\"sk-toggleable__label fitted sk-toggleable__label-arrow fitted\">remainder</label><div class=\"sk-toggleable__content fitted\"><pre></pre></div> </div></div><div class=\"sk-serial\"><div class=\"sk-item\"><div class=\"sk-estimator fitted sk-toggleable\"><input class=\"sk-toggleable__control sk-hidden--visually\" id=\"sk-estimator-id-22\" type=\"checkbox\" ><label for=\"sk-estimator-id-22\" class=\"sk-toggleable__label fitted sk-toggleable__label-arrow fitted\">passthrough</label><div class=\"sk-toggleable__content fitted\"><pre>passthrough</pre></div> </div></div></div></div></div></div></div><div class=\"sk-item\"><div class=\"sk-estimator fitted sk-toggleable\"><input class=\"sk-toggleable__control sk-hidden--visually\" id=\"sk-estimator-id-23\" type=\"checkbox\" ><label for=\"sk-estimator-id-23\" class=\"sk-toggleable__label fitted sk-toggleable__label-arrow fitted\">&nbsp;DecisionTreeClassifier<a class=\"sk-estimator-doc-link fitted\" rel=\"noreferrer\" target=\"_blank\" href=\"https://scikit-learn.org/1.4/modules/generated/sklearn.tree.DecisionTreeClassifier.html\">?<span>Documentation for DecisionTreeClassifier</span></a></label><div class=\"sk-toggleable__content fitted\"><pre>DecisionTreeClassifier(random_state=42)</pre></div> </div></div></div></div></div></div></div></div></div></div></div>"
      ],
      "text/plain": [
       "RandomizedSearchCV(cv=5,\n",
       "                   estimator=Pipeline(steps=[('preprocessor',\n",
       "                                              ColumnTransformer(remainder='passthrough',\n",
       "                                                                transformers=[('num',\n",
       "                                                                               MinMaxScaler(),\n",
       "                                                                               Index(['active_days', 'quantity', 'quantity_mean', 'cost_v', 'ratio_cat_1',\n",
       "       'ratio_cat_2', 'ratio_cost', 'ratio_num', 'rat_ev_neu', 'rat_chan'],\n",
       "      dtype='object'))])),\n",
       "                                             ('models',\n",
       "                                              DecisionTreeClassifier(random_state=42))]...\n",
       "                                         'models__max_depth': range(2, 100),\n",
       "                                         'models__max_features': range(2, 100),\n",
       "                                         'models__min_samples_leaf': range(1, 50),\n",
       "                                         'preprocessor__num': [StandardScaler(),\n",
       "                                                               MinMaxScaler(),\n",
       "                                                               'passthrough']},\n",
       "                                        {'models': [LGBMClassifier(learning_rate=0.3,\n",
       "                                                                   n_estimators=200,\n",
       "                                                                   random_state=42)],\n",
       "                                         'models__max_depth': range(2, 100),\n",
       "                                         'models__min_child_samples': range(2, 100)}],\n",
       "                   random_state=42, scoring='roc_auc')"
      ]
     },
     "execution_count": 195,
     "metadata": {},
     "output_type": "execute_result"
    }
   ],
   "source": [
    "randomized_search_.fit(X_train_new, y_train)"
   ]
  },
  {
   "cell_type": "code",
   "execution_count": 196,
   "id": "00dff72e-5729-4c67-a532-1e1bdff1ce81",
   "metadata": {
    "scrolled": true
   },
   "outputs": [
    {
     "data": {
      "text/html": [
       "<style>#sk-container-id-4 {\n",
       "  /* Definition of color scheme common for light and dark mode */\n",
       "  --sklearn-color-text: black;\n",
       "  --sklearn-color-line: gray;\n",
       "  /* Definition of color scheme for unfitted estimators */\n",
       "  --sklearn-color-unfitted-level-0: #fff5e6;\n",
       "  --sklearn-color-unfitted-level-1: #f6e4d2;\n",
       "  --sklearn-color-unfitted-level-2: #ffe0b3;\n",
       "  --sklearn-color-unfitted-level-3: chocolate;\n",
       "  /* Definition of color scheme for fitted estimators */\n",
       "  --sklearn-color-fitted-level-0: #f0f8ff;\n",
       "  --sklearn-color-fitted-level-1: #d4ebff;\n",
       "  --sklearn-color-fitted-level-2: #b3dbfd;\n",
       "  --sklearn-color-fitted-level-3: cornflowerblue;\n",
       "\n",
       "  /* Specific color for light theme */\n",
       "  --sklearn-color-text-on-default-background: var(--sg-text-color, var(--theme-code-foreground, var(--jp-content-font-color1, black)));\n",
       "  --sklearn-color-background: var(--sg-background-color, var(--theme-background, var(--jp-layout-color0, white)));\n",
       "  --sklearn-color-border-box: var(--sg-text-color, var(--theme-code-foreground, var(--jp-content-font-color1, black)));\n",
       "  --sklearn-color-icon: #696969;\n",
       "\n",
       "  @media (prefers-color-scheme: dark) {\n",
       "    /* Redefinition of color scheme for dark theme */\n",
       "    --sklearn-color-text-on-default-background: var(--sg-text-color, var(--theme-code-foreground, var(--jp-content-font-color1, white)));\n",
       "    --sklearn-color-background: var(--sg-background-color, var(--theme-background, var(--jp-layout-color0, #111)));\n",
       "    --sklearn-color-border-box: var(--sg-text-color, var(--theme-code-foreground, var(--jp-content-font-color1, white)));\n",
       "    --sklearn-color-icon: #878787;\n",
       "  }\n",
       "}\n",
       "\n",
       "#sk-container-id-4 {\n",
       "  color: var(--sklearn-color-text);\n",
       "}\n",
       "\n",
       "#sk-container-id-4 pre {\n",
       "  padding: 0;\n",
       "}\n",
       "\n",
       "#sk-container-id-4 input.sk-hidden--visually {\n",
       "  border: 0;\n",
       "  clip: rect(1px 1px 1px 1px);\n",
       "  clip: rect(1px, 1px, 1px, 1px);\n",
       "  height: 1px;\n",
       "  margin: -1px;\n",
       "  overflow: hidden;\n",
       "  padding: 0;\n",
       "  position: absolute;\n",
       "  width: 1px;\n",
       "}\n",
       "\n",
       "#sk-container-id-4 div.sk-dashed-wrapped {\n",
       "  border: 1px dashed var(--sklearn-color-line);\n",
       "  margin: 0 0.4em 0.5em 0.4em;\n",
       "  box-sizing: border-box;\n",
       "  padding-bottom: 0.4em;\n",
       "  background-color: var(--sklearn-color-background);\n",
       "}\n",
       "\n",
       "#sk-container-id-4 div.sk-container {\n",
       "  /* jupyter's `normalize.less` sets `[hidden] { display: none; }`\n",
       "     but bootstrap.min.css set `[hidden] { display: none !important; }`\n",
       "     so we also need the `!important` here to be able to override the\n",
       "     default hidden behavior on the sphinx rendered scikit-learn.org.\n",
       "     See: https://github.com/scikit-learn/scikit-learn/issues/21755 */\n",
       "  display: inline-block !important;\n",
       "  position: relative;\n",
       "}\n",
       "\n",
       "#sk-container-id-4 div.sk-text-repr-fallback {\n",
       "  display: none;\n",
       "}\n",
       "\n",
       "div.sk-parallel-item,\n",
       "div.sk-serial,\n",
       "div.sk-item {\n",
       "  /* draw centered vertical line to link estimators */\n",
       "  background-image: linear-gradient(var(--sklearn-color-text-on-default-background), var(--sklearn-color-text-on-default-background));\n",
       "  background-size: 2px 100%;\n",
       "  background-repeat: no-repeat;\n",
       "  background-position: center center;\n",
       "}\n",
       "\n",
       "/* Parallel-specific style estimator block */\n",
       "\n",
       "#sk-container-id-4 div.sk-parallel-item::after {\n",
       "  content: \"\";\n",
       "  width: 100%;\n",
       "  border-bottom: 2px solid var(--sklearn-color-text-on-default-background);\n",
       "  flex-grow: 1;\n",
       "}\n",
       "\n",
       "#sk-container-id-4 div.sk-parallel {\n",
       "  display: flex;\n",
       "  align-items: stretch;\n",
       "  justify-content: center;\n",
       "  background-color: var(--sklearn-color-background);\n",
       "  position: relative;\n",
       "}\n",
       "\n",
       "#sk-container-id-4 div.sk-parallel-item {\n",
       "  display: flex;\n",
       "  flex-direction: column;\n",
       "}\n",
       "\n",
       "#sk-container-id-4 div.sk-parallel-item:first-child::after {\n",
       "  align-self: flex-end;\n",
       "  width: 50%;\n",
       "}\n",
       "\n",
       "#sk-container-id-4 div.sk-parallel-item:last-child::after {\n",
       "  align-self: flex-start;\n",
       "  width: 50%;\n",
       "}\n",
       "\n",
       "#sk-container-id-4 div.sk-parallel-item:only-child::after {\n",
       "  width: 0;\n",
       "}\n",
       "\n",
       "/* Serial-specific style estimator block */\n",
       "\n",
       "#sk-container-id-4 div.sk-serial {\n",
       "  display: flex;\n",
       "  flex-direction: column;\n",
       "  align-items: center;\n",
       "  background-color: var(--sklearn-color-background);\n",
       "  padding-right: 1em;\n",
       "  padding-left: 1em;\n",
       "}\n",
       "\n",
       "\n",
       "/* Toggleable style: style used for estimator/Pipeline/ColumnTransformer box that is\n",
       "clickable and can be expanded/collapsed.\n",
       "- Pipeline and ColumnTransformer use this feature and define the default style\n",
       "- Estimators will overwrite some part of the style using the `sk-estimator` class\n",
       "*/\n",
       "\n",
       "/* Pipeline and ColumnTransformer style (default) */\n",
       "\n",
       "#sk-container-id-4 div.sk-toggleable {\n",
       "  /* Default theme specific background. It is overwritten whether we have a\n",
       "  specific estimator or a Pipeline/ColumnTransformer */\n",
       "  background-color: var(--sklearn-color-background);\n",
       "}\n",
       "\n",
       "/* Toggleable label */\n",
       "#sk-container-id-4 label.sk-toggleable__label {\n",
       "  cursor: pointer;\n",
       "  display: block;\n",
       "  width: 100%;\n",
       "  margin-bottom: 0;\n",
       "  padding: 0.5em;\n",
       "  box-sizing: border-box;\n",
       "  text-align: center;\n",
       "}\n",
       "\n",
       "#sk-container-id-4 label.sk-toggleable__label-arrow:before {\n",
       "  /* Arrow on the left of the label */\n",
       "  content: \"▸\";\n",
       "  float: left;\n",
       "  margin-right: 0.25em;\n",
       "  color: var(--sklearn-color-icon);\n",
       "}\n",
       "\n",
       "#sk-container-id-4 label.sk-toggleable__label-arrow:hover:before {\n",
       "  color: var(--sklearn-color-text);\n",
       "}\n",
       "\n",
       "/* Toggleable content - dropdown */\n",
       "\n",
       "#sk-container-id-4 div.sk-toggleable__content {\n",
       "  max-height: 0;\n",
       "  max-width: 0;\n",
       "  overflow: hidden;\n",
       "  text-align: left;\n",
       "  /* unfitted */\n",
       "  background-color: var(--sklearn-color-unfitted-level-0);\n",
       "}\n",
       "\n",
       "#sk-container-id-4 div.sk-toggleable__content.fitted {\n",
       "  /* fitted */\n",
       "  background-color: var(--sklearn-color-fitted-level-0);\n",
       "}\n",
       "\n",
       "#sk-container-id-4 div.sk-toggleable__content pre {\n",
       "  margin: 0.2em;\n",
       "  border-radius: 0.25em;\n",
       "  color: var(--sklearn-color-text);\n",
       "  /* unfitted */\n",
       "  background-color: var(--sklearn-color-unfitted-level-0);\n",
       "}\n",
       "\n",
       "#sk-container-id-4 div.sk-toggleable__content.fitted pre {\n",
       "  /* unfitted */\n",
       "  background-color: var(--sklearn-color-fitted-level-0);\n",
       "}\n",
       "\n",
       "#sk-container-id-4 input.sk-toggleable__control:checked~div.sk-toggleable__content {\n",
       "  /* Expand drop-down */\n",
       "  max-height: 200px;\n",
       "  max-width: 100%;\n",
       "  overflow: auto;\n",
       "}\n",
       "\n",
       "#sk-container-id-4 input.sk-toggleable__control:checked~label.sk-toggleable__label-arrow:before {\n",
       "  content: \"▾\";\n",
       "}\n",
       "\n",
       "/* Pipeline/ColumnTransformer-specific style */\n",
       "\n",
       "#sk-container-id-4 div.sk-label input.sk-toggleable__control:checked~label.sk-toggleable__label {\n",
       "  color: var(--sklearn-color-text);\n",
       "  background-color: var(--sklearn-color-unfitted-level-2);\n",
       "}\n",
       "\n",
       "#sk-container-id-4 div.sk-label.fitted input.sk-toggleable__control:checked~label.sk-toggleable__label {\n",
       "  background-color: var(--sklearn-color-fitted-level-2);\n",
       "}\n",
       "\n",
       "/* Estimator-specific style */\n",
       "\n",
       "/* Colorize estimator box */\n",
       "#sk-container-id-4 div.sk-estimator input.sk-toggleable__control:checked~label.sk-toggleable__label {\n",
       "  /* unfitted */\n",
       "  background-color: var(--sklearn-color-unfitted-level-2);\n",
       "}\n",
       "\n",
       "#sk-container-id-4 div.sk-estimator.fitted input.sk-toggleable__control:checked~label.sk-toggleable__label {\n",
       "  /* fitted */\n",
       "  background-color: var(--sklearn-color-fitted-level-2);\n",
       "}\n",
       "\n",
       "#sk-container-id-4 div.sk-label label.sk-toggleable__label,\n",
       "#sk-container-id-4 div.sk-label label {\n",
       "  /* The background is the default theme color */\n",
       "  color: var(--sklearn-color-text-on-default-background);\n",
       "}\n",
       "\n",
       "/* On hover, darken the color of the background */\n",
       "#sk-container-id-4 div.sk-label:hover label.sk-toggleable__label {\n",
       "  color: var(--sklearn-color-text);\n",
       "  background-color: var(--sklearn-color-unfitted-level-2);\n",
       "}\n",
       "\n",
       "/* Label box, darken color on hover, fitted */\n",
       "#sk-container-id-4 div.sk-label.fitted:hover label.sk-toggleable__label.fitted {\n",
       "  color: var(--sklearn-color-text);\n",
       "  background-color: var(--sklearn-color-fitted-level-2);\n",
       "}\n",
       "\n",
       "/* Estimator label */\n",
       "\n",
       "#sk-container-id-4 div.sk-label label {\n",
       "  font-family: monospace;\n",
       "  font-weight: bold;\n",
       "  display: inline-block;\n",
       "  line-height: 1.2em;\n",
       "}\n",
       "\n",
       "#sk-container-id-4 div.sk-label-container {\n",
       "  text-align: center;\n",
       "}\n",
       "\n",
       "/* Estimator-specific */\n",
       "#sk-container-id-4 div.sk-estimator {\n",
       "  font-family: monospace;\n",
       "  border: 1px dotted var(--sklearn-color-border-box);\n",
       "  border-radius: 0.25em;\n",
       "  box-sizing: border-box;\n",
       "  margin-bottom: 0.5em;\n",
       "  /* unfitted */\n",
       "  background-color: var(--sklearn-color-unfitted-level-0);\n",
       "}\n",
       "\n",
       "#sk-container-id-4 div.sk-estimator.fitted {\n",
       "  /* fitted */\n",
       "  background-color: var(--sklearn-color-fitted-level-0);\n",
       "}\n",
       "\n",
       "/* on hover */\n",
       "#sk-container-id-4 div.sk-estimator:hover {\n",
       "  /* unfitted */\n",
       "  background-color: var(--sklearn-color-unfitted-level-2);\n",
       "}\n",
       "\n",
       "#sk-container-id-4 div.sk-estimator.fitted:hover {\n",
       "  /* fitted */\n",
       "  background-color: var(--sklearn-color-fitted-level-2);\n",
       "}\n",
       "\n",
       "/* Specification for estimator info (e.g. \"i\" and \"?\") */\n",
       "\n",
       "/* Common style for \"i\" and \"?\" */\n",
       "\n",
       ".sk-estimator-doc-link,\n",
       "a:link.sk-estimator-doc-link,\n",
       "a:visited.sk-estimator-doc-link {\n",
       "  float: right;\n",
       "  font-size: smaller;\n",
       "  line-height: 1em;\n",
       "  font-family: monospace;\n",
       "  background-color: var(--sklearn-color-background);\n",
       "  border-radius: 1em;\n",
       "  height: 1em;\n",
       "  width: 1em;\n",
       "  text-decoration: none !important;\n",
       "  margin-left: 1ex;\n",
       "  /* unfitted */\n",
       "  border: var(--sklearn-color-unfitted-level-1) 1pt solid;\n",
       "  color: var(--sklearn-color-unfitted-level-1);\n",
       "}\n",
       "\n",
       ".sk-estimator-doc-link.fitted,\n",
       "a:link.sk-estimator-doc-link.fitted,\n",
       "a:visited.sk-estimator-doc-link.fitted {\n",
       "  /* fitted */\n",
       "  border: var(--sklearn-color-fitted-level-1) 1pt solid;\n",
       "  color: var(--sklearn-color-fitted-level-1);\n",
       "}\n",
       "\n",
       "/* On hover */\n",
       "div.sk-estimator:hover .sk-estimator-doc-link:hover,\n",
       ".sk-estimator-doc-link:hover,\n",
       "div.sk-label-container:hover .sk-estimator-doc-link:hover,\n",
       ".sk-estimator-doc-link:hover {\n",
       "  /* unfitted */\n",
       "  background-color: var(--sklearn-color-unfitted-level-3);\n",
       "  color: var(--sklearn-color-background);\n",
       "  text-decoration: none;\n",
       "}\n",
       "\n",
       "div.sk-estimator.fitted:hover .sk-estimator-doc-link.fitted:hover,\n",
       ".sk-estimator-doc-link.fitted:hover,\n",
       "div.sk-label-container:hover .sk-estimator-doc-link.fitted:hover,\n",
       ".sk-estimator-doc-link.fitted:hover {\n",
       "  /* fitted */\n",
       "  background-color: var(--sklearn-color-fitted-level-3);\n",
       "  color: var(--sklearn-color-background);\n",
       "  text-decoration: none;\n",
       "}\n",
       "\n",
       "/* Span, style for the box shown on hovering the info icon */\n",
       ".sk-estimator-doc-link span {\n",
       "  display: none;\n",
       "  z-index: 9999;\n",
       "  position: relative;\n",
       "  font-weight: normal;\n",
       "  right: .2ex;\n",
       "  padding: .5ex;\n",
       "  margin: .5ex;\n",
       "  width: min-content;\n",
       "  min-width: 20ex;\n",
       "  max-width: 50ex;\n",
       "  color: var(--sklearn-color-text);\n",
       "  box-shadow: 2pt 2pt 4pt #999;\n",
       "  /* unfitted */\n",
       "  background: var(--sklearn-color-unfitted-level-0);\n",
       "  border: .5pt solid var(--sklearn-color-unfitted-level-3);\n",
       "}\n",
       "\n",
       ".sk-estimator-doc-link.fitted span {\n",
       "  /* fitted */\n",
       "  background: var(--sklearn-color-fitted-level-0);\n",
       "  border: var(--sklearn-color-fitted-level-3);\n",
       "}\n",
       "\n",
       ".sk-estimator-doc-link:hover span {\n",
       "  display: block;\n",
       "}\n",
       "\n",
       "/* \"?\"-specific style due to the `<a>` HTML tag */\n",
       "\n",
       "#sk-container-id-4 a.estimator_doc_link {\n",
       "  float: right;\n",
       "  font-size: 1rem;\n",
       "  line-height: 1em;\n",
       "  font-family: monospace;\n",
       "  background-color: var(--sklearn-color-background);\n",
       "  border-radius: 1rem;\n",
       "  height: 1rem;\n",
       "  width: 1rem;\n",
       "  text-decoration: none;\n",
       "  /* unfitted */\n",
       "  color: var(--sklearn-color-unfitted-level-1);\n",
       "  border: var(--sklearn-color-unfitted-level-1) 1pt solid;\n",
       "}\n",
       "\n",
       "#sk-container-id-4 a.estimator_doc_link.fitted {\n",
       "  /* fitted */\n",
       "  border: var(--sklearn-color-fitted-level-1) 1pt solid;\n",
       "  color: var(--sklearn-color-fitted-level-1);\n",
       "}\n",
       "\n",
       "/* On hover */\n",
       "#sk-container-id-4 a.estimator_doc_link:hover {\n",
       "  /* unfitted */\n",
       "  background-color: var(--sklearn-color-unfitted-level-3);\n",
       "  color: var(--sklearn-color-background);\n",
       "  text-decoration: none;\n",
       "}\n",
       "\n",
       "#sk-container-id-4 a.estimator_doc_link.fitted:hover {\n",
       "  /* fitted */\n",
       "  background-color: var(--sklearn-color-fitted-level-3);\n",
       "}\n",
       "</style><div id=\"sk-container-id-4\" class=\"sk-top-container\"><div class=\"sk-text-repr-fallback\"><pre>Pipeline(steps=[(&#x27;preprocessor&#x27;,\n",
       "                 ColumnTransformer(remainder=&#x27;passthrough&#x27;,\n",
       "                                   transformers=[(&#x27;num&#x27;, MinMaxScaler(),\n",
       "                                                  Index([&#x27;active_days&#x27;, &#x27;quantity&#x27;, &#x27;quantity_mean&#x27;, &#x27;cost_v&#x27;, &#x27;ratio_cat_1&#x27;,\n",
       "       &#x27;ratio_cat_2&#x27;, &#x27;ratio_cost&#x27;, &#x27;ratio_num&#x27;, &#x27;rat_ev_neu&#x27;, &#x27;rat_chan&#x27;],\n",
       "      dtype=&#x27;object&#x27;))])),\n",
       "                (&#x27;models&#x27;,\n",
       "                 RandomForestClassifier(max_depth=51, max_features=40,\n",
       "                                        min_samples_leaf=43, n_estimators=200,\n",
       "                                        random_state=42))])</pre><b>In a Jupyter environment, please rerun this cell to show the HTML representation or trust the notebook. <br />On GitHub, the HTML representation is unable to render, please try loading this page with nbviewer.org.</b></div><div class=\"sk-container\" hidden><div class=\"sk-item sk-dashed-wrapped\"><div class=\"sk-label-container\"><div class=\"sk-label fitted sk-toggleable\"><input class=\"sk-toggleable__control sk-hidden--visually\" id=\"sk-estimator-id-24\" type=\"checkbox\" ><label for=\"sk-estimator-id-24\" class=\"sk-toggleable__label fitted sk-toggleable__label-arrow fitted\">&nbsp;&nbsp;Pipeline<a class=\"sk-estimator-doc-link fitted\" rel=\"noreferrer\" target=\"_blank\" href=\"https://scikit-learn.org/1.4/modules/generated/sklearn.pipeline.Pipeline.html\">?<span>Documentation for Pipeline</span></a><span class=\"sk-estimator-doc-link fitted\">i<span>Fitted</span></span></label><div class=\"sk-toggleable__content fitted\"><pre>Pipeline(steps=[(&#x27;preprocessor&#x27;,\n",
       "                 ColumnTransformer(remainder=&#x27;passthrough&#x27;,\n",
       "                                   transformers=[(&#x27;num&#x27;, MinMaxScaler(),\n",
       "                                                  Index([&#x27;active_days&#x27;, &#x27;quantity&#x27;, &#x27;quantity_mean&#x27;, &#x27;cost_v&#x27;, &#x27;ratio_cat_1&#x27;,\n",
       "       &#x27;ratio_cat_2&#x27;, &#x27;ratio_cost&#x27;, &#x27;ratio_num&#x27;, &#x27;rat_ev_neu&#x27;, &#x27;rat_chan&#x27;],\n",
       "      dtype=&#x27;object&#x27;))])),\n",
       "                (&#x27;models&#x27;,\n",
       "                 RandomForestClassifier(max_depth=51, max_features=40,\n",
       "                                        min_samples_leaf=43, n_estimators=200,\n",
       "                                        random_state=42))])</pre></div> </div></div><div class=\"sk-serial\"><div class=\"sk-item sk-dashed-wrapped\"><div class=\"sk-label-container\"><div class=\"sk-label fitted sk-toggleable\"><input class=\"sk-toggleable__control sk-hidden--visually\" id=\"sk-estimator-id-25\" type=\"checkbox\" ><label for=\"sk-estimator-id-25\" class=\"sk-toggleable__label fitted sk-toggleable__label-arrow fitted\">&nbsp;preprocessor: ColumnTransformer<a class=\"sk-estimator-doc-link fitted\" rel=\"noreferrer\" target=\"_blank\" href=\"https://scikit-learn.org/1.4/modules/generated/sklearn.compose.ColumnTransformer.html\">?<span>Documentation for preprocessor: ColumnTransformer</span></a></label><div class=\"sk-toggleable__content fitted\"><pre>ColumnTransformer(remainder=&#x27;passthrough&#x27;,\n",
       "                  transformers=[(&#x27;num&#x27;, MinMaxScaler(),\n",
       "                                 Index([&#x27;active_days&#x27;, &#x27;quantity&#x27;, &#x27;quantity_mean&#x27;, &#x27;cost_v&#x27;, &#x27;ratio_cat_1&#x27;,\n",
       "       &#x27;ratio_cat_2&#x27;, &#x27;ratio_cost&#x27;, &#x27;ratio_num&#x27;, &#x27;rat_ev_neu&#x27;, &#x27;rat_chan&#x27;],\n",
       "      dtype=&#x27;object&#x27;))])</pre></div> </div></div><div class=\"sk-parallel\"><div class=\"sk-parallel-item\"><div class=\"sk-item\"><div class=\"sk-label-container\"><div class=\"sk-label fitted sk-toggleable\"><input class=\"sk-toggleable__control sk-hidden--visually\" id=\"sk-estimator-id-26\" type=\"checkbox\" ><label for=\"sk-estimator-id-26\" class=\"sk-toggleable__label fitted sk-toggleable__label-arrow fitted\">num</label><div class=\"sk-toggleable__content fitted\"><pre>Index([&#x27;active_days&#x27;, &#x27;quantity&#x27;, &#x27;quantity_mean&#x27;, &#x27;cost_v&#x27;, &#x27;ratio_cat_1&#x27;,\n",
       "       &#x27;ratio_cat_2&#x27;, &#x27;ratio_cost&#x27;, &#x27;ratio_num&#x27;, &#x27;rat_ev_neu&#x27;, &#x27;rat_chan&#x27;],\n",
       "      dtype=&#x27;object&#x27;)</pre></div> </div></div><div class=\"sk-serial\"><div class=\"sk-item\"><div class=\"sk-estimator fitted sk-toggleable\"><input class=\"sk-toggleable__control sk-hidden--visually\" id=\"sk-estimator-id-27\" type=\"checkbox\" ><label for=\"sk-estimator-id-27\" class=\"sk-toggleable__label fitted sk-toggleable__label-arrow fitted\">&nbsp;MinMaxScaler<a class=\"sk-estimator-doc-link fitted\" rel=\"noreferrer\" target=\"_blank\" href=\"https://scikit-learn.org/1.4/modules/generated/sklearn.preprocessing.MinMaxScaler.html\">?<span>Documentation for MinMaxScaler</span></a></label><div class=\"sk-toggleable__content fitted\"><pre>MinMaxScaler()</pre></div> </div></div></div></div></div><div class=\"sk-parallel-item\"><div class=\"sk-item\"><div class=\"sk-label-container\"><div class=\"sk-label fitted sk-toggleable\"><input class=\"sk-toggleable__control sk-hidden--visually\" id=\"sk-estimator-id-28\" type=\"checkbox\" ><label for=\"sk-estimator-id-28\" class=\"sk-toggleable__label fitted sk-toggleable__label-arrow fitted\">remainder</label><div class=\"sk-toggleable__content fitted\"><pre>[]</pre></div> </div></div><div class=\"sk-serial\"><div class=\"sk-item\"><div class=\"sk-estimator fitted sk-toggleable\"><input class=\"sk-toggleable__control sk-hidden--visually\" id=\"sk-estimator-id-29\" type=\"checkbox\" ><label for=\"sk-estimator-id-29\" class=\"sk-toggleable__label fitted sk-toggleable__label-arrow fitted\">passthrough</label><div class=\"sk-toggleable__content fitted\"><pre>passthrough</pre></div> </div></div></div></div></div></div></div><div class=\"sk-item\"><div class=\"sk-estimator fitted sk-toggleable\"><input class=\"sk-toggleable__control sk-hidden--visually\" id=\"sk-estimator-id-30\" type=\"checkbox\" ><label for=\"sk-estimator-id-30\" class=\"sk-toggleable__label fitted sk-toggleable__label-arrow fitted\">&nbsp;RandomForestClassifier<a class=\"sk-estimator-doc-link fitted\" rel=\"noreferrer\" target=\"_blank\" href=\"https://scikit-learn.org/1.4/modules/generated/sklearn.ensemble.RandomForestClassifier.html\">?<span>Documentation for RandomForestClassifier</span></a></label><div class=\"sk-toggleable__content fitted\"><pre>RandomForestClassifier(max_depth=51, max_features=40, min_samples_leaf=43,\n",
       "                       n_estimators=200, random_state=42)</pre></div> </div></div></div></div></div></div>"
      ],
      "text/plain": [
       "Pipeline(steps=[('preprocessor',\n",
       "                 ColumnTransformer(remainder='passthrough',\n",
       "                                   transformers=[('num', MinMaxScaler(),\n",
       "                                                  Index(['active_days', 'quantity', 'quantity_mean', 'cost_v', 'ratio_cat_1',\n",
       "       'ratio_cat_2', 'ratio_cost', 'ratio_num', 'rat_ev_neu', 'rat_chan'],\n",
       "      dtype='object'))])),\n",
       "                ('models',\n",
       "                 RandomForestClassifier(max_depth=51, max_features=40,\n",
       "                                        min_samples_leaf=43, n_estimators=200,\n",
       "                                        random_state=42))])"
      ]
     },
     "execution_count": 196,
     "metadata": {},
     "output_type": "execute_result"
    }
   ],
   "source": [
    "randomized_search_.best_estimator_"
   ]
  },
  {
   "cell_type": "code",
   "execution_count": 197,
   "id": "cc314445-9f00-4aa1-8c4a-c19574a2e47a",
   "metadata": {
    "scrolled": true
   },
   "outputs": [
    {
     "data": {
      "text/html": [
       "<div>\n",
       "<style scoped>\n",
       "    .dataframe tbody tr th:only-of-type {\n",
       "        vertical-align: middle;\n",
       "    }\n",
       "\n",
       "    .dataframe tbody tr th {\n",
       "        vertical-align: top;\n",
       "    }\n",
       "\n",
       "    .dataframe thead th {\n",
       "        text-align: right;\n",
       "    }\n",
       "</style>\n",
       "<table border=\"1\" class=\"dataframe\">\n",
       "  <thead>\n",
       "    <tr style=\"text-align: right;\">\n",
       "      <th></th>\n",
       "      <th>rank_test_score</th>\n",
       "      <th>param_models</th>\n",
       "      <th>mean_test_score</th>\n",
       "      <th>params</th>\n",
       "    </tr>\n",
       "  </thead>\n",
       "  <tbody>\n",
       "    <tr>\n",
       "      <th>6</th>\n",
       "      <td>1</td>\n",
       "      <td>RandomForestClassifier(n_estimators=200, random_state=42)</td>\n",
       "      <td>0.698585</td>\n",
       "      <td>{'preprocessor__num': MinMaxScaler(), 'models__min_samples_leaf': 43, 'models__max_features': 40, 'models__max_depth': 51, 'models': RandomForestClassifier(n_estimators=200, random_state=42)}</td>\n",
       "    </tr>\n",
       "  </tbody>\n",
       "</table>\n",
       "</div>"
      ],
      "text/plain": [
       "   rank_test_score                                               param_models  \\\n",
       "6                1  RandomForestClassifier(n_estimators=200, random_state=42)   \n",
       "\n",
       "   mean_test_score  \\\n",
       "6         0.698585   \n",
       "\n",
       "                                                                                                                                                                                            params  \n",
       "6  {'preprocessor__num': MinMaxScaler(), 'models__min_samples_leaf': 43, 'models__max_features': 40, 'models__max_depth': 51, 'models': RandomForestClassifier(n_estimators=200, random_state=42)}  "
      ]
     },
     "execution_count": 197,
     "metadata": {},
     "output_type": "execute_result"
    }
   ],
   "source": [
    "pd.set_option('display.max_colwidth', None)\n",
    "pd.DataFrame(randomized_search_.cv_results_)[\n",
    "    ['rank_test_score', 'param_models', 'mean_test_score','params']\n",
    "    ].sort_values('rank_test_score')[:1]"
   ]
  },
  {
   "cell_type": "markdown",
   "id": "87d5405d-04d8-45e5-b7ef-69497a7f5b31",
   "metadata": {},
   "source": [
    "<div class=\"alert alert-info\">\n",
    "     Сокращение признаков до 10 с помощью метода k-selector не приводит к увеличению метрики roc_auc на кросс-валидации, которая составила 0,708 \n",
    "(RandomForestClassifier(n_estimators=200, random_state=42)).\n",
    "</div>"
   ]
  },
  {
   "cell_type": "code",
   "execution_count": 198,
   "id": "c9eeed9c-e16b-4c26-b495-06f175ffad23",
   "metadata": {},
   "outputs": [
    {
     "data": {
      "text/plain": [
       "0.7372255166029831"
      ]
     },
     "execution_count": 198,
     "metadata": {},
     "output_type": "execute_result"
    }
   ],
   "source": [
    "y_test_pred =  randomized_search.predict_proba(X_test)[:,1]\n",
    "roc_auc_score(y_test, y_test_pred)"
   ]
  },
  {
   "cell_type": "markdown",
   "id": "510f4cfc-1d2e-4949-9f68-a72174712fa4",
   "metadata": {},
   "source": [
    "<div class=\"alert alert-info\">\n",
    "     Величина метрики roc_auc на тестовой выборке составляет 0,737.\n",
    "</div>"
   ]
  },
  {
   "cell_type": "markdown",
   "id": "fadd4e84-de28-4cfe-b5b0-ae449f005f61",
   "metadata": {},
   "source": [
    "## Выводы\n",
    "   <a id=\"start_3\"></a>"
   ]
  },
  {
   "cell_type": "markdown",
   "id": "3fd84c67-d7c6-43f4-90a5-366f52362d6e",
   "metadata": {},
   "source": [
    "<div class=\"alert alert-info\"> \n",
    " \n",
    "<b>Загрузка и предобработка данных</b>\n",
    "\n",
    "    Все загруженные таблицы отображают верный тип данных и не содержат пропусков. В исходных данных 1, 2 и 3 таблиц было обнаружено и удалено 48610\n",
    "дубликатов.\n",
    "    \n",
    "<b> Подготовка данных </b>\n",
    "\n",
    "     Из 49849 уникальных клиентов только 13 совершали покупки более 10 дней за весь срок наблюдений (641 день). Абсолютное большинство клиентов (42796)\n",
    "пользовались услугами только 1 день (разовые покупки), а также не 2 раз (5285 клиентов). Соответственно, цель должна быть пропорциональна количеству\n",
    "дней, в течение которых клиент делал покупки. Однако, из-за большого количества одинаковых значений, данный признак ('active_days') малоинформативен и \n",
    "нуждается в уточнении.\n",
    "     Абсолютное большинство клиентов (49828) в период наблюдений совершили покупки на сумму не более 100000, а максимальная сумма покупок клиента - 540408.\n",
    "Обшая сумма покупок уникального клиента, по-видимому, пропорциональна цели, поэтому этот признак следует включить в итоговый датафрейм.\n",
    "    Только 9 клиентов в период наблюдений имели более 100 купленных позиций (максимальное число позиций на клиента 346). Количеств приобретенных позиций\n",
    "'num_cost' является признаком активности клиента и, вероятно, пропорционально цели. \n",
    "     Средняя стоимость всех позиций большинства клиентов (49734) менее 10000 (максималоьная стредняя стоимость позиций клиента 53499). Вероятность цели\n",
    "должна увеличиваться с ростом средней стоимости ползиции.\n",
    "    Общее количество единиц товара на одного клиента также может свидетельствовать об его активности и являться признаком, влияющим на цель.\n",
    "    Среднее количество единиц в каждой приобретенной позиции также может являться признаком активности клиента, влияющим на цель.\n",
    "    Более Общие расходы клиента на покупку товаров 'любимых' макрокатегорий является признаком, влияющим на цель.\n",
    "    50 % заказов составляют товары только 2 'любимых' крупных категорий. Можно предположить, что постоянные клиенты покупают товары именно этих 2\n",
    "крупных категорий.\n",
    "    Общие расходы клиента на покупку товаров 'любимых' макрокатегорий является признаком, влияющим на цель.\n",
    "    Также выявлено 100 'любимых' сочетаний макро- и микрокатегорий (около 50 % всех заказов), доля которых в покупках клиентов выявляет склонность \n",
    "клиента к постоянству.\n",
    "    Общие расходы клиента на покупку товаров 100 'любимых' сочетаний макро- и микрокатегорий является признаком, влияющим на цель.\n",
    "    Активность клиента в последние 100 дней наблюдаемого периода связана с целью и может свидетельствовать о снижении вероятности цели \n",
    "(клиент в последний период много покупал, и надобность в покупаках могла не успеть сформироваться в валидационный период). Соответственно, общая сумма\n",
    "покупок клиента в последние 100 дней является признаком, влияющим на цель.\n",
    "    Количество купленных заказов (позиций) клиента в последние 100 дней характеризует его активность перед валидационным периодом, и, соответственно,\n",
    "влияет на цель.\n",
    "    Новые признаки были объеденены в единый датафрейм df_1_f. В качестве признаков были введены также новые поля, характеризующие долю суммы покупок \n",
    "клиентов в последние 100 дней ('ratio_cost'), долю количества позиций, приобретенных клиентом в последние 100 дней ('ratio_num'), долю затрат клиента \n",
    "на 'любимую' макрокатегорию ('ratio_cat_1'), доля трат клиента на 'любимое' сочетание макро- и микрокатегорий ('ratio_cat_2') и доля отправленных\n",
    "сообщений, которая приходится на 1 позицию заказаь клиента. \n",
    "    События в поле 'event' были выделены в 3 группы: позитивные, нейтральные и негативные. Для каждого клиента были найдены доли позитивных, нейтральных \n",
    "и негативных реакций на сообщения, которые являются признаками, влияющими на цель.\n",
    "    Новые признаки добавлены в финальную таблицу df_f. Пропуски в столбцах заменены медианными значениями.\n",
    "    Был получен список из 100 рекламных компаний, которые давали в сумме наиболее успешный результат в последние 100 дней наблюдаемого периода. Для\n",
    "каждого клиента была найдена доля наиболее успешных (в последние 100 дней) рекламных компаний ('rat_comp_pos'), которая, вероятно, будет пропорциональна\n",
    "цели.\n",
    "    Был получен список из 100 рекламных компаний, которые давали в сумме негативный результат в последние 100 дней наблюдаемого периода. Для\n",
    "каждого клиента была найдена доля наиболее провальных (в последние 100 дней) рекламных компаний ('rat_comp_neg'), которая должна обратнопропорционально\n",
    "влиять на цель.\n",
    "    Новые признаки (доли позитивных и негативных рекламных компаний) были добавлены в итоговый датафрейм, а пропуски заменены медианными значениями \n",
    "данных признаков.\n",
    "    При анализе каналов, которые использовались в последние 100 дней наблюдаемого периода, выяснилось, что по совокупности ежедневных уникальных \n",
    "позитивных действий, канал mobile_push на 95 % более эффективен, чем email. Сравнение суммы уникальных негативных действий показывает также, что \n",
    "канал mobile_push имеет на 20 % меньше негативных действий, чем email. \n",
    "    Для каждого клиента была найдена доля сообщений, отправленных через канал push_mobile ('rat_chan'), которая добавлена в финальный датафрейм в \n",
    "в качестве признака, влияющего на цель.\n",
    "    При анализе взаимных корреляций видно, что недопустимая корреляция наблюдается только в парах cost-cost_cat_1 и cost-cost_cat_2. Поэтому из \n",
    "списка признаков colm был удален признак cost.\n",
    "\n",
    "<b> Построение моделей </b>\n",
    "\n",
    "    Проверка классификации на dummy-модели с использование стратегии 'stratified' показывает минимальную точность прогноза, метрика roc_auc порядка 0,5. \n",
    "    Лучшей моделью является RandomForestClassifier(n_estimators=200, random_state=42) с метрикой roc_auc на кросс-валидации: 0,716.  \n",
    "    В наибольшей степени на цель влияют следующие признаки: доля нейтральных событий (rat_ev_neu), доля провальных рекламных компаний (rat_comp_neg),\n",
    "средняя стоимость заказов (avg_cost), количество дней, в течении которых клиент делал покупки (active_days), доля позитивных рекламных компаний \n",
    "(rat_comp_pos), доля позитивных событий (rat_ev_pos), расходы клиента на товары 'любимой' макрокатегории (cost_cat_1) и расходы клиента на товары\n",
    "любимого сочетаний макро- и микрокатегорий (cost_cat_2).\n",
    "     Сокращение признаков до 10 с помощью метода k-selector не приводит к увеличению метрики roc_auc на кросс-валидации, которая составила 0,708 \n",
    "(RandomForestClassifier(n_estimators=200, random_state=42)).\n",
    "    Величина метрики roc_auc на тестовой выборке составляет 0,737."
   ]
  },
  {
   "cell_type": "code",
   "execution_count": null,
   "id": "2424fa43-7942-4c5a-9203-b31ffe432349",
   "metadata": {},
   "outputs": [],
   "source": []
  }
 ],
 "metadata": {
  "kernelspec": {
   "display_name": "Python 3 (ipykernel)",
   "language": "python",
   "name": "python3"
  },
  "language_info": {
   "codemirror_mode": {
    "name": "ipython",
    "version": 3
   },
   "file_extension": ".py",
   "mimetype": "text/x-python",
   "name": "python",
   "nbconvert_exporter": "python",
   "pygments_lexer": "ipython3",
   "version": "3.12.3"
  }
 },
 "nbformat": 4,
 "nbformat_minor": 5
}
